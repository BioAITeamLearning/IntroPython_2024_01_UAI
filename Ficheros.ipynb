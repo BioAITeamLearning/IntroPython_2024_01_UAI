{
  "nbformat": 4,
  "nbformat_minor": 0,
  "metadata": {
    "colab": {
      "provenance": []
    },
    "kernelspec": {
      "name": "python3",
      "display_name": "Python 3"
    },
    "language_info": {
      "name": "python"
    }
  },
  "cells": [
    {
      "cell_type": "markdown",
      "source": [
        "## Manejo de ficheros\n",
        "\n",
        "El manejo de ficheros es una habilidad esencial en Python, especialmente cuando se trabaja con datos almacenados en archivos de texto, CSV, JSON y otros formatos. En esta clase, aprenderemos a leer y escribir archivos, así como a procesar y analizar los datos contenidos en ellos.\n",
        "\n",
        "\n",
        "En diferentes aplicaciones es fundamental realizar manejo de archivos, tanto para el almacenamiento de información como para la carga de información de la aplicación general. Python ofrece un conjunto de funciones que hacen parte de la librería estándar y permiten la manipulación de archivos de texto plano. A continuación veremos el uso de las principales funciones.\n",
        "\n",
        "***Para abrir un archivo:***\n",
        "\n",
        "\n",
        "\n",
        "```\n",
        "filepath = 'ruta_del_archivo'\n",
        "file = open('filepath/filename.txt','modo')\n",
        "```\n",
        "\n",
        "\n",
        "\n",
        "Como se puede observar un archivo puede abrirse en diferentes modos:\n",
        "\n",
        "<img src=https://slideplayer.es/slide/1061251/3/images/5/Modos+de+Archivo+para+fopen.jpg width=600>\n",
        "\n",
        "Para usar esta librería, en primer lugar crearemos un archivo desde cero, esto se puede hacer con los modos (x) o (w). **Verifique cual es la diferencia entre ambos**\n",
        "\n",
        "\n",
        "<img src=\"https://media.istockphoto.com/id/453423435/es/vector/ilustraci%C3%B3n-vectorial-de-llenado-armario-de-metal.jpg?s=612x612&w=0&k=20&c=uWWDQyk1jkZiVMrHRi8v5jfDD6eYQOx-f5fUH_XHiic=\" width=300>"
      ],
      "metadata": {
        "id": "MiSbImvfJrt_"
      }
    },
    {
      "cell_type": "code",
      "source": [
        "# Descarguemos un archivo de prueba\n",
        "!wget https://raw.githubusercontent.com/BioAITeamLearning/IntroPython_2024_01_UAI/main/Data/archivo.txt"
      ],
      "metadata": {
        "colab": {
          "base_uri": "https://localhost:8080/"
        },
        "collapsed": true,
        "id": "MtyvsHjmN8y7",
        "outputId": "88cff6f9-edca-4a9d-c559-f6514e53c8f5"
      },
      "execution_count": 2,
      "outputs": [
        {
          "output_type": "stream",
          "name": "stdout",
          "text": [
            "--2024-06-12 20:52:10--  https://raw.githubusercontent.com/BioAITeamLearning/IntroPython_2024_01_UAI/main/Data/archivo.txt\n",
            "Resolving raw.githubusercontent.com (raw.githubusercontent.com)... 185.199.108.133, 185.199.109.133, 185.199.110.133, ...\n",
            "Connecting to raw.githubusercontent.com (raw.githubusercontent.com)|185.199.108.133|:443... connected.\n",
            "HTTP request sent, awaiting response... 200 OK\n",
            "Length: 41 [text/plain]\n",
            "Saving to: ‘archivo.txt’\n",
            "\n",
            "\rarchivo.txt           0%[                    ]       0  --.-KB/s               \rarchivo.txt         100%[===================>]      41  --.-KB/s    in 0s      \n",
            "\n",
            "2024-06-12 20:52:10 (525 KB/s) - ‘archivo.txt’ saved [41/41]\n",
            "\n"
          ]
        }
      ]
    },
    {
      "cell_type": "code",
      "execution_count": 3,
      "metadata": {
        "colab": {
          "base_uri": "https://localhost:8080/"
        },
        "id": "qw5_QYi-Jbv0",
        "outputId": "02fa491a-530e-454a-b03a-058399b2aba7"
      },
      "outputs": [
        {
          "output_type": "stream",
          "name": "stdout",
          "text": [
            "Hola, este es el contenido de un archivo.\n"
          ]
        }
      ],
      "source": [
        "# Abrir y leer un archivo de texto\n",
        "with open(\"archivo.txt\", \"r\") as archivo:\n",
        "    contenido = archivo.read()\n",
        "    print(contenido)"
      ]
    },
    {
      "cell_type": "code",
      "execution_count": 4,
      "metadata": {
        "colab": {
          "base_uri": "https://localhost:8080/"
        },
        "id": "AcVkuwFxdMhP",
        "outputId": "81bbde11-45f3-4db4-dfb5-aaa128c79dd3"
      },
      "outputs": [
        {
          "output_type": "execute_result",
          "data": {
            "text/plain": [
              "<_io.TextIOWrapper name='sample_data/miArchivo.txt' mode='x' encoding='UTF-8'>"
            ]
          },
          "metadata": {},
          "execution_count": 4
        }
      ],
      "source": [
        "# Crear un archivo\n",
        "folder='sample_data'\n",
        "fileName = 'miArchivo'\n",
        "fileExtension= 'txt'\n",
        "filePath = folder + '/' + fileName + '.' + fileExtension\n",
        "open(filePath,'x')"
      ]
    },
    {
      "cell_type": "markdown",
      "metadata": {
        "id": "2eQeelImh4_j"
      },
      "source": [
        "Podrá verificar que después de ejecutar las líneas anteriores se crea un archivo en la carpeta sample_data. A continuación abriremos el archivo en módulo (w) para escribir algo en él."
      ]
    },
    {
      "cell_type": "code",
      "execution_count": 5,
      "metadata": {
        "id": "Jos0jn17i_eE"
      },
      "outputs": [],
      "source": [
        "file = open(filePath,'w')"
      ]
    },
    {
      "cell_type": "markdown",
      "metadata": {
        "id": "CtzEFBUFktua"
      },
      "source": [
        "Ahora con el archivo abierto, podemos escribir la información que se contenga en otra estructura, por ejemplo una lista.\n",
        "\n",
        "miLista = ['Hola','mundo']"
      ]
    },
    {
      "cell_type": "code",
      "execution_count": 6,
      "metadata": {
        "id": "Uc9YvcNTlIzk"
      },
      "outputs": [],
      "source": [
        "miLista = ['Hola','mundo']\n",
        "for i in range(10):\n",
        "  for palabra in miLista:\n",
        "    file.write(palabra+'\\t')\n",
        "  file.write('\\n')"
      ]
    },
    {
      "cell_type": "markdown",
      "metadata": {
        "id": "9pJnVgV6ll1U"
      },
      "source": [
        "Luego de procesar un archivo es necesario cerrarlo para que esté disponible para otras aplicaciones."
      ]
    },
    {
      "cell_type": "code",
      "execution_count": 7,
      "metadata": {
        "id": "mdZnUSt2lr7s"
      },
      "outputs": [],
      "source": [
        "file.close()"
      ]
    },
    {
      "cell_type": "markdown",
      "metadata": {
        "id": "kqJfKHXGlyfz"
      },
      "source": [
        "En este momento haga el ejercicio de descargar el archivo y abrirlo desde su computador con un bloc de notas. Podra ver algo como lo siguiente:\n",
        "\n",
        "![image.png](data:image/png;base64,iVBORw0KGgoAAAANSUhEUgAAASUAAACOCAYAAAB3yx7uAAAXKUlEQVR4nO3dT2wb2X0H8O+IIuW/6zZe726QtEhRjhdW7QI5FRoCOQRNAVIuoBPR0wpFgeGtGh18inOyelo0HAJBC/LQQgu0BYgWUAqLgwA9BEFFtU3zr1bt2DPJbrLboEmz2c1akiXxz+thyOEMOUPO0CI5tr4fgLBFvpn3Z2Z+eu/NUE/68MMPRbvdhhAC7XYb3f/7vQA4/xIRTcJ8s9lEs9l0AhKDEhHNkqRpGqMMEcXGPAAUi8VZl4OICAAwN+sCEBG5MSgRUawwKBFRrMzt7+/PugxERI65S5cuzboMREQODt+IKFYYlIgoVp47KP39/W/gm//xHTx+76f4y7/9Ozw9OBz6HhHRMPPjbPTR0Qm+/8HPsbv9dfzWm4v44bs/wX9+/wf4zI1b0P+6jGtv/h5+Yb2L+ne+h9+UF/HVvyoj+du/i2ftJMSjR/gd/B8+d+MLp10XInoJRA5KAsB+o4n3D47wyrU38JnPfgYfX7yI5PkLeP3Tn8YHr30aV15/A1g4h6NECuevXsPhK5/CxctX8KuWQOOD9/H0F99mUCIiX5GDUrPdxnGrjUQqhS/+0ZeQkCS89vobOGm1cdJu4w+++Ic4brVw+dVreLXZwnGrhTeVL+DDp/tAu4WTo2d4770fTaIuRPQSiDyn9KzZwrNmCxfmE2i322i1BVqtNlrtNlqtNpqtFpqtFlqtVufzNpqtNprNFuYlCefnE5OoBxG9JCIHpYOTFvZPmricnMfB4TP8+mAfnxzu4+nBAZ4eHGD/4AAH3X8PD3BwcIiDwwPsH+xDnBwjJZ3+HyUwChIkqQBj4BMLpYwEKVOC9dy52PsqDGYSohzxZ5UykCTJ88qUvK1mFAbfm0q5hjU6vXQiB6X9RhP7jSYuppJILSwgmVpAcuEckgsLSC6kML+w4LwSqQXMpxYwl1qAlJjHKxcv4Nrl039YM1sWEKKMbP8H1jaqUKDUq9iewrUUWI7TYBSiBdeo6QFArfX+fpapA5o8NAifGeO0JY1trOHbYaOF84k5NNttNJotnDSaOGk2cdJsodFootFs2a9G599mE41GEwuShMup5CTq4ct4WwPym7ir1qG9zasrkvQa7qpAZYvtRtMVKSgJACftNhrtNhJzEhpNOxg1mk0nMDWaLZw4r6bzb7vdwrmEhEvJ4XNK9hDBsIddnWFEwQBglZBxhhbeIZL/sMLAVkVBfjmN7B0dSmWrb1jVHY4ZKPTts38o4+0tWK6yZeDO1l0OoyANDDusUsbzG3dgyBTQLTEKEqRcBahrkDvp7G3d7dApV8HwTW+3n7e8YSiL8tDPw9RheHv61LWbNlOCOTLPYXXqHuPgYzaqDr5taW/kOh99pgiMQsgyUr9IQanZbqPd+XO4LSEwn0ohmUphPtUZsqUWkEilkEimkEgmMZ9KIZFKQUoksHDuHK5cuojL58+NzKeubQCb9jDC1BVUchKkVWBTCAhhQlcqyI0aVxhbqCh5LKcBpJeRVyrw+6W/t7GFRbM37LJKGcjaTdRcw5hFV/pKbtUpW02tQ1v179ZnV1Rg74nrMwvb1TrUu2tI++UjTOh7Od+LOlsWEDUVUHSYQkCUs0ivbUJXKtjonO1WaRUadJjlrG/6yIwCchUVd9fSgUnC1GFUe3qzlJDb65RZCIi7D5HT6oN5VvO9NLWb0OTh83jDjtmoOgS1pbX9EHnTtQ00yO6AlduD3v28lh/W0tRP0zQR1i8OjsS/fvBL8c/Wz8S//+yX4l/Mn4rao3fF1//7R+IfH5jiH77/WGx+94ei8u2H4mv/tie+uvMD8Rff+p64+41d8eX73xLb//VYPPjBriht/GlgHjUVAmrN/Y5QAeF9SxVQdGG6tlF0UwhPEu97pq707dcUutK/nU9ew9KbulCgim5yb541oUIRzo+etH2fBeyvr0KeOnvT++zPL/0Qpq4I2J1h59XfDkPr51uHYe05UEHf/XnPB7809nEZ75iFPA5h2tKdZthxpJEi9ZQ+Oj5Bo93CucQcWm2BRCqJ+YUUEqkFJJILmEulMJdMIpFMYS6ZgpTs/DyfxOWLF3Dl0kUspFIj8xkcMigYMYrwskrY6AzdutLLeSiVjYFu9M3rrp6AsYUKVKwM6Vh40gMA9vDEt2uexYpaR7Uzw25tV1FXV+xJcGMLFdzEwK7S13EzcH8+0mu4q1aQk3KoqHcxpFMTjnuiW5hY3AgeUoaqQ4j2dFhPsOezP3lR6cuzDk123yWU0deZGhB4zJ7zOHiGfbmKa3u7Z54bMVQlf5GC0sfHDRy32kglJDTbom/uqInjlvfnk2YLJ40WGo0GzifmkJyT0G63J1UXh7VdRb3/5JU11NELEtOQXVFRr27D6g7dQl2d0XQv2lFzP9Glsbap+wbyiTAfYkRs6VBdQ63ea5wR6vjseUjvMFJ1fZ7G2o49VN3LvbiPicxKpKD09KSBk1YbCWnODkqNJo4b9iT3cbP377ETlOz3GicNXEwmsJCYm0JQsgOAopsDJ66pK50gEUBehBKlpzJKdgVqvYptYxvVuqvHEJRPQG8hkFXCqnYTNVMHtNUJBY+A8oSpQ5T2DEhrPqyPTDO2cY+D9QR7UFHbsecH7bf2BtOl17DTmQPd4Ex3aKGDkhDAUVOg0RaABLQAJJJJJJJJzHWGa3PJFKT5JKTO0M1+zUOaT+C1K5dx7ZXLWJj0IwHWNqp179CtK72ch1LXEPh0QHrNfnzAPXFqlVAa+9dcZwi3UQX0O73nl/zygYXSqtZL53e3rP7QdTfKlT69hk0dg5Pu7vSR777Z+3eGnP3C1CFKe3bTuutgFOAeFQXmWRjzGaIwdejytD3gGbZbJay6x5BGYWDYNjiEpCChg9JhqwlJAhKSBAmABIHjoyMcP3uGk6NnaBwdoXF0hObREVrHR2gfH0GcHEGcHOPZwQGSrSZE4wSHR8cTrI79bFK9e9etX3oZeWX4szfZskBNtecD7GFfFXiOkVF2RUW9joEgmS0LmPpeLx9JRjVvYidoYih7x77rKHVv+8vQoGOzkz69dhdqXcNqN+r0pQ+lkvPO1dysDb1zF6YOUdozW+7cxeqm3VqBqSt9afr2J8moLi5j3Es+1HHob8vuL4Hu9MAqsOkevsmLnWFbb3/THV6+2CRN00SYdd/e++QQO//zS3x0fILziQQkCWi1Wmi1BYQA2hBoCYF2W0CSJAgA7XYbJ80WfvXxr/Env5/G4mufwvs/fgDjn76GP//y30y+dkT0wgn9VwIuJRNYvPoKDhpNzEkSIASe7u9jfn4eiUQCgED3W20S7N5UNzAd/sYFXLtwDkK0pzLRTUQvrtBB6dXzC3j1/ILzc6NxgicfvY/W0RGkENt//P7P8TGATz76X1y9em2MohLRWTDWX54EgFazgZ+9+1385EcPcHjwSejtrl69hlu3Pj9utkT0kptvfPLzsTY8d/4ivvTHf3bKxSGis27uk/e/OesyEBE5uMQSEcUKgxIRxcrcrw5nXQQiop657/541kUgIuqZu3r6fzKbiGhsc5//3KyLQETUw4luIooVBiUiihUGJSKKFQYlIooVBiUiihUGJSKKFQYlIooVBiUiipW5c+dfj5Dcgq5IkBR9vNUjfPY1el352a+ZZemKd615SYIkKdCHNIKlK4Nr0oesy9C0RmFk3qfJLov3ddYXWDQKwYsxDPts8k7z+gyRW985flrmLr4RYR0I6z6qWMLSbhX3p1DrbFlAiLL/Ej/T5lk9VkCIOrQITRelLoFpLR3KvRswI+b9vJaK5gwXfgzJKEztYsyuqEBly+eXhoGtCiay6GgoU74+J2UOFz4bOrHx9jqQfwdfUXexHrh4Gk3ObbxT18ZeTohOSXYFKioYWKkryjLlE/CyXJ8R5pQMbFWWkL+dRvZOEUsDvym6wzF7SWP38KN/+OPt8XW6nD5DIqMgQem84dcttnTF89txYJg1xW60Z5ij6H0LF3rr0hXULoFpZbm3Jpqnbt22D27LSRne5v7nhF0/w1XWTt0tHYqzr77hq+cz7xDFKEiQchVgd91uH1cZJnNOZGF3lrz7MuxuktPD9ebtPh6D7fL8hl+fw68fA4X+88XSofQdg1Hn+LBjFEX4oGRsobKUx+00gPRt5Jd8flMAeHBvCzfM3vDD0hXI67d667+bRdxwpa/k3gLesT+rqbtYf8u/ItkVFXjw2PWZhfvVXahfsXsOA/kIE8UHuakEJqMgIfeg2FtX/iuPkFvfHbrNqHYZmjagbmHb8rSELVf/OQEAu+v3nLKaxSVUchKkt4B3uvtZqiDnDi73HyFvuvLBOuTO59mygKipwFLnGHTGl5M8JwaHcBYeP+gN3SxdgVzN986J2i2sy96L3N0uz23E9Tnq+hm5+xDn+LBjFImmaSKMmgqxVDSdn83ikoBac6UwRXHJm0aImlAB4Uk2LL1ZFEtQRTe5N8+aULEknB89afs+C9jfuMzikoC9jF3vtVQU5pC8ayo87TNYl6B2GVFv37qNbstx1dS+ekdqc79zYrBtfNujprra2Ldg3s8H0k/2nIh+PtptYdfRv12eqzQjr8+I5Q1xfQ0ex4FCDT+GAcL1lCwd9zpdw6707TyWKvcGhgi33nTF3RBjbE96AMADPPb99Z7FirqLamcGz7pfxW63q2xsoYJbGNhV+k3cCtxfRP0T3d25HesxHvjkLd9YCt5XlLmHCHUL35bReCe6y5HbfLBcwNKN/rW7lzDwVh/PcChXGZ544ufEqPNxF+uyaygjyejvPPu1y1hCXZ9Dyjty/+HP8UjHKECooGTdr2K3v5HldeyiV8lpyK6o2K3eh9Xtes5qRtHNfIThAzV6fvbci3c4pM66UCPOR9U1bJzsncuw1+fY10+oc/z0jlGIoGRXoP+2sOjMBdiVDCDfwNJp9VQA+67HbhX3jfuo7rp6GkH5BET4UxWQt/loyGGM0i6zrNsw0yyX9RgPoKLmuvNoPX4w+/JFPR8nIsL1GVReP+5AFOYcH+cYBRgdlKz7qO56u4Zd6dt5LO2uI/DuY1qzb0+6J/gsHfrY84ydLui9KlC80+t6+uUDC/pb6950k9DN2z2pbBQwtOcapV1mWbdhpl4u10Vh6XjL70bC7qPeHaGplM8+H9dz696hUFDehQnceIh0ffauH+/QTcaNJfdjBAYK7hM49Dke4hiFMDIoGW+vY7c7q98vfRv5pcFbo27ZskBNrSDndCurwIi5g2GyKyp2dzFwELJlAbP4oJePJKOaN1E/racMK7nAJ5uz5c6dhu5nWyswi0PmlBCtXSZetzFNrVxpDe8U0RuevAW80z80yN6x79i5bvtPo3zZFbsc/UOhgeMryajeuH3qz5hFvT6zd4rALlC84y5vGlq9BtU5x7ewYhbhPoNHnuNhjlFIkqZpolgsjrUxEb1gjAKkezdgxvgh3PlZF4CIpsWCfq+CpbwZ24AE8K8EEJ0J9tPYMtZv1WY+7B+FPSWiMyBbFjiNB8engT0lIoqVeQB4+vTprMtBRASgE5Ta7fasy0FEBKATlK5cuTI0kSRJEEJMpUBEdLZxTomIYoVBiYhihUGJiGKFQYmIYoVBiYhihUGJiGLlBQtK3dUf/F6zX7SSiJ7fCxaUiOhlF2GJpUL4ZZujpI0ki3Lfn/yMwZ9qJqJTxJ4SEcUKgxIRxQqDEhHFysyCkmWUUMhkvHfQMhkUSsZEl5oGLDvvQgaZjOSf//SWsiOiPtMPSpaBQkaCnNNQqde9n9XrqGg5yFLmlCfIe4yCbOddqaM/eyd/OYMSAxPRTEw5KBkoyDlU6gCgQK2ZvdU0hQmzpkIBANRRyU0qMChQVB21mgnTdN/J8+avyXzuiWgWphqUjEIO9vp1CnRzB+Vs2rWqQhrpbBk7pt4LDKulUx/KZcs72CmvIZtNI+35++md/J1nDCoYspwdEU3IWEGpkgt6qrrz8l0e1sBW521F38Ra0IIK6TVs6nZYQr2K7WkPo+TFTlAE9p5wDEc0bdPrKRlbTi8pvzx8iZf0ct7pLT00hyYlopfMWEFJrXmfqh54+TxmbT3Z6/zvJq6PWnYqfR03O/+dSG/FMlDyu/smSZBkDf3z30Q0PWdu3TerlIGsMewQxdXZenjSKLgCkgK9Zg728pyJdiKahakFpfR1Z0CGkSMy6wmcwd7IsV5YFkob3Ql4++7fWjbeyxcTnUXT6yk5d7XqqI64pWZtVzvzOipWsqdVABMPnU5SHiPm2oloRqYXlNLLyHfv9GurwQ9GWiWsdodY6gpOLSZBxmJ3XFZ/CN+bepaBwionuolmaYpzSmmsbboejJQzKBiW6+FIC5ZRQMa5+6WiVj69kASk4YwgUUGu4PqOnWXBKGQgOU+bE9GsTHeiO72GHc9XSWTIzu14GXKuYgckRUVNlAd6SVYpM3ALv/ecZgW5vs/6vz+XLdfgPKxQyfXylmXkKnUAClS9Bp0z3UQzM/27b9kydoSJmq5C6bv4FUW174jtDAakU8ocZWGipireO2yKHYxMcwflNXkiORNROJKmaaJYLA5PJEkQQkypSER0lp2t55SIKPYYlIgoVhiUiChWGJSIKFYYlIgoVhiUiChWGJSIKFZCBSU+o0RE08KeEhHFCoMSEcUKgxIRxQqDEhHFCoMSEcUKgxIRxQqD0gADhc4ff8sE/s1eIpqUuadPn866DEREjrnLly/PugxERA4O34goVhiUiChWGJSIKFZCByWj4F62yEKp0F3uyF6/rZMKhYzket+7j94SSQX0feTOKfDul7N9ptRZs81ery3jXlop4y7PEJaBUv+2koRMZsNZMnz45iUUMn1LPmUyKJRc68kRUXSapokwaioEAKHWTKEr9v97L1XUhN/7itDN3j5MXXGlD8xJqJ3tFffG7u0VXZimLhT059d79W/r2ouoqUrgdiP3YdaEOlDPwXqrwRUkoiEiD9/2Nlah1QG1ZkKI7uKOe9gq+L1fx0Pf9bGfU12D3FlJV1FrMIWAEALC7C02Wdfe9u2NGYXuwpOdbc3OtkJAmCZMZ7FMPwYKziq6CtSa2ctbuLeto5LLBC9NTkTBovaUAAg43YC+3pHP++7exqn1lIb1ZGqq8/lAb8XzWVBPKjj/Xht4e4B9hez14BRdBCUjIn9jTHQr0O90169N4/pNv/cnT9FN7KylBz/Irji9pb0n7q6KhdJGpbsx7mR9th3KwJaz+Sb8sgYApNew2V33u17FNntLRJFED0rqXf8LMuj9iVBxN3JmJh7aozYo+WVELqqxBTsmKcgvD986vZx3hnETGb4SvcTOziMB1hPnrtrN69Gjp/XE2RojN09fR7cD6e2tEdEoZycomQ9Rn3UZiGiksxOUiOiFcHaCkrw45Fb/aGlnRn8PI0dkzzlUJDrLZhSUgi9sq7TRmVA+Za55nspW0PPkFkqZnH/+TlCrozrilpq1Xe0MFVWsTO+GJNFLYapBqdfb8L8rZRkFyNqkZn6yWOk+K1DZ8nmw0oJRkBGYfXoZ+e6dfm01+MFIq4TV7k7UFTAmEUUz3Z6S6xmiSq6A3lfU7O+wybmJ9JFc2Tu5I5cp9fK3DBQyMnIVAKoO3Xecl8bapu70ljTZ/o5dLzZZsIwCMp0nzQEVtTJDElFUUx6+ZXHHueIryMndL7N2v/qhQDfNgKBwGtmXYToPNmq9/LtfHVF0mOXl4O3Ta9jxfJVEhiz16iDnKnZAUlTURJm9JKIxTH1OKb22A7OmQ/UEHqXzHbYdrKXdT4lPKn8Vijt/xf4em9hZG/1QZbaMHWGipvftA4CiqNBrJsQOAxLRuCRN00SxWJx1OYiIAJylRwKI6IXAoEREscKgRESxwqBERLHCoEREscKgRESxwqBERLHCoEREscKgRESxwqBERLHCoEREscKgRESx8v/RWOtN0K4vyQAAAABJRU5ErkJggg==)"
      ]
    },
    {
      "cell_type": "markdown",
      "metadata": {
        "id": "7ugy5ZUGmtZ0"
      },
      "source": [
        "A partir de este archivo se pueden agregar nuevas líneas, para ello utilizaremos el modo (a), supongamos la siguiente tupla:\n",
        "\n",
        "miTupla = ('Loren','ipsum','dolor','at','met')"
      ]
    },
    {
      "cell_type": "code",
      "execution_count": 8,
      "metadata": {
        "id": "Z75ntpD4psBi"
      },
      "outputs": [],
      "source": [
        "miTupla = ('Loren','ipsum','dolor','at','met')\n",
        "file = open(filePath,'a')\n",
        "for palabra in miTupla:\n",
        "  file.write(palabra+' ')\n",
        "file.close()"
      ]
    },
    {
      "cell_type": "code",
      "source": [
        "with open(filePath, \"w\") as archivo:\n",
        "    archivo.write(\"Hola, este es un archivo de texto.\\n\")\n",
        "    archivo.write(\"Esta es una segunda línea.\")"
      ],
      "metadata": {
        "id": "TnTjZGObT7jV"
      },
      "execution_count": 17,
      "outputs": []
    },
    {
      "cell_type": "markdown",
      "source": [
        "### Ejemplo 1:\n",
        "\n",
        "Escribe un programa que cree un archivo de texto, escriba varias líneas, y luego lo lea e imprima su contenido."
      ],
      "metadata": {
        "id": "eYUq53pwUFVh"
      }
    },
    {
      "cell_type": "code",
      "source": [
        "with open(\"mi_archivo.txt\", \"w\") as archivo:\n",
        "    archivo.write(\"Primera línea.\\n\")\n",
        "    archivo.write(\"Segunda línea.\\n\")\n",
        "    archivo.write(\"Tercera línea.\\n\")"
      ],
      "metadata": {
        "id": "42z_3wohUK4Y"
      },
      "execution_count": 18,
      "outputs": []
    },
    {
      "cell_type": "code",
      "source": [
        "# Leer el archivo de texto\n",
        "with open(\"mi_archivo.txt\", \"r\") as archivo:\n",
        "    contenido = archivo.read()\n",
        "    print(contenido)"
      ],
      "metadata": {
        "colab": {
          "base_uri": "https://localhost:8080/"
        },
        "id": "lGMEcseKUMaZ",
        "outputId": "577f975c-592a-4f43-f210-31ab4fe447e5"
      },
      "execution_count": 19,
      "outputs": [
        {
          "output_type": "stream",
          "name": "stdout",
          "text": [
            "Primera línea.\n",
            "Segunda línea.\n",
            "Tercera línea.\n",
            "\n"
          ]
        }
      ]
    },
    {
      "cell_type": "markdown",
      "metadata": {
        "id": "e_Rqpk6JSTWd"
      },
      "source": [
        "### Lectura de archivos\n",
        "\n",
        "Ahora que ya tenemos un archivo creado y con contenido podemos abrirlo para leerlo."
      ]
    },
    {
      "cell_type": "code",
      "execution_count": 9,
      "metadata": {
        "colab": {
          "base_uri": "https://localhost:8080/"
        },
        "id": "zUEa2vteyJuZ",
        "outputId": "79b89f38-bac8-4959-d74e-11a528ddc85a"
      },
      "outputs": [
        {
          "output_type": "stream",
          "name": "stdout",
          "text": [
            "Hola\tmundo\t\n",
            "\n",
            "Hola\tmundo\t\n",
            "\n",
            "Hola\tmundo\t\n",
            "\n",
            "Hola\tmundo\t\n",
            "\n",
            "Hola\tmundo\t\n",
            "\n",
            "Hola\tmundo\t\n",
            "\n",
            "Hola\tmundo\t\n",
            "\n",
            "Hola\tmundo\t\n",
            "\n",
            "Hola\tmundo\t\n",
            "\n",
            "Hola\tmundo\t\n",
            "\n",
            "Loren ipsum dolor at met \n",
            "['Hola\\tmundo\\t\\n', 'Hola\\tmundo\\t\\n', 'Hola\\tmundo\\t\\n', 'Hola\\tmundo\\t\\n', 'Hola\\tmundo\\t\\n', 'Hola\\tmundo\\t\\n', 'Hola\\tmundo\\t\\n', 'Hola\\tmundo\\t\\n', 'Hola\\tmundo\\t\\n', 'Hola\\tmundo\\t\\n', 'Loren ipsum dolor at met ']\n"
          ]
        }
      ],
      "source": [
        "file = open(filePath,'r')\n",
        "lista = list()\n",
        "for linea in file:\n",
        "  #print(type(linea))\n",
        "  lista.append(linea)\n",
        "  print(linea)\n",
        "\n",
        "file.close()\n",
        "print(lista)"
      ]
    },
    {
      "cell_type": "markdown",
      "metadata": {
        "id": "dIgv-X7TynJM"
      },
      "source": [
        "### Lecto - escritura de archivos\n",
        "Existen modos de lectoescritura como w+, r+ y a+\n"
      ]
    },
    {
      "cell_type": "code",
      "execution_count": 10,
      "metadata": {
        "colab": {
          "base_uri": "https://localhost:8080/"
        },
        "id": "6E59VDJHyiV9",
        "outputId": "a6661bf6-7596-4398-f254-74362284918d"
      },
      "outputs": [
        {
          "output_type": "stream",
          "name": "stdout",
          "text": [
            "['Hola\\tmundo\\t\\n', 'Hola\\tmundo\\t\\n', 'Hola\\tmundo\\t\\n', 'Hola\\tmundo\\t\\n', 'Hola\\tmundo\\t\\n', 'Hola\\tmundo\\t\\n', 'Hola\\tmundo\\t\\n', 'Hola\\tmundo\\t\\n', 'Hola\\tmundo\\t\\n', 'Hola\\tmundo\\t\\n', 'Loren ipsum dolor at met ']\n",
            "<class 'list'>\n"
          ]
        }
      ],
      "source": [
        "## Lecto - escritura de archivos\n",
        "f=open(filePath,\"r+\")\n",
        "x=f.readlines()\n",
        "print(x)\n",
        "print(type(x))\n",
        "f.write(\"\\n Esto es otra línea\")\n",
        "f.close()"
      ]
    },
    {
      "cell_type": "markdown",
      "source": [
        "### Leyendo archivos JSON\n",
        "Estos archivos se utilizan ampliamente en APIs de sitios web. En apariencia son similares a los diccionarios de Python, pues almacenan los datos a manera de clave y valor. Al igual que en el caso de CSV la mejor alternativa para leer estos archivos es mediante Pandas. En este caso utilizaremos el archivo **anscombe.json**"
      ],
      "metadata": {
        "id": "jOqMmhlUTjjO"
      }
    },
    {
      "cell_type": "code",
      "source": [
        "import json\n",
        "\n",
        "with open('sample_data/anscombe.json') as json_file:\n",
        "    data = json.load(json_file)\n",
        "    print(data)"
      ],
      "metadata": {
        "colab": {
          "base_uri": "https://localhost:8080/"
        },
        "id": "3W9nGYl-TofZ",
        "outputId": "dbc7093b-f282-4f15-f012-1e0e30de5c81"
      },
      "execution_count": 15,
      "outputs": [
        {
          "output_type": "stream",
          "name": "stdout",
          "text": [
            "[{'Series': 'I', 'X': 10.0, 'Y': 8.04}, {'Series': 'I', 'X': 8.0, 'Y': 6.95}, {'Series': 'I', 'X': 13.0, 'Y': 7.58}, {'Series': 'I', 'X': 9.0, 'Y': 8.81}, {'Series': 'I', 'X': 11.0, 'Y': 8.33}, {'Series': 'I', 'X': 14.0, 'Y': 9.96}, {'Series': 'I', 'X': 6.0, 'Y': 7.24}, {'Series': 'I', 'X': 4.0, 'Y': 4.26}, {'Series': 'I', 'X': 12.0, 'Y': 10.84}, {'Series': 'I', 'X': 7.0, 'Y': 4.81}, {'Series': 'I', 'X': 5.0, 'Y': 5.68}, {'Series': 'II', 'X': 10.0, 'Y': 9.14}, {'Series': 'II', 'X': 8.0, 'Y': 8.14}, {'Series': 'II', 'X': 13.0, 'Y': 8.74}, {'Series': 'II', 'X': 9.0, 'Y': 8.77}, {'Series': 'II', 'X': 11.0, 'Y': 9.26}, {'Series': 'II', 'X': 14.0, 'Y': 8.1}, {'Series': 'II', 'X': 6.0, 'Y': 6.13}, {'Series': 'II', 'X': 4.0, 'Y': 3.1}, {'Series': 'II', 'X': 12.0, 'Y': 9.13}, {'Series': 'II', 'X': 7.0, 'Y': 7.26}, {'Series': 'II', 'X': 5.0, 'Y': 4.74}, {'Series': 'III', 'X': 10.0, 'Y': 7.46}, {'Series': 'III', 'X': 8.0, 'Y': 6.77}, {'Series': 'III', 'X': 13.0, 'Y': 12.74}, {'Series': 'III', 'X': 9.0, 'Y': 7.11}, {'Series': 'III', 'X': 11.0, 'Y': 7.81}, {'Series': 'III', 'X': 14.0, 'Y': 8.84}, {'Series': 'III', 'X': 6.0, 'Y': 6.08}, {'Series': 'III', 'X': 4.0, 'Y': 5.39}, {'Series': 'III', 'X': 12.0, 'Y': 8.15}, {'Series': 'III', 'X': 7.0, 'Y': 6.42}, {'Series': 'III', 'X': 5.0, 'Y': 5.73}, {'Series': 'IV', 'X': 8.0, 'Y': 6.58}, {'Series': 'IV', 'X': 8.0, 'Y': 5.76}, {'Series': 'IV', 'X': 8.0, 'Y': 7.71}, {'Series': 'IV', 'X': 8.0, 'Y': 8.84}, {'Series': 'IV', 'X': 8.0, 'Y': 8.47}, {'Series': 'IV', 'X': 8.0, 'Y': 7.04}, {'Series': 'IV', 'X': 8.0, 'Y': 5.25}, {'Series': 'IV', 'X': 19.0, 'Y': 12.5}, {'Series': 'IV', 'X': 8.0, 'Y': 5.56}, {'Series': 'IV', 'X': 8.0, 'Y': 7.91}, {'Series': 'IV', 'X': 8.0, 'Y': 6.89}]\n"
          ]
        }
      ]
    },
    {
      "cell_type": "markdown",
      "source": [
        "### Escribiendo archivos JSON"
      ],
      "metadata": {
        "id": "EoDzNkd1UajS"
      }
    },
    {
      "cell_type": "code",
      "source": [
        "import json\n",
        "\n",
        "# Escribir en un archivo JSON\n",
        "datos = {\n",
        "    \"nombre\": \"Ana\",\n",
        "    \"edad\": 30,\n",
        "    \"ciudad\": \"Madrid\"\n",
        "}\n",
        "\n",
        "with open(\"archivo.json\", \"w\") as archivo:\n",
        "    json.dump(datos, archivo, indent=4)"
      ],
      "metadata": {
        "id": "g_8kwtg3Tt8Q"
      },
      "execution_count": 20,
      "outputs": []
    },
    {
      "cell_type": "markdown",
      "source": [
        "### Escribiendo archivos csv\n",
        "\n"
      ],
      "metadata": {
        "id": "VK3DA6rIUjEz"
      }
    },
    {
      "cell_type": "code",
      "source": [
        "import csv\n",
        "\n",
        "# Escribir en un archivo CSV\n",
        "with open(\"archivo.csv\", \"w\", newline='') as archivo:\n",
        "    escritor_csv = csv.writer(archivo)\n",
        "    escritor_csv.writerow([\"Nombre\", \"Edad\", \"Ciudad\"])\n",
        "    escritor_csv.writerow([\"Ana\", 30, \"Madrid\"])\n",
        "    escritor_csv.writerow([\"Carlos\", 25, \"Barcelona\"])"
      ],
      "metadata": {
        "id": "llndGyxKUd-c"
      },
      "execution_count": 21,
      "outputs": []
    },
    {
      "cell_type": "markdown",
      "source": [
        "### Leyendo archivos csv\n"
      ],
      "metadata": {
        "id": "-qa3THuGUsRq"
      }
    },
    {
      "cell_type": "code",
      "source": [
        "import csv\n",
        "\n",
        "# Leer un archivo CSV\n",
        "with open(\"archivo.csv\", \"r\") as archivo:\n",
        "    lector_csv = csv.reader(archivo)\n",
        "    for fila in lector_csv:\n",
        "        print(fila)"
      ],
      "metadata": {
        "colab": {
          "base_uri": "https://localhost:8080/"
        },
        "id": "G9Fyec4ZUqJ2",
        "outputId": "de881c89-557e-4a4c-8ac2-013323d40a6c"
      },
      "execution_count": 22,
      "outputs": [
        {
          "output_type": "stream",
          "name": "stdout",
          "text": [
            "['Nombre', 'Edad', 'Ciudad']\n",
            "['Ana', '30', 'Madrid']\n",
            "['Carlos', '25', 'Barcelona']\n"
          ]
        }
      ]
    },
    {
      "cell_type": "markdown",
      "source": [
        "### Ejemplo:\n",
        "\n",
        "Escribe un programa que cree un archivo CSV, escriba varias filas de datos, y luego lo lea e imprima su contenido."
      ],
      "metadata": {
        "id": "Mycw-FxOVky5"
      }
    },
    {
      "cell_type": "code",
      "source": [
        "import csv\n",
        "\n",
        "# Escribir en un archivo CSV\n",
        "with open(\"datos.csv\", \"w\", newline='') as archivo:\n",
        "    escritor_csv = csv.writer(archivo)\n",
        "    escritor_csv.writerow([\"Nombre\", \"Edad\", \"Ciudad\"])\n",
        "    escritor_csv.writerow([\"Ana\", 30, \"Madrid\"])\n",
        "    escritor_csv.writerow([\"Carlos\", 25, \"Barcelona\"])\n",
        "    escritor_csv.writerow([\"Beatriz\", 28, \"Valencia\"])\n",
        "\n",
        "# Leer el archivo CSV\n",
        "with open(\"datos.csv\", \"r\") as archivo:\n",
        "    lector_csv = csv.reader(archivo)\n",
        "    for fila in lector_csv:\n",
        "        print(fila)"
      ],
      "metadata": {
        "colab": {
          "base_uri": "https://localhost:8080/"
        },
        "id": "OY4qQQsFViuv",
        "outputId": "57c9997e-7a98-4635-b6fd-bdbd7b87d4ea"
      },
      "execution_count": 24,
      "outputs": [
        {
          "output_type": "stream",
          "name": "stdout",
          "text": [
            "['Nombre', 'Edad', 'Ciudad']\n",
            "['Ana', '30', 'Madrid']\n",
            "['Carlos', '25', 'Barcelona']\n",
            "['Beatriz', '28', 'Valencia']\n"
          ]
        }
      ]
    },
    {
      "cell_type": "markdown",
      "source": [
        "### Ejemplo de análisis de datos desde un archivo csv\n",
        "\n",
        "Supongamos que tenemos un archivo CSV con datos de empleados y queremos calcular la edad promedio."
      ],
      "metadata": {
        "id": "sz1PdCLtVw0L"
      }
    },
    {
      "cell_type": "code",
      "source": [
        "# Descarguemos un archivo de prueba\n",
        "!wget https://raw.githubusercontent.com/BioAITeamLearning/IntroPython_2024_01_UAI/main/Data/empleados.csv"
      ],
      "metadata": {
        "colab": {
          "base_uri": "https://localhost:8080/"
        },
        "collapsed": true,
        "id": "5ZiUY6gLZf9L",
        "outputId": "d5fca1a8-5adf-4efc-acc9-fb7ef1a99087"
      },
      "execution_count": 34,
      "outputs": [
        {
          "output_type": "stream",
          "name": "stdout",
          "text": [
            "--2024-06-12 21:41:37--  https://raw.githubusercontent.com/BioAITeamLearning/IntroPython_2024_01_UAI/main/Data/empleados.csv\n",
            "Resolving raw.githubusercontent.com (raw.githubusercontent.com)... 185.199.108.133, 185.199.109.133, 185.199.110.133, ...\n",
            "Connecting to raw.githubusercontent.com (raw.githubusercontent.com)|185.199.108.133|:443... connected.\n",
            "HTTP request sent, awaiting response... 200 OK\n",
            "Length: 557 [text/plain]\n",
            "Saving to: ‘empleados.csv’\n",
            "\n",
            "\rempleados.csv         0%[                    ]       0  --.-KB/s               \rempleados.csv       100%[===================>]     557  --.-KB/s    in 0s      \n",
            "\n",
            "2024-06-12 21:41:37 (20.5 MB/s) - ‘empleados.csv’ saved [557/557]\n",
            "\n"
          ]
        }
      ]
    },
    {
      "cell_type": "code",
      "source": [
        "import csv\n",
        "\n",
        "# Leer datos de empleados y calcular la edad promedio\n",
        "with open(\"empleados.csv\", \"r\") as archivo:\n",
        "    lector_csv = csv.DictReader(archivo)\n",
        "    total_edad = 0\n",
        "    contador = 0\n",
        "    for fila in lector_csv:\n",
        "        total_edad += int(fila[\"Edad\"])\n",
        "        contador += 1\n",
        "\n",
        "    edad_promedio = total_edad / contador\n",
        "    print(f\"Edad promedio: {edad_promedio}\")"
      ],
      "metadata": {
        "colab": {
          "base_uri": "https://localhost:8080/"
        },
        "id": "T_yOlCeeVqnF",
        "outputId": "5407b333-9450-48d8-b8c5-6a65952dd933"
      },
      "execution_count": 35,
      "outputs": [
        {
          "output_type": "stream",
          "name": "stdout",
          "text": [
            "Edad promedio: 30.133333333333333\n"
          ]
        }
      ]
    },
    {
      "cell_type": "markdown",
      "source": [
        "### Ejemplo de análisis de datos desde un archivo JSON\n",
        "\n",
        "Supongamos que tenemos un archivo JSON con datos de varios productos y queremos calcular el precio total de todos los productos.\n"
      ],
      "metadata": {
        "id": "zCNXxJ7hWCpe"
      }
    },
    {
      "cell_type": "code",
      "source": [
        "# Descarguemos un archivo de prueba\n",
        "!wget https://raw.githubusercontent.com/BioAITeamLearning/IntroPython_2024_01_UAI/main/Data/productos.json"
      ],
      "metadata": {
        "colab": {
          "base_uri": "https://localhost:8080/"
        },
        "collapsed": true,
        "id": "OJU43a9eZnCo",
        "outputId": "bd506ff5-53be-4c01-fb99-dc48276a8b89"
      },
      "execution_count": 36,
      "outputs": [
        {
          "output_type": "stream",
          "name": "stdout",
          "text": [
            "--2024-06-12 21:42:00--  https://raw.githubusercontent.com/BioAITeamLearning/IntroPython_2024_01_UAI/main/Data/productos.json\n",
            "Resolving raw.githubusercontent.com (raw.githubusercontent.com)... 185.199.108.133, 185.199.109.133, 185.199.110.133, ...\n",
            "Connecting to raw.githubusercontent.com (raw.githubusercontent.com)|185.199.108.133|:443... connected.\n",
            "HTTP request sent, awaiting response... 200 OK\n",
            "Length: 1369 (1.3K) [text/plain]\n",
            "Saving to: ‘productos.json’\n",
            "\n",
            "\rproductos.json        0%[                    ]       0  --.-KB/s               \rproductos.json      100%[===================>]   1.34K  --.-KB/s    in 0s      \n",
            "\n",
            "2024-06-12 21:42:00 (64.5 MB/s) - ‘productos.json’ saved [1369/1369]\n",
            "\n"
          ]
        }
      ]
    },
    {
      "cell_type": "code",
      "source": [
        "import json\n",
        "\n",
        "# Leer datos de productos y calcular el precio total\n",
        "with open(\"productos.json\", \"r\") as archivo:\n",
        "    productos = json.load(archivo)\n",
        "    total_precio = sum(producto[\"precio\"] for producto in productos)\n",
        "    print(f\"Precio total: {total_precio}\")"
      ],
      "metadata": {
        "colab": {
          "base_uri": "https://localhost:8080/"
        },
        "id": "tjI3BzUDWJt1",
        "outputId": "2fdd06ea-e8b7-4a11-c3f9-c4f241f834b5"
      },
      "execution_count": 37,
      "outputs": [
        {
          "output_type": "stream",
          "name": "stdout",
          "text": [
            "Precio total: 370.0\n"
          ]
        }
      ]
    },
    {
      "cell_type": "markdown",
      "source": [
        "## Ejercicio 1: Registro y Análisis de Asistencia\n",
        "\n",
        "Crea un programa para gestionar el registro de asistencia de empleados en una institución pública. El programa debe permitir:\n",
        "\n",
        "1.\tGuardar los datos de asistencia en un archivo CSV.\n",
        "2.\tLeer y mostrar los datos de asistencia desde el archivo.\n",
        "3.\tCalcular y mostrar el porcentaje de asistencia de cada empleado."
      ],
      "metadata": {
        "id": "L4XattJYWOAL"
      }
    },
    {
      "cell_type": "code",
      "source": [
        "# Descarguemos un archivo de prueba\n",
        "!wget https://raw.githubusercontent.com/BioAITeamLearning/IntroPython_2024_01_UAI/main/Data/asistencia.csv"
      ],
      "metadata": {
        "colab": {
          "base_uri": "https://localhost:8080/"
        },
        "collapsed": true,
        "id": "UiemoT2EZv-Q",
        "outputId": "78c2562a-a5b9-4516-cab1-b21582d5fd8e"
      },
      "execution_count": 57,
      "outputs": [
        {
          "output_type": "stream",
          "name": "stdout",
          "text": [
            "--2024-06-12 21:47:08--  https://raw.githubusercontent.com/BioAITeamLearning/IntroPython_2024_01_UAI/main/Data/asistencia.csv\n",
            "Resolving raw.githubusercontent.com (raw.githubusercontent.com)... 185.199.108.133, 185.199.109.133, 185.199.110.133, ...\n",
            "Connecting to raw.githubusercontent.com (raw.githubusercontent.com)|185.199.108.133|:443... connected.\n",
            "HTTP request sent, awaiting response... 200 OK\n",
            "Length: 704 [text/plain]\n",
            "Saving to: ‘asistencia.csv.1’\n",
            "\n",
            "\rasistencia.csv.1      0%[                    ]       0  --.-KB/s               \rasistencia.csv.1    100%[===================>]     704  --.-KB/s    in 0s      \n",
            "\n",
            "2024-06-12 21:47:08 (44.0 MB/s) - ‘asistencia.csv.1’ saved [704/704]\n",
            "\n"
          ]
        }
      ]
    },
    {
      "cell_type": "code",
      "source": [
        "import csv\n",
        "\n",
        "def agregar_asistencia(archivo, nombre, fecha, presente):\n",
        "    with open(archivo, \"a\", newline='') as archivo_csv:\n",
        "        escritor_csv = csv.writer(archivo_csv)\n",
        "        escritor_csv.writerow([nombre, fecha, presente])\n"
      ],
      "metadata": {
        "id": "D4-Qn3MLWNmY"
      },
      "execution_count": 58,
      "outputs": []
    },
    {
      "cell_type": "code",
      "source": [
        "def leer_asistencia(archivo):\n",
        "    with open(archivo, \"r\") as archivo_csv:\n",
        "        lector_csv = csv.reader(archivo_csv)\n",
        "        for fila in lector_csv:\n",
        "            print(fila)"
      ],
      "metadata": {
        "id": "YjWubktdWMTd"
      },
      "execution_count": 59,
      "outputs": []
    },
    {
      "cell_type": "code",
      "source": [
        "def calcular_asistencia(archivo):\n",
        "    with open(archivo, \"r\") as archivo_csv:\n",
        "        lector_csv = csv.reader(archivo_csv)\n",
        "        empleados = {}\n",
        "        for fila in lector_csv:\n",
        "            nombre, _, presente = fila\n",
        "            if nombre not in empleados:\n",
        "                empleados[nombre] = {\"asistencias\": 0, \"total\": 0}\n",
        "            empleados[nombre][\"total\"] += 1\n",
        "            if presente == \"True\":\n",
        "                empleados[nombre][\"asistencias\"] += 1\n",
        "\n",
        "        for nombre, datos in empleados.items():\n",
        "            porcentaje_asistencia = (datos[\"asistencias\"] / datos[\"total\"]) * 100\n",
        "            print(f\"{nombre}: {porcentaje_asistencia:.2f}% de asistencia\")"
      ],
      "metadata": {
        "id": "TzWoeObnWkBH"
      },
      "execution_count": 60,
      "outputs": []
    },
    {
      "cell_type": "code",
      "source": [
        "# Agregar registros de asistencia\n",
        "agregar_asistencia(\"asistencia.csv\", \"Juan\", \"2023-06-01\", True)\n",
        "agregar_asistencia(\"asistencia.csv\", \"Ana\", \"2023-06-01\", True)\n",
        "agregar_asistencia(\"asistencia.csv\", \"Carlos\", \"2023-06-01\", False)\n",
        "agregar_asistencia(\"asistencia.csv\", \"Juan\", \"2023-06-02\", False)\n",
        "agregar_asistencia(\"asistencia.csv\", \"Ana\", \"2023-06-02\", True)"
      ],
      "metadata": {
        "id": "6EGLPh72Wm5g"
      },
      "execution_count": 61,
      "outputs": []
    },
    {
      "cell_type": "code",
      "source": [
        "# Leer y mostrar los registros de asistencia\n",
        "leer_asistencia(\"asistencia.csv\")"
      ],
      "metadata": {
        "colab": {
          "base_uri": "https://localhost:8080/"
        },
        "id": "M9wF1H18WpAW",
        "outputId": "f6c8aee9-ffd9-4148-970a-a8ce26c0dc7c"
      },
      "execution_count": 62,
      "outputs": [
        {
          "output_type": "stream",
          "name": "stdout",
          "text": [
            "['Juan', '2023-06-01', 'True']\n",
            "['Ana', '2023-06-01', 'True']\n",
            "['Carlos', '2023-06-01', 'False']\n",
            "['Juan', '2023-06-02', 'False']\n",
            "['Ana', '2023-06-02', 'True']\n",
            "['Juan', '2023-06-01', 'True']\n",
            "['Ana', '2023-06-01', 'True']\n",
            "['Carlos', '2023-06-01', 'False']\n",
            "['Juan', '2023-06-02', 'False']\n",
            "['Ana', '2023-06-02', 'True']\n"
          ]
        }
      ]
    },
    {
      "cell_type": "code",
      "source": [
        "# Calcular y mostrar el porcentaje de asistencia de cada empleado\n",
        "calcular_asistencia(\"asistencia.csv\")"
      ],
      "metadata": {
        "colab": {
          "base_uri": "https://localhost:8080/"
        },
        "id": "5DzKLWsrWrEG",
        "outputId": "cbcde9eb-775f-465b-8011-050660d0fae0"
      },
      "execution_count": 63,
      "outputs": [
        {
          "output_type": "stream",
          "name": "stdout",
          "text": [
            "Juan: 50.00% de asistencia\n",
            "Ana: 100.00% de asistencia\n",
            "Carlos: 0.00% de asistencia\n"
          ]
        }
      ]
    },
    {
      "cell_type": "markdown",
      "source": [
        "## Reto 2: Gestión de Inventario de Equipos\n",
        "\n",
        "Crea un programa para gestionar el inventario de equipos en una institución pública. El programa debe permitir:\n",
        "\n",
        "1.\tGuardar los datos del inventario en un archivo JSON.\n",
        "2.\tLeer y mostrar los datos del inventario desde el archivo.\n",
        "3.\tCalcular y mostrar el valor total del inventario.\n"
      ],
      "metadata": {
        "id": "7TqFSi7hWzlL"
      }
    },
    {
      "cell_type": "code",
      "source": [
        "# Descarguemos un archivo de prueba\n",
        "!wget https://raw.githubusercontent.com/BioAITeamLearning/IntroPython_2024_01_UAI/main/Data/inventario.json"
      ],
      "metadata": {
        "colab": {
          "base_uri": "https://localhost:8080/"
        },
        "collapsed": true,
        "id": "6SHiimwGX6LT",
        "outputId": "6df57b18-ef3d-4491-ab97-fe77ab6ec3f0"
      },
      "execution_count": 67,
      "outputs": [
        {
          "output_type": "stream",
          "name": "stdout",
          "text": [
            "--2024-06-12 21:47:42--  https://raw.githubusercontent.com/BioAITeamLearning/IntroPython_2024_01_UAI/main/Data/inventario.json\n",
            "Resolving raw.githubusercontent.com (raw.githubusercontent.com)... 185.199.108.133, 185.199.109.133, 185.199.110.133, ...\n",
            "Connecting to raw.githubusercontent.com (raw.githubusercontent.com)|185.199.108.133|:443... connected.\n",
            "HTTP request sent, awaiting response... 200 OK\n",
            "Length: 2982 (2.9K) [text/plain]\n",
            "Saving to: ‘inventario.json.1’\n",
            "\n",
            "\rinventario.json.1     0%[                    ]       0  --.-KB/s               \rinventario.json.1   100%[===================>]   2.91K  --.-KB/s    in 0s      \n",
            "\n",
            "2024-06-12 21:47:42 (16.1 MB/s) - ‘inventario.json.1’ saved [2982/2982]\n",
            "\n"
          ]
        }
      ]
    },
    {
      "cell_type": "code",
      "source": [
        "import json\n",
        "\n",
        "def agregar_equipo(archivo, equipo):\n",
        "    try:\n",
        "        with open(archivo, \"r\") as archivo_json:\n",
        "            inventario = json.load(archivo_json)\n",
        "    except FileNotFoundError:\n",
        "        inventario = []\n",
        "\n",
        "    inventario.append(equipo)\n",
        "\n",
        "    with open(archivo, \"w\") as archivo_json:\n",
        "        json.dump(inventario, archivo_json, indent=4)"
      ],
      "metadata": {
        "id": "wF32VgMGW1Zf"
      },
      "execution_count": 64,
      "outputs": []
    },
    {
      "cell_type": "code",
      "source": [
        "def leer_inventario(archivo):\n",
        "    with open(archivo, \"r\") as archivo_json:\n",
        "        inventario = json.load(archivo_json)\n",
        "        for equipo in inventario:\n",
        "            print(equipo)"
      ],
      "metadata": {
        "id": "8G78dn7tW-Hq"
      },
      "execution_count": 65,
      "outputs": []
    },
    {
      "cell_type": "code",
      "source": [
        "def calcular_valor_total(archivo):\n",
        "    with open(archivo, \"r\") as archivo_json:\n",
        "        inventario = json.load(archivo_json)\n",
        "        valor_total = sum(equipo[\"valor\"] for equipo in inventario)\n",
        "        print(f\"Valor total del inventario: {valor_total}\")"
      ],
      "metadata": {
        "id": "u4U10tanXACA"
      },
      "execution_count": 66,
      "outputs": []
    },
    {
      "cell_type": "code",
      "source": [
        "# Agregar equipos al inventario\n",
        "agregar_equipo(\"inventario.json\", {\"nombre\": \"Computadora\", \"marca\": \"Dell\", \"modelo\": \"Inspiron\", \"año\": 2021, \"valor\": 800})\n",
        "agregar_equipo(\"inventario.json\", {\"nombre\": \"Impresora\", \"marca\": \"HP\",\"modelo\": \"LaserJet\", \"año\": 2019, \"valor\": 200})\n",
        "agregar_equipo(\"inventario.json\", {\"nombre\": \"Escáner\", \"marca\": \"Epson\", \"modelo\": \"Perfection\", \"año\": 2020, \"valor\": 150})"
      ],
      "metadata": {
        "id": "b1G_lQAXXBt8"
      },
      "execution_count": 68,
      "outputs": []
    },
    {
      "cell_type": "code",
      "source": [
        "# Leer y mostrar los datos del inventario\n",
        "leer_inventario(\"inventario.json\")"
      ],
      "metadata": {
        "colab": {
          "base_uri": "https://localhost:8080/"
        },
        "id": "EVrnjt-gXNPY",
        "outputId": "340dfc30-3ee8-4284-d4b9-698478d49168"
      },
      "execution_count": 69,
      "outputs": [
        {
          "output_type": "stream",
          "name": "stdout",
          "text": [
            "{'nombre': 'Computadora', 'marca': 'Dell', 'modelo': 'Inspiron', 'año': 2021, 'valor': 800}\n",
            "{'nombre': 'Impresora', 'marca': 'HP', 'modelo': 'LaserJet', 'año': 2019, 'valor': 200}\n",
            "{'nombre': 'Escáner', 'marca': 'Epson', 'modelo': 'Perfection', 'año': 2020, 'valor': 150}\n",
            "{'nombre': 'Computadora', 'marca': 'Dell', 'modelo': 'Inspiron', 'año': 2021, 'valor': 800}\n",
            "{'nombre': 'Impresora', 'marca': 'HP', 'modelo': 'LaserJet', 'año': 2019, 'valor': 200}\n",
            "{'nombre': 'Escáner', 'marca': 'Epson', 'modelo': 'Perfection', 'año': 2020, 'valor': 150}\n"
          ]
        }
      ]
    },
    {
      "cell_type": "code",
      "source": [
        "calcular_valor_total(\"inventario.json\")"
      ],
      "metadata": {
        "colab": {
          "base_uri": "https://localhost:8080/"
        },
        "id": "XEulUmDSXTQD",
        "outputId": "7f2df70b-3817-47a6-dd03-101a6b932862"
      },
      "execution_count": 70,
      "outputs": [
        {
          "output_type": "stream",
          "name": "stdout",
          "text": [
            "Valor total del inventario: 2300\n"
          ]
        }
      ]
    },
    {
      "cell_type": "markdown",
      "source": [
        "## Reto 1: Sistema de Gestión de Evaluaciones de Desempeño\n",
        "\n",
        "Crea un programa que gestione las evaluaciones de desempeño de empleados en una institución pública. El programa debe permitir:\n",
        "\n",
        "1.\tGuardar los datos de las evaluaciones en un archivo JSON.\n",
        "2.\tLeer y mostrar los datos de las evaluaciones desde el archivo.\n",
        "3.\tCalcular y mostrar el puntaje promedio de desempeño por departamento.\n",
        "\n",
        "**Requisitos:**\n",
        "\n",
        "*\tCada evaluación debe contener el nombre del empleado, departamento, fecha de evaluación y puntaje.\n",
        "*\tEl programa debe ser capaz de agregar nuevas evaluaciones, actualizar puntajes de evaluaciones existentes y eliminar evaluaciones.\n",
        "*\tDebe calcular el puntaje promedio de desempeño por departamento y mostrar un resumen de todos los empleados y sus evaluaciones."
      ],
      "metadata": {
        "id": "YqxYUujgduuM"
      }
    },
    {
      "cell_type": "code",
      "source": [
        "# Descarguemos un archivo de prueba\n",
        "!wget https://raw.githubusercontent.com/BioAITeamLearning/IntroPython_2024_01_UAI/main/Data/evaluaciones.json"
      ],
      "metadata": {
        "id": "WvXb4MqKfKLn"
      },
      "execution_count": null,
      "outputs": []
    },
    {
      "cell_type": "code",
      "source": [
        "# Tu código va acá"
      ],
      "metadata": {
        "id": "3XN_awrod0VE"
      },
      "execution_count": 71,
      "outputs": []
    },
    {
      "cell_type": "markdown",
      "source": [
        "## Reto 2: Sistema de Gestión de Proyectos de Infraestructura\n",
        "\n",
        "Crea un programa que gestione los proyectos de infraestructura en una institución pública. El programa debe permitir:\n",
        "\n",
        "1.\tGuardar los datos de los proyectos en un archivo CSV.\n",
        "2.\tLeer y mostrar los datos de los proyectos desde el archivo.\n",
        "3.\tCalcular y mostrar el presupuesto total de los proyectos por estado (planificado, en curso, completado).\n",
        "\n",
        "**Requisitos:**\n",
        "\n",
        "*\tCada proyecto debe contener el nombre del proyecto, descripción, fecha de inicio, fecha de fin, estado y presupuesto.\n",
        "*\tEl programa debe ser capaz de agregar nuevos proyectos, actualizar el estado y presupuesto de proyectos existentes y eliminar proyectos.\n",
        "*\tDebe calcular el presupuesto total por estado y mostrar un resumen de todos los proyectos."
      ],
      "metadata": {
        "id": "AWEx_kygd3fK"
      }
    },
    {
      "cell_type": "code",
      "source": [
        "# Descarguemos un archivo de prueba\n",
        "!wget https://raw.githubusercontent.com/BioAITeamLearning/IntroPython_2024_01_UAI/main/Data/proyectos.csv"
      ],
      "metadata": {
        "id": "YLlXQ0cSfqaw"
      },
      "execution_count": null,
      "outputs": []
    },
    {
      "cell_type": "code",
      "source": [
        "# Tu código va acá"
      ],
      "metadata": {
        "id": "UnTdNuPzd3Hw"
      },
      "execution_count": null,
      "outputs": []
    }
  ]
}