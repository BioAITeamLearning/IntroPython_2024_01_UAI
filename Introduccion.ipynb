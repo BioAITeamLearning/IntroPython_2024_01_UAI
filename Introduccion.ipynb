{
  "cells": [
    {
      "cell_type": "markdown",
      "metadata": {
        "id": "xVKHfH7IrnmW"
      },
      "source": [
        "# Primeros pasos\n",
        "\n",
        "* Python es un lenguaje de programación de alto nivel, interpretado y de propósito general.\n",
        "\n",
        "* Fue creado por Guido van Rossum y lanzado por primera vez en 1991.\n",
        "* Es conocido por su sintaxis clara y su enfoque en la legibilidad del código, lo que lo hace ideal para principiantes y profesionales.\n",
        "\n",
        "<img src=\"https://prepinstadotcom.s3.ap-south-1.amazonaws.com/wp-content/uploads/2020/07/python-removebg-preview.webp\" width=200>\n",
        "\n",
        "## Entorno de trabajo\n",
        "\n",
        "Colab, o “Colaboratory”, te permite escribir y ejecutar código de Python en tu navegador, con:\n",
        "\n",
        "* Una configuración lista para que empieces a programar\n",
        "* Acceso gratuito a GPU\n",
        "* Facilidad para compartir\n",
        "\n",
        "Seas **estudiante**, **científico de datos** o **investigador de IA**, Colab facilita tu trabajo.\n",
        "\n",
        "<img src=\"https://colab.research.google.com/img/colab_favicon_256px.png\">"
      ]
    },
    {
      "cell_type": "markdown",
      "metadata": {
        "id": "qWCVeYNctZwj"
      },
      "source": [
        "## Hola Mundo en python"
      ]
    },
    {
      "cell_type": "code",
      "execution_count": null,
      "metadata": {
        "id": "YGfe9LXCrThA"
      },
      "outputs": [],
      "source": [
        "print(\"Hola Mundo!\")"
      ]
    },
    {
      "cell_type": "markdown",
      "metadata": {
        "id": "hconX_hktIA9"
      },
      "source": [
        "A fin de ejecutar el código en la celda anterior, haz clic en él para seleccionarlo y luego presiona el botón de reproducción ubicado a la izquierda del código o usa la combinación de teclas “Command/Ctrl + Intro”. Para editar el código, solo haz clic en la celda y comienza a editar."
      ]
    },
    {
      "cell_type": "code",
      "execution_count": null,
      "metadata": {
        "id": "jG2ZCRahtHv_"
      },
      "outputs": [],
      "source": [
        "# Escribe el código para imprimir un saludo personalizado con tu nombre..."
      ]
    },
    {
      "cell_type": "markdown",
      "metadata": {
        "id": "8vr3Q_a0t_Bo"
      },
      "source": [
        "## ¿Qué son variables?\n",
        "\n",
        "En Python, una variable es un contenedor para almacenar datos.\n",
        "Los tipos de datos básicos incluyen enteros **(int)**, flotantes **(float)**, cadenas **(str)** y booleanos **(bool)**.\n",
        "\n",
        "<img src=\"https://static.platzi.com/media/user_upload/variables-en-programacion-607799e5-10f1-44d7-abb3-58e8c0be0f58.jpg\">"
      ]
    },
    {
      "cell_type": "code",
      "execution_count": 1,
      "metadata": {
        "id": "TSg_sQe3t-xp"
      },
      "outputs": [],
      "source": [
        "# Vamos a crear nuestra primer variable\n",
        "x = 5"
      ]
    },
    {
      "cell_type": "code",
      "execution_count": 2,
      "metadata": {
        "colab": {
          "base_uri": "https://localhost:8080/"
        },
        "id": "TM7HPo8vvExp",
        "outputId": "bbb7d982-9d4a-44f6-85ec-7fa1e613cd68"
      },
      "outputs": [
        {
          "name": "stdout",
          "output_type": "stream",
          "text": [
            "5\n"
          ]
        }
      ],
      "source": [
        "# Veamos ahora el contenido de la variable\n",
        "print(x)"
      ]
    },
    {
      "cell_type": "code",
      "execution_count": 3,
      "metadata": {
        "colab": {
          "base_uri": "https://localhost:8080/"
        },
        "id": "Hg_qtvzyvI_f",
        "outputId": "f4fee654-96c3-48af-b807-1e6ab4456fd7"
      },
      "outputs": [
        {
          "data": {
            "text/plain": [
              "int"
            ]
          },
          "execution_count": 3,
          "metadata": {},
          "output_type": "execute_result"
        }
      ],
      "source": [
        "# ¿Cómo validar el tipo de variable que es?\n",
        "type(x)"
      ]
    },
    {
      "cell_type": "markdown",
      "metadata": {
        "id": "bEPK8O9QvYjJ"
      },
      "source": [
        "## Tipos de variables\n",
        "\n",
        "Existen muchas formas de almacenar información en variables."
      ]
    },
    {
      "cell_type": "code",
      "execution_count": 4,
      "metadata": {
        "colab": {
          "base_uri": "https://localhost:8080/"
        },
        "id": "rMI2djfKvV7j",
        "outputId": "43b744a4-d01f-4422-c9ba-52b1295b668a"
      },
      "outputs": [
        {
          "name": "stdout",
          "output_type": "stream",
          "text": [
            "2\n"
          ]
        }
      ],
      "source": [
        "# Números enteros\n",
        "\n",
        "a = 2\n",
        "print(a)"
      ]
    },
    {
      "cell_type": "code",
      "execution_count": 5,
      "metadata": {
        "colab": {
          "base_uri": "https://localhost:8080/"
        },
        "id": "xVmAyGr5wbid",
        "outputId": "2dbb3bd3-8a8d-4214-c4a1-5666d712d717"
      },
      "outputs": [
        {
          "name": "stdout",
          "output_type": "stream",
          "text": [
            "12.5\n"
          ]
        }
      ],
      "source": [
        "# Números reales\n",
        "\n",
        "b = 12.5\n",
        "print(b)"
      ]
    },
    {
      "cell_type": "code",
      "execution_count": 6,
      "metadata": {
        "colab": {
          "base_uri": "https://localhost:8080/"
        },
        "id": "Qj9tCerQwgxH",
        "outputId": "36946d1c-5308-409b-d062-67c2b266b15f"
      },
      "outputs": [
        {
          "name": "stdout",
          "output_type": "stream",
          "text": [
            "A\n"
          ]
        }
      ],
      "source": [
        "# String (Cadena de caracteres)\n",
        "\n",
        "# Veamos como declarar letras\n",
        "\n",
        "letra = \"A\"\n",
        "print(letra)"
      ]
    },
    {
      "cell_type": "code",
      "execution_count": 7,
      "metadata": {
        "colab": {
          "base_uri": "https://localhost:8080/"
        },
        "id": "NfAg-YiRxHCu",
        "outputId": "7e7e088d-fdb7-4342-848a-8d5f6186e08f"
      },
      "outputs": [
        {
          "name": "stdout",
          "output_type": "stream",
          "text": [
            "Andres\n"
          ]
        }
      ],
      "source": [
        "# Ahora texto más largo\n",
        "\n",
        "nombre = \"Andres\"\n",
        "print(nombre)"
      ]
    },
    {
      "cell_type": "code",
      "execution_count": 8,
      "metadata": {
        "colab": {
          "base_uri": "https://localhost:8080/"
        },
        "id": "_Ln1qd6xxPIz",
        "outputId": "63279792-0a63-4655-e42b-ff29fe1ebdd1"
      },
      "outputs": [
        {
          "name": "stdout",
          "output_type": "stream",
          "text": [
            "Este es un ejemplo de frase muy larga\n"
          ]
        }
      ],
      "source": [
        "# Una frase completa\n",
        "frase_completa = \"Este es un ejemplo de frase muy larga\"\n",
        "print(frase_completa)"
      ]
    },
    {
      "cell_type": "code",
      "execution_count": 10,
      "metadata": {
        "colab": {
          "base_uri": "https://localhost:8080/"
        },
        "id": "8rWU7mJGx76R",
        "outputId": "ce6121f0-88ef-4fad-94da-5003307de5f8"
      },
      "outputs": [
        {
          "name": "stdout",
          "output_type": "stream",
          "text": [
            " Este es un bloque de texto\n",
            "que me permite escribir texto en varias lineas \n",
            "\n",
            "y poder colocar bloques grandes de texto\n",
            "\n",
            "- también se pueden colocar viñetas\n",
            "- listado de elementos y muchas otras cosas\n",
            "\n",
            "este texto tiene 9 líneas\n",
            "\n",
            "\n"
          ]
        }
      ],
      "source": [
        "# Texto con saltos de linea demasiado largos\n",
        "\n",
        "bloque_texto = \"\"\" Este es un bloque de texto\n",
        "que me permite escribir texto en varias lineas\n",
        "\n",
        "y poder colocar bloques grandes de texto\n",
        "\n",
        "- también se pueden colocar viñetas\n",
        "- listado de elementos y muchas otras cosas\n",
        "\n",
        "este texto tiene 9 líneas\n",
        "\n",
        "\"\"\"\n",
        "\n",
        "print(bloque_texto)"
      ]
    },
    {
      "cell_type": "code",
      "execution_count": 11,
      "metadata": {
        "colab": {
          "base_uri": "https://localhost:8080/"
        },
        "id": "eVGqIWVl1MQA",
        "outputId": "28a03c05-7de3-42cc-fd8c-70de8cc7d014"
      },
      "outputs": [
        {
          "name": "stdout",
          "output_type": "stream",
          "text": [
            "True\n"
          ]
        }
      ],
      "source": [
        "# Booleanos\n",
        "\n",
        "bandera = True\n",
        "print(bandera)"
      ]
    },
    {
      "cell_type": "code",
      "execution_count": 12,
      "metadata": {
        "colab": {
          "base_uri": "https://localhost:8080/"
        },
        "id": "d9Mi-WZg1VPg",
        "outputId": "6a5f8d09-5076-4aa8-f2a1-223779e8d0cc"
      },
      "outputs": [
        {
          "name": "stdout",
          "output_type": "stream",
          "text": [
            "False\n"
          ]
        }
      ],
      "source": [
        "# Booleanos 2\n",
        "\n",
        "esEstudiante = False\n",
        "print(esEstudiante)"
      ]
    },
    {
      "cell_type": "code",
      "execution_count": 13,
      "metadata": {
        "colab": {
          "base_uri": "https://localhost:8080/"
        },
        "id": "V3fmH0jt1c5c",
        "outputId": "7cf92088-59fb-4702-c67e-fc9bd4d85767"
      },
      "outputs": [
        {
          "name": "stdout",
          "output_type": "stream",
          "text": [
            "True\n",
            "<class 'bool'>\n"
          ]
        }
      ],
      "source": [
        "# Booleanos\n",
        "\n",
        "tieneCertificado = bool(1) # bool(0)\n",
        "print(tieneCertificado)\n",
        "print(type(tieneCertificado))"
      ]
    },
    {
      "cell_type": "code",
      "execution_count": 15,
      "metadata": {
        "colab": {
          "base_uri": "https://localhost:8080/"
        },
        "id": "QEtIe6fg4kai",
        "outputId": "dbd86491-04a2-4566-8d8b-afaaa2ac1407"
      },
      "outputs": [
        {
          "name": "stdout",
          "output_type": "stream",
          "text": [
            "[3, 2.8, 5, 'hola', True, [1, 5, 6]]\n",
            "<class 'list'>\n"
          ]
        }
      ],
      "source": [
        "# Listas\n",
        "\n",
        "lista = [ 3, 2.8, 5, 'hola', True, [1,5,6] ]\n",
        "print(lista)\n",
        "print(type(lista))"
      ]
    },
    {
      "cell_type": "markdown",
      "metadata": {
        "id": "9tUlPwIe5D9Z"
      },
      "source": [
        "<img src=\"https://s3-us-west-2.amazonaws.com/devcodepro/media/tutorials/listas-python-t1.jpg\" width=400>"
      ]
    },
    {
      "cell_type": "markdown",
      "metadata": {
        "id": "79zn-st2_jzN"
      },
      "source": [
        "### Imprimir texto dando formato a la salida\n",
        "\n",
        "Existen diferentes formas de imprimir el contenido de las variables en python y dar un formato específico a los que se quiere mostrar por pantalla"
      ]
    },
    {
      "cell_type": "code",
      "execution_count": 16,
      "metadata": {
        "colab": {
          "base_uri": "https://localhost:8080/"
        },
        "id": "VRYvD4JE_jYx",
        "outputId": "10f483a4-c48e-4b5f-9b64-a759660f0ab3"
      },
      "outputs": [
        {
          "name": "stdout",
          "output_type": "stream",
          "text": [
            "Hola, mi nombre es:\n",
            "Alvaro\n"
          ]
        }
      ],
      "source": [
        "# 1. Usar varios comandos print\n",
        "nombre = \"Alvaro\"\n",
        "print(\"Hola, mi nombre es:\")\n",
        "print(nombre)"
      ]
    },
    {
      "cell_type": "code",
      "execution_count": 17,
      "metadata": {
        "colab": {
          "base_uri": "https://localhost:8080/"
        },
        "id": "k0aF1HObAZBi",
        "outputId": "8bb676ba-1580-4c7d-c8b9-d62320932e51"
      },
      "outputs": [
        {
          "name": "stdout",
          "output_type": "stream",
          "text": [
            "Hola, soy  Alvaro y tengo  25 años\n"
          ]
        }
      ],
      "source": [
        "# 2. Utilizar comas (,) para separar el contenido\n",
        "nombre = \"Alvaro\"\n",
        "edad = 25\n",
        "print(\"Hola, soy \",nombre,\"y tengo \", edad, \"años\")"
      ]
    },
    {
      "cell_type": "code",
      "execution_count": 19,
      "metadata": {
        "colab": {
          "base_uri": "https://localhost:8080/"
        },
        "id": "gimJbhyrCcCq",
        "outputId": "0ba26c25-1630-453a-f36b-838c0ddc675c"
      },
      "outputs": [
        {
          "name": "stdout",
          "output_type": "stream",
          "text": [
            "El estudiante Álvaro, Jefe de proyecto tiene 18 años y un promedio de 4.5 \n"
          ]
        }
      ],
      "source": [
        "# 3. Utilizar un formatted string\n",
        "nombre = \"Álvaro\"\n",
        "edad = 18\n",
        "cargo = \"Jefe de proyecto\"\n",
        "promedio = 4.5\n",
        "\n",
        "cadena = f\"El estudiante {nombre}, {cargo} tiene {edad} años y un promedio de {promedio} \"\n",
        "print(cadena)"
      ]
    },
    {
      "cell_type": "markdown",
      "metadata": {
        "id": "I3R0dslOykwZ"
      },
      "source": [
        "### Ejercicio 1.\n",
        "\n",
        "Crea una variable llamada 'edad' y asígnale el valor de tu edad. Imprime el valor y el tipo de dato.\n"
      ]
    },
    {
      "cell_type": "code",
      "execution_count": null,
      "metadata": {
        "id": "Pi8iftNXx_fa"
      },
      "outputs": [],
      "source": [
        "# Escribe tu solución acá."
      ]
    },
    {
      "cell_type": "markdown",
      "metadata": {
        "id": "zov6KUx10Lip"
      },
      "source": [
        "### Ejercicio 2.\n",
        "\n",
        "Imagina que estás desarrollando un programa para recopilar y analizar información personal básica de empleados de una institución pública. Este programa debe ser capaz de almacenar datos personales, verificar ciertos atributos y realizar algunas operaciones básicas con ellos. Los datos que necesitas recolectar incluyen la edad, la altura, el cargo de la persona y si la persona está actualmente estudiando.\n",
        "\n",
        "**Crea variables para almacenar la información de 3 colaboradores e imprimir la información de ellos.**"
      ]
    },
    {
      "cell_type": "code",
      "execution_count": null,
      "metadata": {
        "id": "iWgIKhBD1D-8"
      },
      "outputs": [],
      "source": [
        "# Escribe tu solución acá."
      ]
    },
    {
      "cell_type": "markdown",
      "metadata": {
        "id": "pEWLqfkdFglt"
      },
      "source": [
        "## Operaciones Aritméticas\n",
        "\n",
        "<img src=\"https://miro.medium.com/v2/resize:fit:1400/1*7U1Sp-DucFUUF9XECXPbyQ.png\" width=600>"
      ]
    },
    {
      "cell_type": "code",
      "execution_count": 21,
      "metadata": {
        "colab": {
          "base_uri": "https://localhost:8080/"
        },
        "id": "lH91tBwAFi9X",
        "outputId": "89d6876e-7be4-4c28-c8d9-4866ddd178e4"
      },
      "outputs": [
        {
          "name": "stdout",
          "output_type": "stream",
          "text": [
            "Suma =  9\n",
            "Resta =  -1\n"
          ]
        }
      ],
      "source": [
        "# Suma y resta\n",
        "print(\"Suma = \", 4+5)\n",
        "print(\"Resta = \", 4-5)"
      ]
    },
    {
      "cell_type": "code",
      "execution_count": 24,
      "metadata": {
        "colab": {
          "base_uri": "https://localhost:8080/"
        },
        "id": "4bp1lYOtGnpd",
        "outputId": "d806a210-6f01-42ed-f7ed-24853537c2da"
      },
      "outputs": [
        {
          "name": "stdout",
          "output_type": "stream",
          "text": [
            "Multiplicación =  30\n",
            "División =  3.3333333333333335\n",
            "División entera =  3\n"
          ]
        }
      ],
      "source": [
        "# Multiplicación y División\n",
        "\n",
        "a = 10\n",
        "b = 3\n",
        "\n",
        "print(\"Multiplicación = \", a*b)\n",
        "print(\"División = \", a/b)\n",
        "print(\"División entera = \", a//b)"
      ]
    },
    {
      "cell_type": "code",
      "execution_count": 22,
      "metadata": {
        "colab": {
          "base_uri": "https://localhost:8080/"
        },
        "id": "EZqtw85_GpUz",
        "outputId": "996df5a7-4d3f-4ddf-82f0-a3905853852e"
      },
      "outputs": [
        {
          "name": "stdout",
          "output_type": "stream",
          "text": [
            "Residuo =  1\n",
            "Potencia =  8\n",
            "Raiz =  1.4142135623730951\n"
          ]
        }
      ],
      "source": [
        "# Otras operaciones\n",
        "print(\"Residuo = \", 10%3)\n",
        "print(\"Potencia = \", 2**3)\n",
        "print(\"Raiz = \", 2**0.5)"
      ]
    },
    {
      "cell_type": "code",
      "execution_count": 23,
      "metadata": {
        "colab": {
          "base_uri": "https://localhost:8080/"
        },
        "id": "K9N1KQsoGyAF",
        "outputId": "a257508d-984d-4976-d11f-9b285d27403c"
      },
      "outputs": [
        {
          "name": "stdout",
          "output_type": "stream",
          "text": [
            "Redondear números=  3.867\n",
            "Valor Absoluto=  4\n",
            "Convertir número a decimal=  3.5\n"
          ]
        }
      ],
      "source": [
        "# Funciones útiles para operaciones aritméticas\n",
        "print(\"Redondear números= \",round(3.867483,3))\n",
        "print(\"Valor Absoluto= \",abs(-4))\n",
        "print(\"Convertir número a decimal= \",float('3.5'))"
      ]
    },
    {
      "cell_type": "markdown",
      "metadata": {
        "id": "7vqC6nzrHWZQ"
      },
      "source": [
        "## Casteo de variables\n",
        "\n",
        "El casteo de variables es el proceso de convertir una variable de un tipo a otro.\n",
        "\n",
        "Este proceso permite transformar la información, modificarla y realizar operaciones entre variables.\n",
        "<img src=\"https://img.freepik.com/vector-premium/icono-cambio-moneda-o-cambio-dinero-efectivo-dolar-euro-concepto-banca-vector-ilustracion-dibujos-animados-plana-imagen-aislada_101884-1412.jpg\" width=400>\n"
      ]
    },
    {
      "cell_type": "code",
      "execution_count": 25,
      "metadata": {
        "colab": {
          "base_uri": "https://localhost:8080/"
        },
        "id": "AWgLg2BpG_dW",
        "outputId": "9c1cf2d6-7128-4bc7-ca6f-ece424305a95"
      },
      "outputs": [
        {
          "name": "stdout",
          "output_type": "stream",
          "text": [
            "123\n",
            "<class 'int'>\n"
          ]
        }
      ],
      "source": [
        "# De cadena a entero\n",
        "cadena = \"123\"\n",
        "entero = int(cadena)\n",
        "print(entero)  # Salida: 123\n",
        "print(type(entero))  # Salida: <class 'int'>"
      ]
    },
    {
      "cell_type": "code",
      "execution_count": 26,
      "metadata": {
        "colab": {
          "base_uri": "https://localhost:8080/"
        },
        "id": "u-rqejDql-SA",
        "outputId": "8a5aad5b-ef9a-4184-dd2a-27f651909d54"
      },
      "outputs": [
        {
          "name": "stdout",
          "output_type": "stream",
          "text": [
            "5.0\n",
            "<class 'float'>\n"
          ]
        }
      ],
      "source": [
        "# De entero a flotante\n",
        "entero = 5\n",
        "flotante = float(entero)\n",
        "print(flotante)  # Salida: 5.0\n",
        "print(type(flotante))  # Salida: <class 'float'>"
      ]
    },
    {
      "cell_type": "code",
      "execution_count": 27,
      "metadata": {
        "colab": {
          "base_uri": "https://localhost:8080/"
        },
        "id": "4SvGjvFyl_nU",
        "outputId": "2a5a3962-20b8-4527-82df-6a2626ac8c0d"
      },
      "outputs": [
        {
          "name": "stdout",
          "output_type": "stream",
          "text": [
            "3.14\n",
            "<class 'str'>\n"
          ]
        }
      ],
      "source": [
        "# De flotante a cadena\n",
        "flotante = 3.14\n",
        "cadena = str(flotante)\n",
        "print(cadena)  # Salida: '3.14'\n",
        "print(type(cadena))  # Salida: <class 'str'>"
      ]
    },
    {
      "cell_type": "code",
      "execution_count": 28,
      "metadata": {
        "colab": {
          "base_uri": "https://localhost:8080/"
        },
        "id": "JI7gT9LWmBUc",
        "outputId": "d1a7a92c-caa7-4369-bb94-0dd17f52d756"
      },
      "outputs": [
        {
          "name": "stdout",
          "output_type": "stream",
          "text": [
            "False\n",
            "<class 'bool'>\n"
          ]
        }
      ],
      "source": [
        "# De entero a booleano\n",
        "entero = 0\n",
        "booleano = bool(entero)\n",
        "print(booleano)  # Salida: False\n",
        "print(type(booleano))  # Salida: <class 'bool'>"
      ]
    },
    {
      "cell_type": "markdown",
      "metadata": {
        "id": "Siyh_iHTmL5e"
      },
      "source": [
        "### Ejercicio\n",
        "\n",
        "Imagina que estás recopilando datos de una encuesta y necesitas asegurarte de que todos los valores numéricos se traten correctamente. Si los datos se ingresan como cadenas (por ejemplo, desde un formulario web), necesitarás convertir esos valores a enteros o flotantes para realizar cálculos.\n"
      ]
    },
    {
      "cell_type": "code",
      "execution_count": null,
      "metadata": {
        "id": "Bo2IIdu-mBr-"
      },
      "outputs": [],
      "source": [
        "# Datos de entrada como cadenas\n",
        "edad_cadena = \"30\"\n",
        "altura_cadena = \"1.75\"\n",
        "\n",
        "# Tu código acá.\n"
      ]
    },
    {
      "cell_type": "markdown",
      "metadata": {
        "id": "WN70Ou82pd2Q"
      },
      "source": [
        "## Operaciones lógicas y relacionales\n",
        "\n",
        "En programación, las operaciones lógicas son utilizadas para tomar decisiones basadas en condiciones. Estas operaciones devuelven valores booleanos (True o False). Python ofrece varios operadores lógicos que nos permiten realizar estas evaluaciones.\n",
        "\n",
        "<img src=\"https://programacionpython.wordpress.com/wp-content/uploads/2008/07/signos1.jpg\">\n",
        "\n"
      ]
    },
    {
      "cell_type": "code",
      "execution_count": 30,
      "metadata": {
        "colab": {
          "base_uri": "https://localhost:8080/"
        },
        "id": "EFfcl5EosrFd",
        "outputId": "bb9a65e1-cbca-4954-a7c5-4e988048a477"
      },
      "outputs": [
        {
          "data": {
            "text/plain": [
              "True"
            ]
          },
          "execution_count": 30,
          "metadata": {},
          "output_type": "execute_result"
        }
      ],
      "source": [
        "5<6"
      ]
    },
    {
      "cell_type": "code",
      "execution_count": 31,
      "metadata": {
        "colab": {
          "base_uri": "https://localhost:8080/"
        },
        "id": "_K0BJKHbst5z",
        "outputId": "3dc3456c-9c2d-4503-c91a-3ff3267612c1"
      },
      "outputs": [
        {
          "data": {
            "text/plain": [
              "False"
            ]
          },
          "execution_count": 31,
          "metadata": {},
          "output_type": "execute_result"
        }
      ],
      "source": [
        "'Hola' == 'Holaa'"
      ]
    },
    {
      "cell_type": "code",
      "execution_count": 32,
      "metadata": {
        "colab": {
          "base_uri": "https://localhost:8080/"
        },
        "id": "N71ENZilsxkG",
        "outputId": "2bb9f522-a9e1-4c76-f680-51b0838528b8"
      },
      "outputs": [
        {
          "data": {
            "text/plain": [
              "True"
            ]
          },
          "execution_count": 32,
          "metadata": {},
          "output_type": "execute_result"
        }
      ],
      "source": [
        "1 != 0"
      ]
    },
    {
      "cell_type": "code",
      "execution_count": 33,
      "metadata": {
        "colab": {
          "base_uri": "https://localhost:8080/"
        },
        "id": "ivxAg19Js02H",
        "outputId": "f7cbb78a-45f0-4ff6-a28d-84b6d2c1a53f"
      },
      "outputs": [
        {
          "data": {
            "text/plain": [
              "False"
            ]
          },
          "execution_count": 33,
          "metadata": {},
          "output_type": "execute_result"
        }
      ],
      "source": [
        "True == False"
      ]
    },
    {
      "cell_type": "markdown",
      "metadata": {
        "id": "A8MsmkN5sGo-"
      },
      "source": [
        "### AND\n",
        "\n",
        "*Este operador devuelve True si ambas condiciones son **True**.*\n",
        "\n",
        "<img src=\"https://www.circuitspedia.com/wp-content/uploads/2018/12/AND-gate-..gif\">\n"
      ]
    },
    {
      "cell_type": "code",
      "execution_count": 29,
      "metadata": {
        "colab": {
          "base_uri": "https://localhost:8080/"
        },
        "id": "YoJGB4-rp7MS",
        "outputId": "d44eabe0-61d1-4bca-8635-496801569556"
      },
      "outputs": [
        {
          "name": "stdout",
          "output_type": "stream",
          "text": [
            "True\n"
          ]
        }
      ],
      "source": [
        "resultado = (5 > 3) and (10 < 20)\n",
        "print(resultado)"
      ]
    },
    {
      "cell_type": "markdown",
      "metadata": {
        "id": "MtBohmRMsSQP"
      },
      "source": [
        "### OR\n",
        "\n",
        "*Este operador devuelve True si al menos una de las condiciones es **True**.*\n",
        "\n",
        "<img src=\"https://miro.medium.com/v2/resize:fit:1000/0*9yrqkCGWlHgadEtI.gif\">"
      ]
    },
    {
      "cell_type": "code",
      "execution_count": 34,
      "metadata": {
        "colab": {
          "base_uri": "https://localhost:8080/"
        },
        "id": "w9e0EBu-sVe-",
        "outputId": "fc0bc910-13e7-40ae-a409-85b0717b8afe"
      },
      "outputs": [
        {
          "name": "stdout",
          "output_type": "stream",
          "text": [
            "True\n"
          ]
        }
      ],
      "source": [
        "resultado = (5 > 3) or (10 > 20)\n",
        "print(resultado)"
      ]
    },
    {
      "cell_type": "markdown",
      "metadata": {
        "id": "s2J21WFltviP"
      },
      "source": [
        "### NOT\n",
        "\n",
        "Este operador invierte el valor de una condición.\n",
        "\n",
        "<img src=\"https://upload.wikimedia.org/wikipedia/commons/9/9f/Not-gate-en.svg\">"
      ]
    },
    {
      "cell_type": "code",
      "execution_count": 36,
      "metadata": {
        "colab": {
          "base_uri": "https://localhost:8080/"
        },
        "id": "tFG-K7ZXttf1",
        "outputId": "51a4ab86-fbfb-4d9a-ad86-f2c53f326e45"
      },
      "outputs": [
        {
          "name": "stdout",
          "output_type": "stream",
          "text": [
            "True\n"
          ]
        }
      ],
      "source": [
        "resultado = not (False)\n",
        "print(resultado)"
      ]
    },
    {
      "cell_type": "code",
      "execution_count": 37,
      "metadata": {
        "colab": {
          "base_uri": "https://localhost:8080/"
        },
        "id": "HSncQhA3t2l2",
        "outputId": "3508d7f6-40e2-4b91-d1db-9e1cd6a72d9e"
      },
      "outputs": [
        {
          "name": "stdout",
          "output_type": "stream",
          "text": [
            "False\n"
          ]
        }
      ],
      "source": [
        "resultado = not (5 > 3)\n",
        "print(resultado)"
      ]
    },
    {
      "cell_type": "markdown",
      "metadata": {
        "id": "DKezo3dBuw-H"
      },
      "source": [
        "### Ejemplo: Verificar la Edad y la Altura\n",
        "\n",
        "Imaginemos que estamos desarrollando un programa para verificar si una persona es mayor de edad **y** si su altura es mayor que la media (la altura media es 1.70)."
      ]
    },
    {
      "cell_type": "code",
      "execution_count": 38,
      "metadata": {
        "id": "RyJ17JluuqZj"
      },
      "outputs": [],
      "source": [
        "# Datos de entrada\n",
        "edad = 25\n",
        "altura = 1.80"
      ]
    },
    {
      "cell_type": "code",
      "execution_count": 42,
      "metadata": {
        "colab": {
          "base_uri": "https://localhost:8080/"
        },
        "id": "VwrrTvxFu-0Q",
        "outputId": "61c20973-019c-436d-d7c4-30658b5eccd0"
      },
      "outputs": [
        {
          "name": "stdout",
          "output_type": "stream",
          "text": [
            "True\n",
            "True\n"
          ]
        }
      ],
      "source": [
        "# Operaciones lógicas\n",
        "es_mayor_de_edad = (edad >= 18)\n",
        "es_alto = (altura > 1.70)\n",
        "\n",
        "print(es_mayor_de_edad)\n",
        "print(es_alto)"
      ]
    },
    {
      "cell_type": "code",
      "execution_count": 40,
      "metadata": {
        "colab": {
          "base_uri": "https://localhost:8080/"
        },
        "id": "JNNeF_8dwGco",
        "outputId": "804104d3-f0df-43fd-82dc-ea87d7f0e2b3"
      },
      "outputs": [
        {
          "name": "stdout",
          "output_type": "stream",
          "text": [
            "Es mayor de edad y alto: True\n"
          ]
        }
      ],
      "source": [
        "# Ahora validemos la condición que se pide\n",
        "resultado = es_mayor_de_edad and es_alto\n",
        "print(f\"Es mayor de edad y alto: {resultado}\")"
      ]
    },
    {
      "cell_type": "markdown",
      "metadata": {
        "id": "uWVDHy-LwQGU"
      },
      "source": [
        "### Ejercicio: Verificar Edad o Altura\n",
        "\n",
        "1. Ahora verifiquemos si una ersona es mayor de edad o si su altura es mayor al umbral establecido.\n",
        "\n",
        "2. ¿Cómo quedaría la validación si en lugar de validar si es mayor de edad, quiero valida que **NO** sea mayor de edad (menor de edad)?"
      ]
    },
    {
      "cell_type": "code",
      "execution_count": 43,
      "metadata": {
        "id": "By4kkem2wNIW"
      },
      "outputs": [],
      "source": [
        "# Tu código va acá"
      ]
    },
    {
      "cell_type": "code",
      "execution_count": null,
      "metadata": {
        "id": "OnNqTMxfwoKl"
      },
      "outputs": [],
      "source": [
        "# Tu código va acá"
      ]
    },
    {
      "cell_type": "markdown",
      "metadata": {
        "id": "LH_OAUJJxlkF"
      },
      "source": [
        "## Entrada dinámica de datos en python\n",
        "\n",
        "Hasta aquí hemos visto como imprimir información desde el programa hacia los usuarios.\n",
        "\n",
        "Sin embargo, una persona que quiera probar o hacer un programa debe poder entender sobre variables para, por ejemplo, hacer una calculadora, o un validador de edad. Pero en la vida real, lo que buscamos es que el usuario ingrese la información de manera dinámica.\n",
        "\n",
        "Para esto, Python cuenta con la función `input()` para pedirle a un usuario externo que ingrese algunos datos y nosotros realizar las validaciones o procesos.\n",
        "\n",
        "\n",
        "<img src=\"https://scaler.com/topics/images/input-and-output-in-python-1024x928.webp\" width=400>\n"
      ]
    },
    {
      "cell_type": "markdown",
      "metadata": {
        "id": "BjmZHBkVzecd"
      },
      "source": [
        "La función `input()` en Python se utiliza para recibir datos del usuario. Es una manera efectiva de hacer que tus programas sean interactivos, permitiendo a los usuarios ingresar información que luego puede ser utilizada por el programa."
      ]
    },
    {
      "cell_type": "code",
      "execution_count": 45,
      "metadata": {
        "colab": {
          "base_uri": "https://localhost:8080/"
        },
        "id": "PFBoruGNym3S",
        "outputId": "d9813123-086e-489a-bbbc-c17f5f487d3a"
      },
      "outputs": [
        {
          "name": "stdout",
          "output_type": "stream",
          "text": [
            "Mensaje al usuario: Hola mundo desde el input\n",
            "El usuario dijo:  Hola mundo desde el input\n"
          ]
        }
      ],
      "source": [
        "# Sintaxis\n",
        "\n",
        "variable = input(\"Mensaje al usuario: \")\n",
        "print(\"El usuario dijo: \",variable)"
      ]
    },
    {
      "cell_type": "code",
      "execution_count": 46,
      "metadata": {
        "colab": {
          "base_uri": "https://localhost:8080/"
        },
        "id": "Yl6Pg7saz4_t",
        "outputId": "b9893b5a-a6c1-426c-8cdf-95084226f573"
      },
      "outputs": [
        {
          "name": "stdout",
          "output_type": "stream",
          "text": [
            "<class 'str'>\n"
          ]
        }
      ],
      "source": [
        "# Revisemos de qué tipo de datos es \"variable\"\n",
        "print(type(variable))"
      ]
    },
    {
      "cell_type": "code",
      "execution_count": 47,
      "metadata": {
        "colab": {
          "base_uri": "https://localhost:8080/"
        },
        "id": "tmOC_k3I1c_p",
        "outputId": "86941dfe-58ba-47af-dfbe-b90cb1b286a1"
      },
      "outputs": [
        {
          "name": "stdout",
          "output_type": "stream",
          "text": [
            "Ingresa ahora un número: 2\n",
            "El usuario escribió:  2\n",
            "<class 'str'>\n"
          ]
        }
      ],
      "source": [
        "variable = input(\"Ingresa ahora un número: \")\n",
        "print(\"El usuario escribió: \",variable)\n",
        "print(type(variable))"
      ]
    },
    {
      "cell_type": "code",
      "execution_count": 48,
      "metadata": {
        "colab": {
          "base_uri": "https://localhost:8080/"
        },
        "id": "WVJD9bZFz_TI",
        "outputId": "7d90ebc1-d036-4d4c-b3e4-b76562d86884"
      },
      "outputs": [
        {
          "name": "stdout",
          "output_type": "stream",
          "text": [
            "Ingresa ahora un número: 3\n",
            "El usuario escribió:  3\n",
            "<class 'int'>\n"
          ]
        }
      ],
      "source": [
        "# ¿Entonces cómo podemos leer número? si siempre es un string\n",
        "\n",
        "# recuerda que puedes hacer un casteo\n",
        "variable = input(\"Ingresa ahora un número: \")\n",
        "VariableCasteada = int(variable)\n",
        "print(\"El usuario escribió: \",VariableCasteada)\n",
        "print(type(VariableCasteada))"
      ]
    },
    {
      "cell_type": "markdown",
      "metadata": {
        "id": "djZdRTwE2ARG"
      },
      "source": [
        "### Ejercicio 0: Pedir edad\n",
        "\n",
        "Vamos a solicitar la edad de una persona por consola y vamos guardarla en una variable"
      ]
    },
    {
      "cell_type": "code",
      "execution_count": null,
      "metadata": {
        "id": "FVq2_2Mg2N2O"
      },
      "outputs": [],
      "source": [
        "# Tu código va acá"
      ]
    },
    {
      "cell_type": "markdown",
      "metadata": {
        "id": "C0uFKTHS2V9R"
      },
      "source": [
        "### Ejercicio 1: Recibir y mostrar datos\n",
        "\n",
        "1.\tSolicita al usuario que ingrese su nombre, edad y ciudad de residencia.\n",
        "2.\tImprime un mensaje que combine todos estos datos en una sola oración."
      ]
    },
    {
      "cell_type": "code",
      "execution_count": 49,
      "metadata": {
        "id": "LY178GP_2VF7"
      },
      "outputs": [],
      "source": [
        "# Tu código va acá"
      ]
    },
    {
      "cell_type": "markdown",
      "metadata": {
        "id": "ZB-Aenze2z81"
      },
      "source": [
        "### Ejercicio 2: Realizar operaciones matemáticas con datos ingresados por el usuario\n",
        "\n",
        "1.\tSolicita al usuario que ingrese dos números.\n",
        "2.\tConvierte las entradas a enteros.\n",
        "3.\tCalcula e imprime la suma, resta, multiplicación y división de estos dos números."
      ]
    },
    {
      "cell_type": "code",
      "execution_count": null,
      "metadata": {
        "id": "_ta5Wh6R25z6"
      },
      "outputs": [],
      "source": [
        "# Tu código va acá"
      ]
    },
    {
      "cell_type": "markdown",
      "metadata": {
        "id": "FV1IABd2zDtv"
      },
      "source": [
        "## Ejercicio\n",
        "\n",
        "**Contexto**\n",
        "\n",
        "Imagina que estás desarrollando un programa para una oficina gubernamental que necesita recopilar y analizar información básica de sus empleados. La información que necesitas incluir es la edad, la altura, si son estudiantes, y su salario. El programa debe verificar si los empleados cumplen ciertos criterios y proporcionar un resumen de la información.\n",
        "\n",
        "**Objetivos del Ejercicio**\n",
        "\n",
        "1.\tSolicitar al usuario que ingrese su edad, altura, si es estudiante y su salario.\n",
        "2.\tConvertir las entradas a los tipos de datos adecuados.\n",
        "3.\tVerificar:\n",
        "  *\tSi el empleado es mayor de edad.\n",
        "  *\tSi su altura es mayor que la media (1.70 metros).\n",
        "  *\tSi su salario es mayor o igual a un salario promedio (ej. $3000).\n",
        "  *\tSi no es estudiante.\n",
        "4.\tImprimir un resumen con toda la información y los resultados de las verificaciones."
      ]
    },
    {
      "cell_type": "code",
      "execution_count": 51,
      "metadata": {
        "id": "J6bggKo-zIgU"
      },
      "outputs": [],
      "source": [
        "# Tu código va acá"
      ]
    },
    {
      "cell_type": "markdown",
      "metadata": {
        "id": "LTNY_AKq3-dY"
      },
      "source": [
        "## Reto: Análisis de Información Financiera\n",
        "\n",
        "Contexto\n",
        "\n",
        "Imagina que trabajas en el departamento financiero de una empresa y necesitas desarrollar un programa para analizar la información financiera básica de los empleados. Este programa debe recopilar datos como el salario mensual, los gastos mensuales, y calcular el ahorro mensual. Además, debe verificar si los empleados están ahorrando más del 20% de su salario y proporcionar un resumen financiero.\n",
        "\n",
        "Objetivos del Ejercicio\n",
        "\n",
        "  **1.**\tSolicitar al usuario que ingrese su salario mensual y sus gastos mensuales.\n",
        "\n",
        "  **2.**\tConvertir las entradas a los tipos de datos adecuados.\n",
        "\n",
        "  **3.**\tCalcular el ahorro mensual y el porcentaje de ahorro sobre el salario.\n",
        "\n",
        "  **4.**\tVerificar si el porcentaje de ahorro es mayor al 20%.\n",
        "\n",
        "  **5.**\tImprimir un resumen financiero con toda la información y los resultados de las verificaciones.\n"
      ]
    },
    {
      "cell_type": "code",
      "execution_count": 50,
      "metadata": {
        "id": "5C9NQusP4Bgv"
      },
      "outputs": [],
      "source": [
        "# Tu código va acá"
      ]
    },
    {
      "cell_type": "code",
      "execution_count": null,
      "metadata": {
        "id": "Ep0IHON-4Onl"
      },
      "outputs": [],
      "source": []
    }
  ],
  "metadata": {
    "colab": {
      "provenance": [],
      "toc_visible": true
    },
    "kernelspec": {
      "display_name": "Python 3",
      "name": "python3"
    },
    "language_info": {
      "name": "python"
    }
  },
  "nbformat": 4,
  "nbformat_minor": 0
}
