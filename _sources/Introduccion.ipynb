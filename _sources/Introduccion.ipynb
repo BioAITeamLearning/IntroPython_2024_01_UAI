{
  "nbformat": 4,
  "nbformat_minor": 0,
  "metadata": {
    "colab": {
      "provenance": [],
      "collapsed_sections": [
        "qWCVeYNctZwj",
        "8vr3Q_a0t_Bo",
        "bEPK8O9QvYjJ",
        "pEWLqfkdFglt",
        "7vqC6nzrHWZQ",
        "EzJzFjRrB371",
        "Zssd0fTZC-ue",
        "LH_OAUJJxlkF",
        "djZdRTwE2ARG",
        "C0uFKTHS2V9R",
        "ZB-Aenze2z81",
        "FV1IABd2zDtv",
        "LTNY_AKq3-dY"
      ],
      "toc_visible": true
    },
    "kernelspec": {
      "name": "python3",
      "display_name": "Python 3"
    },
    "language_info": {
      "name": "python"
    }
  },
  "cells": [
    {
      "cell_type": "markdown",
      "source": [
        "# Primeros pasos\n",
        "\n",
        "* Python es un lenguaje de programación de alto nivel, interpretado y de propósito general.\n",
        "\n",
        "* Fue creado por Guido van Rossum y lanzado por primera vez en 1991.\n",
        "* Es conocido por su sintaxis clara y su enfoque en la legibilidad del código, lo que lo hace ideal para principiantes y profesionales.\n",
        "\n",
        "<img src=\"https://prepinstadotcom.s3.ap-south-1.amazonaws.com/wp-content/uploads/2020/07/python-removebg-preview.webp\" width=200>\n",
        "\n",
        "## Entorno de trabajo\n",
        "\n",
        "Colab, o “Colaboratory”, te permite escribir y ejecutar código de Python en tu navegador, con:\n",
        "\n",
        "* Una configuración lista para que empieces a programar\n",
        "* Acceso gratuito a GPU\n",
        "* Facilidad para compartir\n",
        "\n",
        "Seas **estudiante**, **científico de datos** o **investigador de IA**, Colab facilita tu trabajo.\n",
        "\n",
        "<img src=\"https://colab.research.google.com/img/colab_favicon_256px.png\">"
      ],
      "metadata": {
        "id": "xVKHfH7IrnmW"
      }
    },
    {
      "cell_type": "markdown",
      "source": [
        "## Hola Mundo en python"
      ],
      "metadata": {
        "id": "qWCVeYNctZwj"
      }
    },
    {
      "cell_type": "code",
      "execution_count": null,
      "metadata": {
        "id": "YGfe9LXCrThA"
      },
      "outputs": [],
      "source": [
        "print(\"Hola Mundo!\")"
      ]
    },
    {
      "cell_type": "markdown",
      "source": [
        "A fin de ejecutar el código en la celda anterior, haz clic en él para seleccionarlo y luego presiona el botón de reproducción ubicado a la izquierda del código o usa la combinación de teclas “Command/Ctrl + Intro”. Para editar el código, solo haz clic en la celda y comienza a editar."
      ],
      "metadata": {
        "id": "hconX_hktIA9"
      }
    },
    {
      "cell_type": "code",
      "source": [
        "# Escribe el código para imprimir un saludo personalizado con tu nombre..."
      ],
      "metadata": {
        "id": "jG2ZCRahtHv_"
      },
      "execution_count": null,
      "outputs": []
    },
    {
      "cell_type": "markdown",
      "source": [
        "## ¿Qué son variables?\n",
        "\n",
        "En Python, una variable es un contenedor para almacenar datos.\n",
        "Los tipos de datos básicos incluyen enteros **(int)**, flotantes **(float)**, cadenas **(str)** y booleanos **(bool)**.\n",
        "\n",
        "<img src=\"https://static.platzi.com/media/user_upload/variables-en-programacion-607799e5-10f1-44d7-abb3-58e8c0be0f58.jpg\">"
      ],
      "metadata": {
        "id": "8vr3Q_a0t_Bo"
      }
    },
    {
      "cell_type": "code",
      "source": [
        "# Vamos a crear nuestra primer variable\n",
        "x = 5"
      ],
      "metadata": {
        "id": "TSg_sQe3t-xp"
      },
      "execution_count": 1,
      "outputs": []
    },
    {
      "cell_type": "code",
      "source": [
        "# Veamos ahora el contenido de la variable\n",
        "print(x)"
      ],
      "metadata": {
        "colab": {
          "base_uri": "https://localhost:8080/"
        },
        "id": "TM7HPo8vvExp",
        "outputId": "bbb7d982-9d4a-44f6-85ec-7fa1e613cd68"
      },
      "execution_count": 2,
      "outputs": [
        {
          "output_type": "stream",
          "name": "stdout",
          "text": [
            "5\n"
          ]
        }
      ]
    },
    {
      "cell_type": "code",
      "source": [
        "# ¿Cómo validar el tipo de variable que es?\n",
        "type(x)"
      ],
      "metadata": {
        "colab": {
          "base_uri": "https://localhost:8080/"
        },
        "id": "Hg_qtvzyvI_f",
        "outputId": "f4fee654-96c3-48af-b807-1e6ab4456fd7"
      },
      "execution_count": 3,
      "outputs": [
        {
          "output_type": "execute_result",
          "data": {
            "text/plain": [
              "int"
            ]
          },
          "metadata": {},
          "execution_count": 3
        }
      ]
    },
    {
      "cell_type": "markdown",
      "source": [
        "## Tipos de variables\n",
        "\n",
        "Existen muchas formas de almacenar información en variables."
      ],
      "metadata": {
        "id": "bEPK8O9QvYjJ"
      }
    },
    {
      "cell_type": "code",
      "source": [
        "# Números enteros\n",
        "\n",
        "a = 2\n",
        "print(a)"
      ],
      "metadata": {
        "colab": {
          "base_uri": "https://localhost:8080/"
        },
        "id": "rMI2djfKvV7j",
        "outputId": "43b744a4-d01f-4422-c9ba-52b1295b668a"
      },
      "execution_count": 4,
      "outputs": [
        {
          "output_type": "stream",
          "name": "stdout",
          "text": [
            "2\n"
          ]
        }
      ]
    },
    {
      "cell_type": "code",
      "source": [
        "# Números reales\n",
        "\n",
        "b = 12.5\n",
        "print(b)"
      ],
      "metadata": {
        "colab": {
          "base_uri": "https://localhost:8080/"
        },
        "id": "xVmAyGr5wbid",
        "outputId": "2dbb3bd3-8a8d-4214-c4a1-5666d712d717"
      },
      "execution_count": 5,
      "outputs": [
        {
          "output_type": "stream",
          "name": "stdout",
          "text": [
            "12.5\n"
          ]
        }
      ]
    },
    {
      "cell_type": "code",
      "source": [
        "# String (Cadena de caracteres)\n",
        "\n",
        "# Veamos como declarar letras\n",
        "\n",
        "letra = \"A\"\n",
        "print(letra)"
      ],
      "metadata": {
        "colab": {
          "base_uri": "https://localhost:8080/"
        },
        "id": "Qj9tCerQwgxH",
        "outputId": "36946d1c-5308-409b-d062-67c2b266b15f"
      },
      "execution_count": 6,
      "outputs": [
        {
          "output_type": "stream",
          "name": "stdout",
          "text": [
            "A\n"
          ]
        }
      ]
    },
    {
      "cell_type": "code",
      "source": [
        "# Ahora texto más largo\n",
        "\n",
        "nombre = \"Andres\"\n",
        "print(nombre)"
      ],
      "metadata": {
        "colab": {
          "base_uri": "https://localhost:8080/"
        },
        "id": "NfAg-YiRxHCu",
        "outputId": "7e7e088d-fdb7-4342-848a-8d5f6186e08f"
      },
      "execution_count": 7,
      "outputs": [
        {
          "output_type": "stream",
          "name": "stdout",
          "text": [
            "Andres\n"
          ]
        }
      ]
    },
    {
      "cell_type": "code",
      "source": [
        "# Una frase completa\n",
        "frase_completa = \"Este es un ejemplo de frase muy larga\"\n",
        "print(frase_completa)"
      ],
      "metadata": {
        "colab": {
          "base_uri": "https://localhost:8080/"
        },
        "id": "_Ln1qd6xxPIz",
        "outputId": "63279792-0a63-4655-e42b-ff29fe1ebdd1"
      },
      "execution_count": 8,
      "outputs": [
        {
          "output_type": "stream",
          "name": "stdout",
          "text": [
            "Este es un ejemplo de frase muy larga\n"
          ]
        }
      ]
    },
    {
      "cell_type": "code",
      "source": [
        "# Texto con saltos de linea demasiado largos\n",
        "\n",
        "bloque_texto = \"\"\" Este es un bloque de texto\n",
        "que me permite escribir texto en varias lineas\n",
        "\n",
        "y poder colocar bloques grandes de texto\n",
        "\n",
        "- también se pueden colocar viñetas\n",
        "- listado de elementos y muchas otras cosas\n",
        "\n",
        "este texto tiene 9 líneas\n",
        "\n",
        "\"\"\"\n",
        "\n",
        "print(bloque_texto)"
      ],
      "metadata": {
        "colab": {
          "base_uri": "https://localhost:8080/"
        },
        "id": "8rWU7mJGx76R",
        "outputId": "ce6121f0-88ef-4fad-94da-5003307de5f8"
      },
      "execution_count": 10,
      "outputs": [
        {
          "output_type": "stream",
          "name": "stdout",
          "text": [
            " Este es un bloque de texto\n",
            "que me permite escribir texto en varias lineas \n",
            "\n",
            "y poder colocar bloques grandes de texto\n",
            "\n",
            "- también se pueden colocar viñetas\n",
            "- listado de elementos y muchas otras cosas\n",
            "\n",
            "este texto tiene 9 líneas\n",
            "\n",
            "\n"
          ]
        }
      ]
    },
    {
      "cell_type": "code",
      "source": [
        "# Booleanos\n",
        "\n",
        "bandera = True\n",
        "print(bandera)"
      ],
      "metadata": {
        "colab": {
          "base_uri": "https://localhost:8080/"
        },
        "id": "eVGqIWVl1MQA",
        "outputId": "28a03c05-7de3-42cc-fd8c-70de8cc7d014"
      },
      "execution_count": 11,
      "outputs": [
        {
          "output_type": "stream",
          "name": "stdout",
          "text": [
            "True\n"
          ]
        }
      ]
    },
    {
      "cell_type": "code",
      "source": [
        "# Booleanos 2\n",
        "\n",
        "esEstudiante = False\n",
        "print(esEstudiante)"
      ],
      "metadata": {
        "colab": {
          "base_uri": "https://localhost:8080/"
        },
        "id": "d9Mi-WZg1VPg",
        "outputId": "6a5f8d09-5076-4aa8-f2a1-223779e8d0cc"
      },
      "execution_count": 12,
      "outputs": [
        {
          "output_type": "stream",
          "name": "stdout",
          "text": [
            "False\n"
          ]
        }
      ]
    },
    {
      "cell_type": "code",
      "source": [
        "# Booleanos\n",
        "\n",
        "tieneCertificado = bool(1) # bool(0)\n",
        "print(tieneCertificado)\n",
        "print(type(tieneCertificado))"
      ],
      "metadata": {
        "colab": {
          "base_uri": "https://localhost:8080/"
        },
        "id": "V3fmH0jt1c5c",
        "outputId": "7cf92088-59fb-4702-c67e-fc9bd4d85767"
      },
      "execution_count": 13,
      "outputs": [
        {
          "output_type": "stream",
          "name": "stdout",
          "text": [
            "True\n",
            "<class 'bool'>\n"
          ]
        }
      ]
    },
    {
      "cell_type": "code",
      "source": [
        "# Listas\n",
        "\n",
        "lista = [ 3, 2.8, 5, 'hola', True, [1,5,6] ]\n",
        "print(lista)\n",
        "print(type(lista))"
      ],
      "metadata": {
        "colab": {
          "base_uri": "https://localhost:8080/"
        },
        "id": "QEtIe6fg4kai",
        "outputId": "dbd86491-04a2-4566-8d8b-afaaa2ac1407"
      },
      "execution_count": 15,
      "outputs": [
        {
          "output_type": "stream",
          "name": "stdout",
          "text": [
            "[3, 2.8, 5, 'hola', True, [1, 5, 6]]\n",
            "<class 'list'>\n"
          ]
        }
      ]
    },
    {
      "cell_type": "markdown",
      "source": [
        "<img src=\"https://s3-us-west-2.amazonaws.com/devcodepro/media/tutorials/listas-python-t1.jpg\" width=400>"
      ],
      "metadata": {
        "id": "9tUlPwIe5D9Z"
      }
    },
    {
      "cell_type": "markdown",
      "source": [
        "### Imprimir texto dando formato a la salida\n",
        "\n",
        "Existen diferentes formas de imprimir el contenido de las variables en python y dar un formato específico a los que se quiere mostrar por pantalla"
      ],
      "metadata": {
        "id": "79zn-st2_jzN"
      }
    },
    {
      "cell_type": "code",
      "source": [
        "# 1. Usar varios comandos print\n",
        "nombre = \"Alvaro\"\n",
        "print(\"Hola, mi nombre es:\")\n",
        "print(nombre)"
      ],
      "metadata": {
        "colab": {
          "base_uri": "https://localhost:8080/"
        },
        "id": "VRYvD4JE_jYx",
        "outputId": "10f483a4-c48e-4b5f-9b64-a759660f0ab3"
      },
      "execution_count": 16,
      "outputs": [
        {
          "output_type": "stream",
          "name": "stdout",
          "text": [
            "Hola, mi nombre es:\n",
            "Alvaro\n"
          ]
        }
      ]
    },
    {
      "cell_type": "code",
      "source": [
        "# 2. Utilizar comas (,) para separar el contenido\n",
        "nombre = \"Alvaro\"\n",
        "edad = 25\n",
        "print(\"Hola, soy \",nombre,\"y tengo \", edad, \"años\")"
      ],
      "metadata": {
        "colab": {
          "base_uri": "https://localhost:8080/"
        },
        "id": "k0aF1HObAZBi",
        "outputId": "8bb676ba-1580-4c7d-c8b9-d62320932e51"
      },
      "execution_count": 17,
      "outputs": [
        {
          "output_type": "stream",
          "name": "stdout",
          "text": [
            "Hola, soy  Alvaro y tengo  25 años\n"
          ]
        }
      ]
    },
    {
      "cell_type": "code",
      "source": [
        "# 3. Utilizar un formatted string\n",
        "nombre = \"Álvaro\"\n",
        "edad = 18\n",
        "cargo = \"Jefe de proyecto\"\n",
        "promedio = 4.5\n",
        "\n",
        "cadena = f\"El estudiante {nombre}, {cargo} tiene {edad} años y un promedio de {promedio} \"\n",
        "print(cadena)"
      ],
      "metadata": {
        "colab": {
          "base_uri": "https://localhost:8080/"
        },
        "id": "gimJbhyrCcCq",
        "outputId": "0ba26c25-1630-453a-f36b-838c0ddc675c"
      },
      "execution_count": 19,
      "outputs": [
        {
          "output_type": "stream",
          "name": "stdout",
          "text": [
            "El estudiante Álvaro, Jefe de proyecto tiene 18 años y un promedio de 4.5 \n"
          ]
        }
      ]
    },
    {
      "cell_type": "markdown",
      "source": [
        "### Ejercicio 1.\n",
        "\n",
        "Crea una variable llamada 'edad' y asígnale el valor de tu edad. Imprime el valor y el tipo de dato.\n"
      ],
      "metadata": {
        "id": "I3R0dslOykwZ"
      }
    },
    {
      "cell_type": "code",
      "source": [
        "# Escribe tu solución acá."
      ],
      "metadata": {
        "id": "Pi8iftNXx_fa"
      },
      "execution_count": null,
      "outputs": []
    },
    {
      "cell_type": "markdown",
      "source": [
        "### Ejercicio 2.\n",
        "\n",
        "Imagina que estás desarrollando un programa para recopilar y analizar información personal básica de empleados de una institución pública. Este programa debe ser capaz de almacenar datos personales, verificar ciertos atributos y realizar algunas operaciones básicas con ellos. Los datos que necesitas recolectar incluyen la edad, la altura, el cargo de la persona y si la persona está actualmente estudiando.\n",
        "\n",
        "**Crea variables para almacenar la información de 3 colaboradores e imprimir la información de ellos.**"
      ],
      "metadata": {
        "id": "zov6KUx10Lip"
      }
    },
    {
      "cell_type": "code",
      "source": [
        "# Escribe tu solución acá."
      ],
      "metadata": {
        "id": "iWgIKhBD1D-8"
      },
      "execution_count": null,
      "outputs": []
    },
    {
      "cell_type": "markdown",
      "source": [
        "## Operaciones Aritméticas\n",
        "\n",
        "<table>\n",
        "<thead>\n",
        "<tr>\n",
        "<th style=\"text-align:center\">Operador</th>\n",
        "<th style=\"text-align:center\">Descripción</th>\n",
        "<th style=\"text-align:center\">Uso</th>\n",
        "</tr>\n",
        "</thead>\n",
        "<tbody>\n",
        "<tr>\n",
        "<td style=\"text-align:center\">+</td>\n",
        "<td style=\"text-align:center\">Realiza Adición entre los operandos</td>\n",
        "<td style=\"text-align:center\">12 + 3 = 15</td>\n",
        "</tr>\n",
        "<tr>\n",
        "<td style=\"text-align:center\">-</td>\n",
        "<td style=\"text-align:center\">Realiza Substracción entre los operandos</td>\n",
        "<td style=\"text-align:center\">12 - 3 = 9</td>\n",
        "</tr>\n",
        "<tr>\n",
        "<td style=\"text-align:center\">*</td>\n",
        "<td style=\"text-align:center\">Realiza Multiplicación entre los operandos</td>\n",
        "<td style=\"text-align:center\">12 * 3 = 36</td>\n",
        "</tr>\n",
        "<tr>\n",
        "<td style=\"text-align:center\">/</td>\n",
        "<td style=\"text-align:center\">Realiza División entre los operandos</td>\n",
        "<td style=\"text-align:center\">12 / 3 = 4</td>\n",
        "</tr>\n",
        "<tr>\n",
        "<td style=\"text-align:center\">%</td>\n",
        "<td style=\"text-align:center\">Realiza un módulo entre los operandos</td>\n",
        "<td style=\"text-align:center\">16 % 3 = 1</td>\n",
        "</tr>\n",
        "<tr>\n",
        "<td style=\"text-align:center\">**</td>\n",
        "<td style=\"text-align:center\">Realiza la potencia de los operandos</td>\n",
        "<td style=\"text-align:center\">12 ** 3 = 1728</td>\n",
        "</tr>\n",
        "<tr>\n",
        "<td style=\"text-align:center\">//</td>\n",
        "<td style=\"text-align:center\">Realiza la división con resultado de número entero</td>\n",
        "<td style=\"text-align:center\">18 // 5 = 3</td>\n",
        "</tr>\n",
        "</tbody>\n",
        "</table>"
      ],
      "metadata": {
        "id": "pEWLqfkdFglt"
      }
    },
    {
      "cell_type": "code",
      "source": [
        "# Suma y resta\n",
        "print(\"Suma = \", 4+5)\n",
        "print(\"Resta = \", 4-5)"
      ],
      "metadata": {
        "colab": {
          "base_uri": "https://localhost:8080/"
        },
        "id": "lH91tBwAFi9X",
        "outputId": "89d6876e-7be4-4c28-c8d9-4866ddd178e4"
      },
      "execution_count": 21,
      "outputs": [
        {
          "output_type": "stream",
          "name": "stdout",
          "text": [
            "Suma =  9\n",
            "Resta =  -1\n"
          ]
        }
      ]
    },
    {
      "cell_type": "code",
      "source": [
        "# Multiplicación y División\n",
        "\n",
        "a = 10\n",
        "b = 3\n",
        "\n",
        "print(\"Multiplicación = \", a*b)\n",
        "print(\"División = \", a/b)\n",
        "print(\"División entera = \", a//b)"
      ],
      "metadata": {
        "colab": {
          "base_uri": "https://localhost:8080/"
        },
        "id": "4bp1lYOtGnpd",
        "outputId": "d806a210-6f01-42ed-f7ed-24853537c2da"
      },
      "execution_count": 24,
      "outputs": [
        {
          "output_type": "stream",
          "name": "stdout",
          "text": [
            "Multiplicación =  30\n",
            "División =  3.3333333333333335\n",
            "División entera =  3\n"
          ]
        }
      ]
    },
    {
      "cell_type": "code",
      "source": [
        "c = a//b\n",
        "print(c)\n",
        "\n",
        "# Tipo de variable 'c'\n",
        "print(type(c))"
      ],
      "metadata": {
        "colab": {
          "base_uri": "https://localhost:8080/"
        },
        "id": "6AxRdiROAube",
        "outputId": "cb8aa719-bd5e-4667-f5f3-e60fb64f0352"
      },
      "execution_count": 63,
      "outputs": [
        {
          "output_type": "stream",
          "name": "stdout",
          "text": [
            "1\n",
            "<class 'int'>\n"
          ]
        }
      ]
    },
    {
      "cell_type": "code",
      "source": [
        "a = 6\n",
        "b = 2\n",
        "c = 2."
      ],
      "metadata": {
        "id": "9jT8mhe8AyyS"
      },
      "execution_count": 64,
      "outputs": []
    },
    {
      "cell_type": "code",
      "source": [
        "# Tipo de variable 'a'\n",
        "print(type(a))\n",
        "\n",
        "# Tipo de variable 'b'\n",
        "print(type(b))\n",
        "\n",
        "# Tipo de variable 'c'\n",
        "print(type(c))"
      ],
      "metadata": {
        "colab": {
          "base_uri": "https://localhost:8080/"
        },
        "id": "KQroxbiiAz7E",
        "outputId": "d4940594-13a3-4065-9b06-a3b6cab46e9c"
      },
      "execution_count": 65,
      "outputs": [
        {
          "output_type": "stream",
          "name": "stdout",
          "text": [
            "<class 'int'>\n",
            "<class 'int'>\n",
            "<class 'float'>\n"
          ]
        }
      ]
    },
    {
      "cell_type": "code",
      "source": [
        "operacion_a = a/b\n",
        "\n",
        "operacion_b = a/c\n",
        "\n",
        "print(operacion_a)\n",
        "# Tipo de dato 'operacion_a'\n",
        "print(type(operacion_a))\n",
        "\n",
        "print(operacion_b)\n",
        "# Tipo de dato 'operacion_b'\n",
        "print(type(operacion_b))"
      ],
      "metadata": {
        "colab": {
          "base_uri": "https://localhost:8080/"
        },
        "id": "2r5ZFe96A361",
        "outputId": "8f96d577-6e75-4c13-8892-2e8a51405f47"
      },
      "execution_count": 66,
      "outputs": [
        {
          "output_type": "stream",
          "name": "stdout",
          "text": [
            "3.0\n",
            "<class 'float'>\n",
            "3.0\n",
            "<class 'float'>\n"
          ]
        }
      ]
    },
    {
      "cell_type": "code",
      "source": [
        "# Otras operaciones\n",
        "print(\"Residuo = \", 10%3)\n",
        "print(\"Potencia = \", 2**3)\n",
        "print(\"Raiz = \", 2**0.5)"
      ],
      "metadata": {
        "colab": {
          "base_uri": "https://localhost:8080/"
        },
        "id": "EZqtw85_GpUz",
        "outputId": "996df5a7-4d3f-4ddf-82f0-a3905853852e"
      },
      "execution_count": 22,
      "outputs": [
        {
          "output_type": "stream",
          "name": "stdout",
          "text": [
            "Residuo =  1\n",
            "Potencia =  8\n",
            "Raiz =  1.4142135623730951\n"
          ]
        }
      ]
    },
    {
      "cell_type": "code",
      "source": [
        "# Funciones útiles para operaciones aritméticas\n",
        "print(\"Redondear números= \",round(3.867483,3))\n",
        "print(\"Valor Absoluto= \",abs(-4))\n",
        "print(\"Convertir número a decimal= \",float('3.5'))"
      ],
      "metadata": {
        "colab": {
          "base_uri": "https://localhost:8080/"
        },
        "id": "K9N1KQsoGyAF",
        "outputId": "a257508d-984d-4976-d11f-9b285d27403c"
      },
      "execution_count": 23,
      "outputs": [
        {
          "output_type": "stream",
          "name": "stdout",
          "text": [
            "Redondear números=  3.867\n",
            "Valor Absoluto=  4\n",
            "Convertir número a decimal=  3.5\n"
          ]
        }
      ]
    },
    {
      "cell_type": "markdown",
      "source": [
        "## Casteo de variables\n",
        "\n",
        "El casteo de variables es el proceso de convertir una variable de un tipo a otro.\n",
        "\n",
        "Este proceso permite transformar la información, modificarla y realizar operaciones entre variables.\n",
        "<img src=\"https://img.freepik.com/vector-premium/icono-cambio-moneda-o-cambio-dinero-efectivo-dolar-euro-concepto-banca-vector-ilustracion-dibujos-animados-plana-imagen-aislada_101884-1412.jpg\" width=400>\n"
      ],
      "metadata": {
        "id": "7vqC6nzrHWZQ"
      }
    },
    {
      "cell_type": "code",
      "source": [
        "# De cadena a entero\n",
        "cadena = \"123\"\n",
        "entero = int(cadena)\n",
        "print(entero)  # Salida: 123\n",
        "print(type(entero))  # Salida: <class 'int'>"
      ],
      "metadata": {
        "colab": {
          "base_uri": "https://localhost:8080/"
        },
        "id": "AWgLg2BpG_dW",
        "outputId": "9c1cf2d6-7128-4bc7-ca6f-ece424305a95"
      },
      "execution_count": 25,
      "outputs": [
        {
          "output_type": "stream",
          "name": "stdout",
          "text": [
            "123\n",
            "<class 'int'>\n"
          ]
        }
      ]
    },
    {
      "cell_type": "code",
      "source": [
        "# De entero a flotante\n",
        "entero = 5\n",
        "flotante = float(entero)\n",
        "print(flotante)  # Salida: 5.0\n",
        "print(type(flotante))  # Salida: <class 'float'>"
      ],
      "metadata": {
        "colab": {
          "base_uri": "https://localhost:8080/"
        },
        "id": "u-rqejDql-SA",
        "outputId": "8a5aad5b-ef9a-4184-dd2a-27f651909d54"
      },
      "execution_count": 26,
      "outputs": [
        {
          "output_type": "stream",
          "name": "stdout",
          "text": [
            "5.0\n",
            "<class 'float'>\n"
          ]
        }
      ]
    },
    {
      "cell_type": "code",
      "source": [
        "# De flotante a cadena\n",
        "flotante = 3.14\n",
        "cadena = str(flotante)\n",
        "print(cadena)  # Salida: '3.14'\n",
        "print(type(cadena))  # Salida: <class 'str'>"
      ],
      "metadata": {
        "colab": {
          "base_uri": "https://localhost:8080/"
        },
        "id": "4SvGjvFyl_nU",
        "outputId": "2a5a3962-20b8-4527-82df-6a2626ac8c0d"
      },
      "execution_count": 27,
      "outputs": [
        {
          "output_type": "stream",
          "name": "stdout",
          "text": [
            "3.14\n",
            "<class 'str'>\n"
          ]
        }
      ]
    },
    {
      "cell_type": "code",
      "source": [
        "# De entero a booleano\n",
        "entero = 0\n",
        "booleano = bool(entero)\n",
        "print(booleano)  # Salida: False\n",
        "print(type(booleano))  # Salida: <class 'bool'>"
      ],
      "metadata": {
        "colab": {
          "base_uri": "https://localhost:8080/"
        },
        "id": "JI7gT9LWmBUc",
        "outputId": "d1a7a92c-caa7-4369-bb94-0dd17f52d756"
      },
      "execution_count": 28,
      "outputs": [
        {
          "output_type": "stream",
          "name": "stdout",
          "text": [
            "False\n",
            "<class 'bool'>\n"
          ]
        }
      ]
    },
    {
      "cell_type": "markdown",
      "source": [
        "### Ejercicio\n",
        "\n",
        "Imagina que estás recopilando datos de una encuesta y necesitas asegurarte de que todos los valores numéricos se traten correctamente. Si los datos se ingresan como cadenas (por ejemplo, desde un formulario web), necesitarás convertir esos valores a enteros o flotantes para realizar cálculos.\n"
      ],
      "metadata": {
        "id": "Siyh_iHTmL5e"
      }
    },
    {
      "cell_type": "code",
      "source": [
        "# Datos de entrada como cadenas\n",
        "edad_cadena = \"30\"\n",
        "altura_cadena = \"1.75\"\n",
        "\n",
        "# Tu código acá.\n"
      ],
      "metadata": {
        "id": "Bo2IIdu-mBr-"
      },
      "execution_count": null,
      "outputs": []
    },
    {
      "cell_type": "markdown",
      "source": [
        "## Operaciones lógicas y relacionales\n",
        "\n",
        "En programación, las operaciones lógicas son utilizadas para tomar decisiones basadas en condiciones. Estas operaciones devuelven valores booleanos (True o False). Python ofrece varios operadores lógicos que nos permiten realizar estas evaluaciones.\n",
        "\n",
        "<img src=\"https://programacionpython.wordpress.com/wp-content/uploads/2008/07/signos1.jpg\">\n",
        "\n"
      ],
      "metadata": {
        "id": "WN70Ou82pd2Q"
      }
    },
    {
      "cell_type": "code",
      "source": [
        "#m Menor que\n",
        "5<6"
      ],
      "metadata": {
        "colab": {
          "base_uri": "https://localhost:8080/"
        },
        "id": "EFfcl5EosrFd",
        "outputId": "2c7fd6f0-60ca-4b13-8419-0c08e51fa736"
      },
      "execution_count": 56,
      "outputs": [
        {
          "output_type": "execute_result",
          "data": {
            "text/plain": [
              "True"
            ]
          },
          "metadata": {},
          "execution_count": 56
        }
      ]
    },
    {
      "cell_type": "code",
      "source": [
        "a = 5\n",
        "b = 5\n",
        "a1 = 7\n",
        "b1 = 3\n",
        "c1 = 3"
      ],
      "metadata": {
        "id": "jTvQytCjAJ18"
      },
      "execution_count": 57,
      "outputs": []
    },
    {
      "cell_type": "code",
      "source": [
        "# Mayor que\n",
        "e = a1 > b1\n",
        "print(e)"
      ],
      "metadata": {
        "colab": {
          "base_uri": "https://localhost:8080/"
        },
        "id": "tmzRWlTgAH_G",
        "outputId": "b2888677-fadb-4816-df90-6d560e8e58d6"
      },
      "execution_count": 58,
      "outputs": [
        {
          "output_type": "stream",
          "name": "stdout",
          "text": [
            "True\n"
          ]
        }
      ]
    },
    {
      "cell_type": "code",
      "source": [
        "# Menor que\n",
        "f = b1 < a1\n",
        "print(f)"
      ],
      "metadata": {
        "colab": {
          "base_uri": "https://localhost:8080/"
        },
        "id": "ST6WrbNtAOJy",
        "outputId": "aa8f73ac-1585-4a37-f7db-25f020d8bd2f"
      },
      "execution_count": 60,
      "outputs": [
        {
          "output_type": "stream",
          "name": "stdout",
          "text": [
            "True\n"
          ]
        }
      ]
    },
    {
      "cell_type": "code",
      "source": [
        "# Mayor o igual que\n",
        "g = b1 >= c1\n",
        "print(g)"
      ],
      "metadata": {
        "colab": {
          "base_uri": "https://localhost:8080/"
        },
        "id": "kK3-7NaAAUnD",
        "outputId": "ed99c78f-9aab-4bdc-a9b6-e67e0ccf1c21"
      },
      "execution_count": 61,
      "outputs": [
        {
          "output_type": "stream",
          "name": "stdout",
          "text": [
            "True\n"
          ]
        }
      ]
    },
    {
      "cell_type": "code",
      "source": [
        "# Menor o igual que\n",
        "h = b1 <= c1\n",
        "print(h)"
      ],
      "metadata": {
        "colab": {
          "base_uri": "https://localhost:8080/"
        },
        "id": "XQdkqFEoAYfe",
        "outputId": "4f6c4fae-fae4-4144-9052-b7a922234ec6"
      },
      "execution_count": 62,
      "outputs": [
        {
          "output_type": "stream",
          "name": "stdout",
          "text": [
            "True\n"
          ]
        }
      ]
    },
    {
      "cell_type": "code",
      "source": [
        "# Igual\n",
        "'Hola' == 'Adios'"
      ],
      "metadata": {
        "colab": {
          "base_uri": "https://localhost:8080/"
        },
        "id": "_K0BJKHbst5z",
        "outputId": "de6bb0b9-ad05-4a39-a620-cc6c37257d29"
      },
      "execution_count": 52,
      "outputs": [
        {
          "output_type": "execute_result",
          "data": {
            "text/plain": [
              "False"
            ]
          },
          "metadata": {},
          "execution_count": 52
        }
      ]
    },
    {
      "cell_type": "code",
      "source": [
        "cadena1 = 'Adios'\n",
        "cadena2 = 'Bye'\n",
        "\n",
        "cadena0 = cadena1 != cadena2\n",
        "print(cadena0)"
      ],
      "metadata": {
        "colab": {
          "base_uri": "https://localhost:8080/"
        },
        "id": "6vMh4JGQ_88A",
        "outputId": "e442f0f1-b618-49a8-c100-5f2740cfb814"
      },
      "execution_count": 55,
      "outputs": [
        {
          "output_type": "stream",
          "name": "stdout",
          "text": [
            "True\n"
          ]
        }
      ]
    },
    {
      "cell_type": "code",
      "source": [
        "# Diferente\n",
        "1 != 0"
      ],
      "metadata": {
        "colab": {
          "base_uri": "https://localhost:8080/"
        },
        "id": "N71ENZilsxkG",
        "outputId": "2230a784-89ee-4d65-a4c8-c0654e7cd994"
      },
      "execution_count": 53,
      "outputs": [
        {
          "output_type": "execute_result",
          "data": {
            "text/plain": [
              "True"
            ]
          },
          "metadata": {},
          "execution_count": 53
        }
      ]
    },
    {
      "cell_type": "code",
      "source": [
        "True == False"
      ],
      "metadata": {
        "colab": {
          "base_uri": "https://localhost:8080/"
        },
        "id": "ivxAg19Js02H",
        "outputId": "f7cbb78a-45f0-4ff6-a28d-84b6d2c1a53f"
      },
      "execution_count": 33,
      "outputs": [
        {
          "output_type": "execute_result",
          "data": {
            "text/plain": [
              "False"
            ]
          },
          "metadata": {},
          "execution_count": 33
        }
      ]
    },
    {
      "cell_type": "code",
      "source": [
        "num_1 = 2\n",
        "num_2 = 5\n",
        "num_3 = 2.0001\n",
        "num_4 = 2\n",
        "letra_E = 'E'\n",
        "letra_e = 'e'"
      ],
      "metadata": {
        "id": "_iA5Z8pcBKA-"
      },
      "execution_count": 67,
      "outputs": []
    },
    {
      "cell_type": "code",
      "source": [
        "# Tipo de dato 'num_1'\n",
        "print(\"Tipo de dato 'num_1':\",type(num_1))\n",
        "\n",
        "# Tipo de dato 'num_2'\n",
        "print(\"Tipo de dato 'num_2':\",type(num_2))\n",
        "\n",
        "# Tipo de dato 'num_3'\n",
        "print(\"Tipo de dato 'num_3':\",type(num_3))\n",
        "\n",
        "# Tipo de dato 'num_4'\n",
        "print(\"Tipo de dato 'num_4':\",type(num_4))\n",
        "\n",
        "# Tipo de dato 'letra_E'\n",
        "print(\"Tipo de dato 'letra_E': \",type(letra_E))\n",
        "\n",
        "# Tipo de dato 'letra_e'\n",
        "print(\"Tipo de dato 'letra_E':\",type(letra_e))"
      ],
      "metadata": {
        "colab": {
          "base_uri": "https://localhost:8080/"
        },
        "id": "1Iw2NjUFBK-f",
        "outputId": "e13e5962-37e4-4ec2-b926-3d4f8564cdce"
      },
      "execution_count": 70,
      "outputs": [
        {
          "output_type": "stream",
          "name": "stdout",
          "text": [
            "Tipo de dato 'num_1': <class 'int'>\n",
            "Tipo de dato 'num_2': <class 'int'>\n",
            "Tipo de dato 'num_3': <class 'float'>\n",
            "Tipo de dato 'num_4': <class 'int'>\n",
            "Tipo de dato 'letra_E':  <class 'str'>\n",
            "Tipo de dato 'letra_E': <class 'str'>\n"
          ]
        }
      ]
    },
    {
      "cell_type": "code",
      "source": [
        "# 2 es mayor que 5?\n",
        "print(num_1 > num_2)"
      ],
      "metadata": {
        "colab": {
          "base_uri": "https://localhost:8080/"
        },
        "id": "QA2RZxtgBnvu",
        "outputId": "aa9e18d4-77a6-4217-9170-d9049fb0a8c8"
      },
      "execution_count": 71,
      "outputs": [
        {
          "output_type": "stream",
          "name": "stdout",
          "text": [
            "False\n"
          ]
        }
      ]
    },
    {
      "cell_type": "code",
      "source": [
        "# 2 es menor que 5?\n",
        "print(num_1 < num_2)"
      ],
      "metadata": {
        "colab": {
          "base_uri": "https://localhost:8080/"
        },
        "id": "5B_mWGcSBorW",
        "outputId": "bb27abe2-950a-481f-de6b-e83632aa179c"
      },
      "execution_count": 72,
      "outputs": [
        {
          "output_type": "stream",
          "name": "stdout",
          "text": [
            "True\n"
          ]
        }
      ]
    },
    {
      "cell_type": "code",
      "source": [
        "# 2 es mayor o igual que 5?\n",
        "print(num_1 >= num_2)"
      ],
      "metadata": {
        "colab": {
          "base_uri": "https://localhost:8080/"
        },
        "id": "skBvA00fBsLO",
        "outputId": "7a5c8f55-52e3-4fc8-dcb6-a0d6337275b8"
      },
      "execution_count": 73,
      "outputs": [
        {
          "output_type": "stream",
          "name": "stdout",
          "text": [
            "False\n"
          ]
        }
      ]
    },
    {
      "cell_type": "code",
      "source": [
        "# 2 es menor o igual que 5?\n",
        "print(num_1 <= num_2)\n",
        "\n",
        "# 2 es menor o igual que 2?\n",
        "print(num_1 <= num_4)"
      ],
      "metadata": {
        "colab": {
          "base_uri": "https://localhost:8080/"
        },
        "id": "HRseVX-pBsIf",
        "outputId": "4d6a4993-e261-4769-dd0c-18694a0129a7"
      },
      "execution_count": 74,
      "outputs": [
        {
          "output_type": "stream",
          "name": "stdout",
          "text": [
            "True\n",
            "True\n"
          ]
        }
      ]
    },
    {
      "cell_type": "code",
      "source": [
        "# 2 es igual a 2.0001?\n",
        "print(num_1 == num_3)"
      ],
      "metadata": {
        "colab": {
          "base_uri": "https://localhost:8080/"
        },
        "id": "XOMsdTwOBsCc",
        "outputId": "95d01135-29ee-4caf-bb28-7a161773842a"
      },
      "execution_count": 75,
      "outputs": [
        {
          "output_type": "stream",
          "name": "stdout",
          "text": [
            "False\n"
          ]
        }
      ]
    },
    {
      "cell_type": "code",
      "source": [
        "# 2 es diferente a 2.0001?\n",
        "print(num_1 != num_3)"
      ],
      "metadata": {
        "colab": {
          "base_uri": "https://localhost:8080/"
        },
        "id": "-0xr0qVvBr6C",
        "outputId": "7bc94786-fb0a-4d55-a679-5fc1672bf1bb"
      },
      "execution_count": 76,
      "outputs": [
        {
          "output_type": "stream",
          "name": "stdout",
          "text": [
            "True\n"
          ]
        }
      ]
    },
    {
      "cell_type": "code",
      "source": [
        "# la letra 'E' es diferente a la letra 'e'?\n",
        "print(letra_E != letra_e);"
      ],
      "metadata": {
        "id": "eI9JBU5zBzqE"
      },
      "execution_count": null,
      "outputs": []
    },
    {
      "cell_type": "markdown",
      "source": [
        "### AND\n",
        "\n",
        "*Este operador devuelve True si ambas condiciones son **True**.*\n",
        "\n",
        "<img src=\"https://www.circuitspedia.com/wp-content/uploads/2018/12/AND-gate-..gif\">\n"
      ],
      "metadata": {
        "id": "A8MsmkN5sGo-"
      }
    },
    {
      "cell_type": "code",
      "source": [
        "resultado = (5 > 3) and (10 < 20)\n",
        "print(resultado)"
      ],
      "metadata": {
        "colab": {
          "base_uri": "https://localhost:8080/"
        },
        "id": "YoJGB4-rp7MS",
        "outputId": "d44eabe0-61d1-4bca-8635-496801569556"
      },
      "execution_count": 29,
      "outputs": [
        {
          "output_type": "stream",
          "name": "stdout",
          "text": [
            "True\n"
          ]
        }
      ]
    },
    {
      "cell_type": "markdown",
      "source": [
        "### OR\n",
        "\n",
        "*Este operador devuelve True si al menos una de las condiciones es **True**.*\n",
        "\n",
        "<img src=\"https://miro.medium.com/v2/resize:fit:1000/0*9yrqkCGWlHgadEtI.gif\">"
      ],
      "metadata": {
        "id": "MtBohmRMsSQP"
      }
    },
    {
      "cell_type": "code",
      "source": [
        "resultado = (5 > 3) or (10 > 20)\n",
        "print(resultado)"
      ],
      "metadata": {
        "colab": {
          "base_uri": "https://localhost:8080/"
        },
        "id": "w9e0EBu-sVe-",
        "outputId": "fc0bc910-13e7-40ae-a409-85b0717b8afe"
      },
      "execution_count": 34,
      "outputs": [
        {
          "output_type": "stream",
          "name": "stdout",
          "text": [
            "True\n"
          ]
        }
      ]
    },
    {
      "cell_type": "markdown",
      "source": [
        "### NOT\n",
        "\n",
        "Este operador invierte el valor de una condición.\n",
        "\n",
        "<img src=\"https://upload.wikimedia.org/wikipedia/commons/9/9f/Not-gate-en.svg\">"
      ],
      "metadata": {
        "id": "s2J21WFltviP"
      }
    },
    {
      "cell_type": "code",
      "source": [
        "resultado = not (False)\n",
        "print(resultado)"
      ],
      "metadata": {
        "colab": {
          "base_uri": "https://localhost:8080/"
        },
        "id": "tFG-K7ZXttf1",
        "outputId": "51a4ab86-fbfb-4d9a-ad86-f2c53f326e45"
      },
      "execution_count": 36,
      "outputs": [
        {
          "output_type": "stream",
          "name": "stdout",
          "text": [
            "True\n"
          ]
        }
      ]
    },
    {
      "cell_type": "code",
      "source": [
        "resultado = not (5 > 3)\n",
        "print(resultado)"
      ],
      "metadata": {
        "colab": {
          "base_uri": "https://localhost:8080/"
        },
        "id": "HSncQhA3t2l2",
        "outputId": "3508d7f6-40e2-4b91-d1db-9e1cd6a72d9e"
      },
      "execution_count": 37,
      "outputs": [
        {
          "output_type": "stream",
          "name": "stdout",
          "text": [
            "False\n"
          ]
        }
      ]
    },
    {
      "cell_type": "markdown",
      "source": [
        "### Ejemplo: Verificar la Edad y la Altura\n",
        "\n",
        "Imaginemos que estamos desarrollando un programa para verificar si una persona es mayor de edad **y** si su altura es mayor que la media (la altura media es 1.70)."
      ],
      "metadata": {
        "id": "DKezo3dBuw-H"
      }
    },
    {
      "cell_type": "code",
      "source": [
        "# Datos de entrada\n",
        "edad = 25\n",
        "altura = 1.80"
      ],
      "metadata": {
        "id": "RyJ17JluuqZj"
      },
      "execution_count": 38,
      "outputs": []
    },
    {
      "cell_type": "code",
      "source": [
        "# Operaciones lógicas\n",
        "es_mayor_de_edad = (edad >= 18)\n",
        "es_alto = (altura > 1.70)\n",
        "\n",
        "print(es_mayor_de_edad)\n",
        "print(es_alto)"
      ],
      "metadata": {
        "colab": {
          "base_uri": "https://localhost:8080/"
        },
        "id": "VwrrTvxFu-0Q",
        "outputId": "61c20973-019c-436d-d7c4-30658b5eccd0"
      },
      "execution_count": 42,
      "outputs": [
        {
          "output_type": "stream",
          "name": "stdout",
          "text": [
            "True\n",
            "True\n"
          ]
        }
      ]
    },
    {
      "cell_type": "code",
      "source": [
        "# Ahora validemos la condición que se pide\n",
        "resultado = es_mayor_de_edad and es_alto\n",
        "print(f\"Es mayor de edad y alto: {resultado}\")"
      ],
      "metadata": {
        "colab": {
          "base_uri": "https://localhost:8080/"
        },
        "id": "JNNeF_8dwGco",
        "outputId": "804104d3-f0df-43fd-82dc-ea87d7f0e2b3"
      },
      "execution_count": 40,
      "outputs": [
        {
          "output_type": "stream",
          "name": "stdout",
          "text": [
            "Es mayor de edad y alto: True\n"
          ]
        }
      ]
    },
    {
      "cell_type": "markdown",
      "source": [
        "### Ejercicio: Verificar Edad o Altura\n",
        "\n",
        "1. Ahora verifiquemos si una ersona es mayor de edad o si su altura es mayor al umbral establecido.\n",
        "\n",
        "2. ¿Cómo quedaría la validación si en lugar de validar si es mayor de edad, quiero valida que **NO** sea mayor de edad (menor de edad)?"
      ],
      "metadata": {
        "id": "uWVDHy-LwQGU"
      }
    },
    {
      "cell_type": "code",
      "source": [
        "# Tu código va acá"
      ],
      "metadata": {
        "id": "By4kkem2wNIW"
      },
      "execution_count": 43,
      "outputs": []
    },
    {
      "cell_type": "code",
      "source": [
        "# Tu código va acá"
      ],
      "metadata": {
        "id": "OnNqTMxfwoKl"
      },
      "execution_count": null,
      "outputs": []
    },
    {
      "cell_type": "markdown",
      "source": [
        "## Operadores de asignación\n",
        "\n",
        "Los operadores de asignación en Python se utilizan para asignar valores a las variables. Estos operadores combinan una operación matemática con la asignación, lo que permite escribir el código de manera más concisa y eficiente.\n",
        "\n",
        "\n",
        "<table>\n",
        "<thead>\n",
        "<tr>\n",
        "<th style=\"text-align:center\">Operador</th>\n",
        "<th style=\"text-align:center\">Descripción</th>\n",
        "</tr>\n",
        "</thead>\n",
        "<tbody>\n",
        "<tr>\n",
        "<td style=\"text-align:center\">=</td>\n",
        "<td style=\"text-align:center\">a = 5. El valor 5 es asignado a la variable a</td>\n",
        "</tr>\n",
        "<tr>\n",
        "<td style=\"text-align:center\">+=</td>\n",
        "<td style=\"text-align:center\">a += 5 es equivalente a a = a + 5</td>\n",
        "</tr>\n",
        "<tr>\n",
        "<td style=\"text-align:center\">-=</td>\n",
        "<td style=\"text-align:center\">a -= 5 es equivalente a a = a - 5</td>\n",
        "</tr>\n",
        "<tr>\n",
        "<td style=\"text-align:center\">*=</td>\n",
        "<td style=\"text-align:center\">a *= 3 es equivalente a a = a * 3</td>\n",
        "</tr>\n",
        "<tr>\n",
        "<td style=\"text-align:center\">/=</td>\n",
        "<td style=\"text-align:center\">a /= 3 es equivalente a a = a / 3</td>\n",
        "</tr>\n",
        "<tr>\n",
        "<td style=\"text-align:center\">%=</td>\n",
        "<td style=\"text-align:center\">a %= 3 es equivalente a a = a % 3</td>\n",
        "</tr>\n",
        "<tr>\n",
        "<td style=\"text-align:center\">**=</td>\n",
        "<td style=\"text-align:center\">a **= 3 es equivalente a a = a ** 3</td>\n",
        "</tr>\n",
        "<tr>\n",
        "<td style=\"text-align:center\">//=</td>\n",
        "<td style=\"text-align:center\">a //= 3 es equivalente a a = a // 3</td>\n",
        "</tr>\n",
        "</tbody>\n",
        "</table>"
      ],
      "metadata": {
        "id": "EzJzFjRrB371"
      }
    },
    {
      "cell_type": "code",
      "source": [
        "var3 = 2\n",
        "var3 += 3\n",
        "print(var3)"
      ],
      "metadata": {
        "colab": {
          "base_uri": "https://localhost:8080/"
        },
        "id": "u1X42RvQB9Lb",
        "outputId": "0ca4c124-cc3d-4135-dca7-d28136e52f4a"
      },
      "execution_count": 77,
      "outputs": [
        {
          "output_type": "stream",
          "name": "stdout",
          "text": [
            "5\n"
          ]
        }
      ]
    },
    {
      "cell_type": "code",
      "source": [
        "var3 = 2\n",
        "var3 -= 10\n",
        "print(var3)"
      ],
      "metadata": {
        "colab": {
          "base_uri": "https://localhost:8080/"
        },
        "id": "pzaY8letCUne",
        "outputId": "7c9014a3-510d-43f5-9795-1574afb2375b"
      },
      "execution_count": 78,
      "outputs": [
        {
          "output_type": "stream",
          "name": "stdout",
          "text": [
            "-8\n"
          ]
        }
      ]
    },
    {
      "cell_type": "code",
      "source": [
        "var3 = 2\n",
        "var3 *= 2\n",
        "print(var3)"
      ],
      "metadata": {
        "colab": {
          "base_uri": "https://localhost:8080/"
        },
        "id": "WJ8X_1ClCXux",
        "outputId": "df795f32-21dc-43b8-9ec6-4de75e5689c1"
      },
      "execution_count": 79,
      "outputs": [
        {
          "output_type": "stream",
          "name": "stdout",
          "text": [
            "4\n"
          ]
        }
      ]
    },
    {
      "cell_type": "code",
      "source": [
        "var3 = 2\n",
        "var3 **= 4\n",
        "print(var3)"
      ],
      "metadata": {
        "colab": {
          "base_uri": "https://localhost:8080/"
        },
        "id": "icwy9ucHCZWn",
        "outputId": "2c32fec4-2d75-488e-f2a4-81c8cecd6597"
      },
      "execution_count": 80,
      "outputs": [
        {
          "output_type": "stream",
          "name": "stdout",
          "text": [
            "16\n"
          ]
        }
      ]
    },
    {
      "cell_type": "code",
      "source": [
        "var3 = 2\n",
        "var3 /= 2\n",
        "print(var3)"
      ],
      "metadata": {
        "colab": {
          "base_uri": "https://localhost:8080/"
        },
        "id": "3O-GjMUbCa34",
        "outputId": "a0a397fa-10dd-493b-b9e3-ef3c4f645187"
      },
      "execution_count": 81,
      "outputs": [
        {
          "output_type": "stream",
          "name": "stdout",
          "text": [
            "1.0\n"
          ]
        }
      ]
    },
    {
      "cell_type": "code",
      "source": [
        "var3 = 2\n",
        "var3 //= 1.5\n",
        "print(var3)"
      ],
      "metadata": {
        "colab": {
          "base_uri": "https://localhost:8080/"
        },
        "id": "dAX0SVpUCcdw",
        "outputId": "fd758c2d-d4ff-463c-e4d2-7bb357c1629d"
      },
      "execution_count": 82,
      "outputs": [
        {
          "output_type": "stream",
          "name": "stdout",
          "text": [
            "1.0\n"
          ]
        }
      ]
    },
    {
      "cell_type": "code",
      "source": [
        "var3 = 2\n",
        "var3 %= 1\n",
        "print(var3)"
      ],
      "metadata": {
        "colab": {
          "base_uri": "https://localhost:8080/"
        },
        "id": "Jp6MW0exCd6W",
        "outputId": "e6f20f34-9c2e-40e5-da3d-7ee0c712572a"
      },
      "execution_count": 83,
      "outputs": [
        {
          "output_type": "stream",
          "name": "stdout",
          "text": [
            "0\n"
          ]
        }
      ]
    },
    {
      "cell_type": "markdown",
      "source": [
        "### Ejercicio:\n",
        "\n",
        "Crea un programa que realice las siguientes operaciones utilizando operadores de asignación:\n",
        "\n",
        "1.\tAsigna el valor inicial de 50 a una variable x.\n",
        "2.\tSuma 10 a x utilizando +=.\n",
        "3.\tResta 5 a x utilizando -=.\n",
        "4.\tMultiplica x por 2 utilizando *=.\n",
        "5.\tDivide x entre 4 utilizando /=.\n",
        "6.\tCalcula el módulo de x con 3 utilizando %=.\n",
        "7.\tEleva x al cuadrado utilizando **=.\n",
        "8.\tRealiza una división entera de x por 5 utilizando //=."
      ],
      "metadata": {
        "id": "Zssd0fTZC-ue"
      }
    },
    {
      "cell_type": "code",
      "source": [
        "# Tu código va acá"
      ],
      "metadata": {
        "id": "cN_9Id-ZDCqh"
      },
      "execution_count": 84,
      "outputs": []
    },
    {
      "cell_type": "markdown",
      "source": [
        "## Jerarquía de operadores\n",
        "\n",
        "La jerarquía de operaciones, también conocida como precedencia de operadores, determina el orden en que se evalúan las operaciones en una expresión. Conocer la jerarquía es crucial para escribir expresiones matemáticas y lógicas correctamente en Python.\n",
        "\n",
        "\n",
        "| Jerarquia |\n",
        "|-------------------|\n",
        "| Paréntesis `( )` |\n",
        "| Exponente `**`|\n",
        "| División (`/`) y Módulo (`%`) |\n",
        "| Multiplicación (`*`) |\n",
        "| Suma (`+`) y Resta (`-`) |\n",
        "| Operadores Relacionales (`>`, `<`, `>=`, `<=`, `==`, `!=`) |\n",
        "| Negación (`not`) |\n",
        "| Conjunción (`and`) |\n",
        "| Disyunción inclusiva (`or`) |\n",
        "| Operadores de Asignación |\n",
        "\n",
        "\n",
        "*Para más información sobre prioridad de operadores en Python visite este [enlace](https://interactivechaos.com/es/manual/tutorial-de-python/precedencia-de-operadores)*"
      ],
      "metadata": {
        "id": "Mep-c99BER30"
      }
    },
    {
      "cell_type": "code",
      "execution_count": null,
      "metadata": {
        "id": "ElwZTAet81kD",
        "outputId": "61967c36-9df3-4ddc-8772-ca549270f4c4"
      },
      "outputs": [
        {
          "name": "stdout",
          "output_type": "stream",
          "text": [
            "15628\n"
          ]
        }
      ],
      "source": [
        "print( 5 ** (2 * 3) + 3 )"
      ]
    },
    {
      "cell_type": "code",
      "execution_count": null,
      "metadata": {
        "id": "tm5ALF2281kD",
        "outputId": "4b96afef-589d-4d7a-c5a9-6ead97c1022f"
      },
      "outputs": [
        {
          "name": "stdout",
          "output_type": "stream",
          "text": [
            "6\n"
          ]
        }
      ],
      "source": [
        "print( 5 % 2 * 3 + 3 )"
      ]
    },
    {
      "cell_type": "code",
      "execution_count": null,
      "metadata": {
        "id": "t6cOGpPO81kD",
        "outputId": "b9ada7c6-ac52-42da-c2e8-69f7784c8e03"
      },
      "outputs": [
        {
          "name": "stdout",
          "output_type": "stream",
          "text": [
            "8\n"
          ]
        }
      ],
      "source": [
        "print( 5 % (2 * 3) + 3 )"
      ]
    },
    {
      "cell_type": "code",
      "execution_count": null,
      "metadata": {
        "id": "zFKFylYe81kE",
        "outputId": "0bed2d42-6aad-4c2c-f558-bc976788e75a"
      },
      "outputs": [
        {
          "name": "stdout",
          "output_type": "stream",
          "text": [
            "False\n"
          ]
        }
      ],
      "source": [
        "a = -5\n",
        "b = 3\n",
        "c = 2\n",
        "\n",
        "print( a / b * a / c > b - a * c )"
      ]
    },
    {
      "cell_type": "code",
      "execution_count": null,
      "metadata": {
        "id": "fvJW0Kuk81kE",
        "outputId": "b2d6c8a9-104d-497c-f53d-f12ead39de33"
      },
      "outputs": [
        {
          "name": "stdout",
          "output_type": "stream",
          "text": [
            "True\n"
          ]
        }
      ],
      "source": [
        "a = 10\n",
        "b = 7\n",
        "c = -1\n",
        "\n",
        "print( a %  b + c * a > 3 or c * c < 5 )"
      ]
    },
    {
      "cell_type": "code",
      "source": [
        "# El operador and tiene mayor precedencia que or, por lo que se hace primero\n",
        "resultado = True or False and False\n",
        "print(resultado)"
      ],
      "metadata": {
        "colab": {
          "base_uri": "https://localhost:8080/"
        },
        "id": "XuUnlc_rFmCg",
        "outputId": "50ec0345-db95-433c-b46c-dad82c4668d9"
      },
      "execution_count": 87,
      "outputs": [
        {
          "output_type": "stream",
          "name": "stdout",
          "text": [
            "True\n"
          ]
        }
      ]
    },
    {
      "cell_type": "code",
      "source": [
        "# Los operadores de asignación tienen la menor precedencia y se evalúan al final\n",
        "a = 5\n",
        "a += 3 * 2\n",
        "print(a)"
      ],
      "metadata": {
        "colab": {
          "base_uri": "https://localhost:8080/"
        },
        "id": "nlpVN_7KF0nN",
        "outputId": "5327a72d-43fa-4900-9457-2d4b7514cfa6"
      },
      "execution_count": 88,
      "outputs": [
        {
          "output_type": "stream",
          "name": "stdout",
          "text": [
            "11\n"
          ]
        }
      ]
    },
    {
      "cell_type": "markdown",
      "source": [
        "## Entrada dinámica de datos en python\n",
        "\n",
        "Hasta aquí hemos visto como imprimir información desde el programa hacia los usuarios.\n",
        "\n",
        "Sin embargo, una persona que quiera probar o hacer un programa debe poder entender sobre variables para, por ejemplo, hacer una calculadora, o un validador de edad. Pero en la vida real, lo que buscamos es que el usuario ingrese la información de manera dinámica.\n",
        "\n",
        "Para esto, Python cuenta con la función `input()` para pedirle a un usuario externo que ingrese algunos datos y nosotros realizar las validaciones o procesos.\n",
        "\n",
        "\n",
        "<img src=\"https://scaler.com/topics/images/input-and-output-in-python-1024x928.webp\" width=400>\n"
      ],
      "metadata": {
        "id": "LH_OAUJJxlkF"
      }
    },
    {
      "cell_type": "markdown",
      "source": [
        "La función `input()` en Python se utiliza para recibir datos del usuario. Es una manera efectiva de hacer que tus programas sean interactivos, permitiendo a los usuarios ingresar información que luego puede ser utilizada por el programa."
      ],
      "metadata": {
        "id": "BjmZHBkVzecd"
      }
    },
    {
      "cell_type": "code",
      "source": [
        "# Sintaxis\n",
        "\n",
        "variable = input(\"Mensaje al usuario: \")\n",
        "print(\"El usuario dijo: \",variable)"
      ],
      "metadata": {
        "colab": {
          "base_uri": "https://localhost:8080/"
        },
        "id": "PFBoruGNym3S",
        "outputId": "d9813123-086e-489a-bbbc-c17f5f487d3a"
      },
      "execution_count": 45,
      "outputs": [
        {
          "output_type": "stream",
          "name": "stdout",
          "text": [
            "Mensaje al usuario: Hola mundo desde el input\n",
            "El usuario dijo:  Hola mundo desde el input\n"
          ]
        }
      ]
    },
    {
      "cell_type": "code",
      "source": [
        "# Revisemos de qué tipo de datos es \"variable\"\n",
        "print(type(variable))"
      ],
      "metadata": {
        "colab": {
          "base_uri": "https://localhost:8080/"
        },
        "id": "Yl6Pg7saz4_t",
        "outputId": "b9893b5a-a6c1-426c-8cdf-95084226f573"
      },
      "execution_count": 46,
      "outputs": [
        {
          "output_type": "stream",
          "name": "stdout",
          "text": [
            "<class 'str'>\n"
          ]
        }
      ]
    },
    {
      "cell_type": "code",
      "source": [
        "variable = input(\"Ingresa ahora un número: \")\n",
        "print(\"El usuario escribió: \",variable)\n",
        "print(type(variable))"
      ],
      "metadata": {
        "colab": {
          "base_uri": "https://localhost:8080/"
        },
        "id": "tmOC_k3I1c_p",
        "outputId": "86941dfe-58ba-47af-dfbe-b90cb1b286a1"
      },
      "execution_count": 47,
      "outputs": [
        {
          "output_type": "stream",
          "name": "stdout",
          "text": [
            "Ingresa ahora un número: 2\n",
            "El usuario escribió:  2\n",
            "<class 'str'>\n"
          ]
        }
      ]
    },
    {
      "cell_type": "code",
      "source": [
        "# ¿Entonces cómo podemos leer número? si siempre es un string\n",
        "\n",
        "# recuerda que puedes hacer un casteo\n",
        "variable = input(\"Ingresa ahora un número: \")\n",
        "VariableCasteada = int(variable)\n",
        "print(\"El usuario escribió: \",VariableCasteada)\n",
        "print(type(VariableCasteada))"
      ],
      "metadata": {
        "colab": {
          "base_uri": "https://localhost:8080/"
        },
        "id": "WVJD9bZFz_TI",
        "outputId": "7d90ebc1-d036-4d4c-b3e4-b76562d86884"
      },
      "execution_count": 48,
      "outputs": [
        {
          "output_type": "stream",
          "name": "stdout",
          "text": [
            "Ingresa ahora un número: 3\n",
            "El usuario escribió:  3\n",
            "<class 'int'>\n"
          ]
        }
      ]
    },
    {
      "cell_type": "markdown",
      "source": [
        "### Ejercicio 0: Pedir edad\n",
        "\n",
        "Vamos a solicitar la edad de una persona por consola y vamos guardarla en una variable"
      ],
      "metadata": {
        "id": "djZdRTwE2ARG"
      }
    },
    {
      "cell_type": "code",
      "source": [
        "# Tu código va acá"
      ],
      "metadata": {
        "id": "FVq2_2Mg2N2O"
      },
      "execution_count": null,
      "outputs": []
    },
    {
      "cell_type": "markdown",
      "source": [
        "### Ejercicio 1: Recibir y mostrar datos\n",
        "\n",
        "1.\tSolicita al usuario que ingrese su nombre, edad y ciudad de residencia.\n",
        "2.\tImprime un mensaje que combine todos estos datos en una sola oración."
      ],
      "metadata": {
        "id": "C0uFKTHS2V9R"
      }
    },
    {
      "cell_type": "code",
      "source": [
        "# Tu código va acá"
      ],
      "metadata": {
        "id": "LY178GP_2VF7"
      },
      "execution_count": 49,
      "outputs": []
    },
    {
      "cell_type": "markdown",
      "source": [
        "### Ejercicio 2: Realizar operaciones matemáticas con datos ingresados por el usuario\n",
        "\n",
        "1.\tSolicita al usuario que ingrese dos números.\n",
        "2.\tConvierte las entradas a enteros.\n",
        "3.\tCalcula e imprime la suma, resta, multiplicación y división de estos dos números."
      ],
      "metadata": {
        "id": "ZB-Aenze2z81"
      }
    },
    {
      "cell_type": "code",
      "source": [
        "# Tu código va acá"
      ],
      "metadata": {
        "id": "_ta5Wh6R25z6"
      },
      "execution_count": null,
      "outputs": []
    },
    {
      "cell_type": "markdown",
      "source": [
        "## Ejercicio\n",
        "\n",
        "**Contexto**\n",
        "\n",
        "Imagina que estás desarrollando un programa para una oficina gubernamental que necesita recopilar y analizar información básica de sus empleados. La información que necesitas incluir es la edad, la altura, si son estudiantes, y su salario. El programa debe verificar si los empleados cumplen ciertos criterios y proporcionar un resumen de la información.\n",
        "\n",
        "**Objetivos del Ejercicio**\n",
        "\n",
        "1.\tSolicitar al usuario que ingrese su edad, altura, si es estudiante y su salario.\n",
        "2.\tConvertir las entradas a los tipos de datos adecuados.\n",
        "3.\tVerificar:\n",
        "  *\tSi el empleado es mayor de edad.\n",
        "  *\tSi su altura es mayor que la media (1.70 metros).\n",
        "  *\tSi su salario es mayor o igual a un salario promedio (ej. $3000).\n",
        "  *\tSi no es estudiante.\n",
        "4.\tImprimir un resumen con toda la información y los resultados de las verificaciones."
      ],
      "metadata": {
        "id": "FV1IABd2zDtv"
      }
    },
    {
      "cell_type": "code",
      "source": [
        "# Tu código va acá"
      ],
      "metadata": {
        "id": "J6bggKo-zIgU"
      },
      "execution_count": 51,
      "outputs": []
    },
    {
      "cell_type": "markdown",
      "source": [
        "## Reto 1: Factura Empresa de hamburguesas\n",
        "\n",
        "**Contexto**\n",
        "\n",
        "Ud trabaja en un restaurante de hamburguesas en el que necesitan automatizar el proceso de impresión de la factura de cada uno de los clientes. Debes calcular los precios de impuestos y el costo total de cada orden.\n",
        "\n",
        "**Objetivo del ejercicio**\n",
        "\n",
        "Realice una impresión de una factura que muestre:\n",
        "\n",
        "* El precio individual de una hamburguesa (5 dolares)\n",
        "* El precio invididual de una gaseosa (2 dolares)\n",
        "* El precio del menú con hamburguesa, gaseosa y papas cuyo costo es de 10 dolares\n",
        "* El precio total sin IVA\n",
        "* El precio total con IVA del 8%"
      ],
      "metadata": {
        "id": "LTNY_AKq3-dY"
      }
    },
    {
      "cell_type": "code",
      "source": [
        "# Tu código va acá"
      ],
      "metadata": {
        "id": "5C9NQusP4Bgv"
      },
      "execution_count": 50,
      "outputs": []
    },
    {
      "cell_type": "markdown",
      "source": [
        "## Reto: Análisis de Información Financiera\n",
        "\n",
        "**Contexto**\n",
        "\n",
        "Imagina que trabajas en el departamento financiero de una empresa y necesitas desarrollar un programa para analizar la información financiera básica de los empleados. Este programa debe recopilar datos como el salario mensual, los gastos mensuales, y calcular el ahorro mensual. Además, debe verificar si los empleados están ahorrando más del 20% de su salario y proporcionar un resumen financiero.\n",
        "\n",
        "**Objetivos del Ejercicio**\n",
        "\n",
        "  **1.**\tSolicitar al usuario que ingrese su salario mensual y sus gastos mensuales.\n",
        "\n",
        "  **2.**\tConvertir las entradas a los tipos de datos adecuados.\n",
        "\n",
        "  **3.**\tCalcular el ahorro mensual y el porcentaje de ahorro sobre el salario.\n",
        "\n",
        "  **4.**\tVerificar si el porcentaje de ahorro es mayor al 20%.\n",
        "\n",
        "  **5.**\tImprimir un resumen financiero con toda la información y los resultados de las verificaciones.\n"
      ],
      "metadata": {
        "id": "oMB3TfOhDS2h"
      }
    },
    {
      "cell_type": "code",
      "source": [
        "# Tu código va acá"
      ],
      "metadata": {
        "id": "jcVIGnB_DS2h"
      },
      "execution_count": null,
      "outputs": []
    }
  ]
}