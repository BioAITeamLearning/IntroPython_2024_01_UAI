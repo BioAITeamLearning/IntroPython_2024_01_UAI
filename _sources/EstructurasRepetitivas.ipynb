{
  "nbformat": 4,
  "nbformat_minor": 0,
  "metadata": {
    "colab": {
      "provenance": []
    },
    "kernelspec": {
      "name": "python3",
      "display_name": "Python 3"
    },
    "language_info": {
      "name": "python"
    }
  },
  "cells": [
    {
      "cell_type": "markdown",
      "source": [
        "# Estructuras Repetitivas\n",
        "\n",
        "Las estructuras repetitivas, también conocidas como ciclos o bucles, son fundamentales en programación. Permiten ejecutar un bloque de código múltiples veces de manera eficiente. Python proporciona varias estructuras repetitivas: while, for, bucles anidados, y comprehensions. También existen iteradores y generadores que facilitan la manipulación de datos de forma eficiente.\n",
        "\n",
        "\n",
        "<img src=\"https://img.freepik.com/vector-premium/ilustracion-plana-ciclo-programacion_120816-63883.jpg\" width=300>"
      ],
      "metadata": {
        "id": "yiCn0fCU2jSF"
      }
    },
    {
      "cell_type": "markdown",
      "source": [
        "## Ciclo While\n",
        "\n",
        "El ciclo while ejecuta un bloque de código mientras una condición sea verdadera.\n",
        "\n",
        "\n",
        "\n",
        "```\n",
        "while condicion:\n",
        "    # Bloque de código\n",
        "```\n",
        "\n"
      ],
      "metadata": {
        "id": "NfOO0b9n3KAN"
      }
    },
    {
      "cell_type": "code",
      "execution_count": 1,
      "metadata": {
        "colab": {
          "base_uri": "https://localhost:8080/"
        },
        "id": "jWd1hida2gCF",
        "outputId": "59402fcc-dfe8-4781-e59b-6ae5190f81d9"
      },
      "outputs": [
        {
          "output_type": "stream",
          "name": "stdout",
          "text": [
            "Contador: 0\n",
            "Contador: 1\n",
            "Contador: 2\n",
            "Contador: 3\n",
            "Contador: 4\n"
          ]
        }
      ],
      "source": [
        "contador = 0\n",
        "while contador < 5:\n",
        "    print(f\"Contador: {contador}\")\n",
        "    contador += 1"
      ]
    },
    {
      "cell_type": "markdown",
      "source": [
        "### Ejemplo 1:\n",
        "\n",
        "Escribe un programa que use un ciclo while para contar del 10 al 1 e imprima cada número."
      ],
      "metadata": {
        "id": "qevNWeFC3c4I"
      }
    },
    {
      "cell_type": "code",
      "source": [
        "contador = 10\n",
        "while contador > 0:\n",
        "    print(contador)\n",
        "    contador -= 1"
      ],
      "metadata": {
        "colab": {
          "base_uri": "https://localhost:8080/"
        },
        "id": "tvDFp9Pa3ZR6",
        "outputId": "3404f56c-6bfb-4605-d04c-b540232ffebd"
      },
      "execution_count": 2,
      "outputs": [
        {
          "output_type": "stream",
          "name": "stdout",
          "text": [
            "10\n",
            "9\n",
            "8\n",
            "7\n",
            "6\n",
            "5\n",
            "4\n",
            "3\n",
            "2\n",
            "1\n"
          ]
        }
      ]
    },
    {
      "cell_type": "markdown",
      "source": [
        "## Ciclo For\n",
        "\n",
        "El ciclo for itera sobre una secuencia (como una lista, tupla o cadena) y ejecuta un bloque de código por cada elemento.\n",
        "\n",
        "\n",
        "\n",
        "```\n",
        "for elemento in secuencia:\n",
        "    # Bloque de código\n",
        "```\n",
        "\n"
      ],
      "metadata": {
        "id": "YXzFEkBY3lJJ"
      }
    },
    {
      "cell_type": "code",
      "source": [
        "nombres = [\"Ana\", \"Carlos\", \"Beatriz\"]\n",
        "for nombre in nombres:\n",
        "    print(f\"Hola, {nombre}!\")"
      ],
      "metadata": {
        "colab": {
          "base_uri": "https://localhost:8080/"
        },
        "id": "4Xva6XsI3fRo",
        "outputId": "773b756b-22de-4513-854a-b4645e195f57"
      },
      "execution_count": 3,
      "outputs": [
        {
          "output_type": "stream",
          "name": "stdout",
          "text": [
            "Hola, Ana!\n",
            "Hola, Carlos!\n",
            "Hola, Beatriz!\n"
          ]
        }
      ]
    },
    {
      "cell_type": "markdown",
      "source": [
        "### Ejercicio 1:\n",
        "Escribe un programa que use un ciclo para imprimir la posición y el elemento que hay en una lista"
      ],
      "metadata": {
        "id": "ZuN_iMNe9gED"
      }
    },
    {
      "cell_type": "code",
      "source": [
        "v=['a','b','c','d']\n",
        "\n",
        "for i in range(len(v)):\n",
        "    print(i,\"-->\",v[i])"
      ],
      "metadata": {
        "colab": {
          "base_uri": "https://localhost:8080/"
        },
        "id": "0MsVWRz79fzx",
        "outputId": "2164bed5-9572-4363-9095-496971ee1fea"
      },
      "execution_count": 11,
      "outputs": [
        {
          "output_type": "stream",
          "name": "stdout",
          "text": [
            "0 --> a\n",
            "1 --> b\n",
            "2 --> c\n",
            "3 --> d\n"
          ]
        }
      ]
    },
    {
      "cell_type": "markdown",
      "source": [
        "### Ejercicio 2:\n",
        "Escribe un programa que use un ciclo for para imprimir cada letra de la cadena “Python”."
      ],
      "metadata": {
        "id": "fBiSdIdR30W6"
      }
    },
    {
      "cell_type": "code",
      "source": [
        "for letra in \"Python\":\n",
        "    print(letra)"
      ],
      "metadata": {
        "colab": {
          "base_uri": "https://localhost:8080/"
        },
        "id": "09Oxmja63wts",
        "outputId": "1d903ff0-1419-49e1-8909-b1a26a5f9599"
      },
      "execution_count": 4,
      "outputs": [
        {
          "output_type": "stream",
          "name": "stdout",
          "text": [
            "P\n",
            "y\n",
            "t\n",
            "h\n",
            "o\n",
            "n\n"
          ]
        }
      ]
    },
    {
      "cell_type": "markdown",
      "source": [
        "### Ejercicio 3:\n",
        "\n",
        "Escribe un programa que use un ciclo for para imprimir los números del 1 al 10"
      ],
      "metadata": {
        "id": "AwWgnegr36i6"
      }
    },
    {
      "cell_type": "code",
      "source": [
        "for num in range(11):\n",
        "  print(num)"
      ],
      "metadata": {
        "colab": {
          "base_uri": "https://localhost:8080/"
        },
        "id": "UTSkk2Ik33zB",
        "outputId": "39ebc693-eefe-4008-8dd1-e59cf355d742"
      },
      "execution_count": 5,
      "outputs": [
        {
          "output_type": "stream",
          "name": "stdout",
          "text": [
            "0\n",
            "1\n",
            "2\n",
            "3\n",
            "4\n",
            "5\n",
            "6\n",
            "7\n",
            "8\n",
            "9\n",
            "10\n"
          ]
        }
      ]
    },
    {
      "cell_type": "markdown",
      "source": [
        "### Ejercicio 4:\n",
        "Escribe un programa que imprima los nombres de una lista y el número de nombre."
      ],
      "metadata": {
        "id": "3fCnhceo4Ni4"
      }
    },
    {
      "cell_type": "code",
      "source": [
        "nombres = [\"Ana\",\"Pedro\",\"Juan\",\"Andres\",\"Pablo\",\"Jimmy\",\"Felix\",\"Sonia\",\"Tania\"]\n",
        "\n",
        "for indice, nombre in enumerate(nombres):\n",
        "  print(f\"Nombre {indice}: {nombre}\")"
      ],
      "metadata": {
        "colab": {
          "base_uri": "https://localhost:8080/"
        },
        "id": "MARQyiS_4Hfj",
        "outputId": "12243336-3053-465b-f31b-d9e6e25ccdd7"
      },
      "execution_count": 7,
      "outputs": [
        {
          "output_type": "stream",
          "name": "stdout",
          "text": [
            "Nombre 0: Ana\n",
            "Nombre 1: Pedro\n",
            "Nombre 2: Juan\n",
            "Nombre 3: Andres\n",
            "Nombre 4: Pablo\n",
            "Nombre 5: Jimmy\n",
            "Nombre 6: Felix\n",
            "Nombre 7: Sonia\n",
            "Nombre 8: Tania\n"
          ]
        }
      ]
    },
    {
      "cell_type": "markdown",
      "source": [
        "### Ejercicio 5:\n",
        "\n",
        "Escribe un programa que imprima los nombres de una lista y las direcciones de correo que están en otra lista"
      ],
      "metadata": {
        "id": "c3aNfGQO49fM"
      }
    },
    {
      "cell_type": "code",
      "source": [
        "# Listas de nombres y direcciones de correo\n",
        "nombres = [\"Juan Perez\", \"Maria Gomez\", \"Carlos Sanchez\", \"Ana Martinez\"]\n",
        "correos = [\"juan.perez@example.com\", \"maria.gomez@example.com\", \"carlos.sanchez@example.com\", \"ana.martinez@example.com\"]"
      ],
      "metadata": {
        "id": "sMnKu8xr4w14"
      },
      "execution_count": 8,
      "outputs": []
    },
    {
      "cell_type": "code",
      "source": [
        "# Usar zip para combinar las listas\n",
        "for nombre, correo in zip(nombres, correos):\n",
        "    print(f\"Nombre: {nombre}, Correo: {correo}\")"
      ],
      "metadata": {
        "colab": {
          "base_uri": "https://localhost:8080/"
        },
        "id": "A-dFAeGH5_b2",
        "outputId": "23247a64-c60f-4742-8cfd-0d93f9afff05"
      },
      "execution_count": 9,
      "outputs": [
        {
          "output_type": "stream",
          "name": "stdout",
          "text": [
            "Nombre: Juan Perez, Correo: juan.perez@example.com\n",
            "Nombre: Maria Gomez, Correo: maria.gomez@example.com\n",
            "Nombre: Carlos Sanchez, Correo: carlos.sanchez@example.com\n",
            "Nombre: Ana Martinez, Correo: ana.martinez@example.com\n"
          ]
        }
      ]
    },
    {
      "cell_type": "markdown",
      "source": [
        "### Ejemplos\n",
        "\n",
        "Realiza un algoritmo que cuente las vocales de un `string``"
      ],
      "metadata": {
        "id": "Dr91_oIR927i"
      }
    },
    {
      "cell_type": "code",
      "source": [
        "frase = \"Anita lava la tina\"\n",
        "k = 0\n",
        "\n",
        "for letra in frase.lower():\n",
        "    if letra in (\"a\",\"e\",\"i\",\"o\",\"u\"): # Explicar la sentencia in para buscar elementos\n",
        "        k += 1\n",
        "\n",
        "print(f\"Hay {k} vocales\")"
      ],
      "metadata": {
        "colab": {
          "base_uri": "https://localhost:8080/"
        },
        "id": "YDFdg_0I9-Lw",
        "outputId": "c558f25e-4f38-40ae-f43a-4a8ff9688498"
      },
      "execution_count": 13,
      "outputs": [
        {
          "output_type": "stream",
          "name": "stdout",
          "text": [
            "Hay 8 vocales\n"
          ]
        }
      ]
    },
    {
      "cell_type": "code",
      "source": [
        "# Realiza un programa que haga un triangulo de caracteres\n",
        "n = 10\n",
        "for k in range(1,n+1):\n",
        "    print(\"*\"*k)"
      ],
      "metadata": {
        "colab": {
          "base_uri": "https://localhost:8080/"
        },
        "id": "e-Hp765D-ceg",
        "outputId": "b6984395-fa48-4fa5-b93b-251da6e51719"
      },
      "execution_count": 14,
      "outputs": [
        {
          "output_type": "stream",
          "name": "stdout",
          "text": [
            "*\n",
            "**\n",
            "***\n",
            "****\n",
            "*****\n",
            "******\n",
            "*******\n",
            "********\n",
            "*********\n",
            "**********\n"
          ]
        }
      ]
    },
    {
      "cell_type": "markdown",
      "source": [
        "## Ciclos anidados\n",
        "\n",
        "Puedes anidar ciclos for y while dentro de otros ciclos para iterar sobre estructuras de datos más complejas."
      ],
      "metadata": {
        "id": "od9CLTuo_ENI"
      }
    },
    {
      "cell_type": "code",
      "source": [
        "matriz = [[1, 2, 3], [4, 5, 6], [7, 8, 9]]\n",
        "for fila in matriz:\n",
        "    for elemento in fila:\n",
        "        print(elemento, end=\" \")\n",
        "    print()"
      ],
      "metadata": {
        "colab": {
          "base_uri": "https://localhost:8080/"
        },
        "id": "ExvMtbn7_bsT",
        "outputId": "5d0ed6fa-12e7-45c4-de77-6f103aefbcb1"
      },
      "execution_count": 15,
      "outputs": [
        {
          "output_type": "stream",
          "name": "stdout",
          "text": [
            "1 2 3 \n",
            "4 5 6 \n",
            "7 8 9 \n"
          ]
        }
      ]
    },
    {
      "cell_type": "markdown",
      "source": [
        "### Ejemplo 1:\n",
        "Escribe un programa que use ciclos anidados para imprimir cada combinación de números del 1 al 3 con las letras ‘A’ y ‘B’."
      ],
      "metadata": {
        "id": "ORtFFK5a_gAD"
      }
    },
    {
      "cell_type": "code",
      "source": [
        "# Solución\n",
        "for numero in range(1, 4):\n",
        "    for letra in [\"A\", \"B\"]:\n",
        "        print(f\"{numero}{letra}\")"
      ],
      "metadata": {
        "colab": {
          "base_uri": "https://localhost:8080/"
        },
        "id": "hd1FlfZN_iHn",
        "outputId": "a46f0f3a-3f18-4725-a63a-d129af680493"
      },
      "execution_count": 16,
      "outputs": [
        {
          "output_type": "stream",
          "name": "stdout",
          "text": [
            "1A\n",
            "1B\n",
            "2A\n",
            "2B\n",
            "3A\n",
            "3B\n"
          ]
        }
      ]
    },
    {
      "cell_type": "markdown",
      "source": [
        "## List comprehensions\n",
        "\n",
        "Las comprehensions son una forma concisa de crear listas, diccionarios o conjuntos en Python."
      ],
      "metadata": {
        "id": "im3Q3eoX_oqG"
      }
    },
    {
      "cell_type": "code",
      "source": [
        "cuadrados = [x**2 for x in range(10)]\n",
        "print(cuadrados)"
      ],
      "metadata": {
        "colab": {
          "base_uri": "https://localhost:8080/"
        },
        "id": "f9x7u99S_wbU",
        "outputId": "64d0efee-79de-47bb-820b-474cd34961d8"
      },
      "execution_count": 17,
      "outputs": [
        {
          "output_type": "stream",
          "name": "stdout",
          "text": [
            "[0, 1, 4, 9, 16, 25, 36, 49, 64, 81]\n"
          ]
        }
      ]
    },
    {
      "cell_type": "markdown",
      "source": [
        "### Ejemplo 2:\n",
        "\n",
        "Escribe una lista comprehension para crear una lista de los primeros 10 números al cubo."
      ],
      "metadata": {
        "id": "GFdj2Jol_0A3"
      }
    },
    {
      "cell_type": "code",
      "source": [
        "cubos = [x**3 for x in range(1, 11)]\n",
        "print(cubos)"
      ],
      "metadata": {
        "colab": {
          "base_uri": "https://localhost:8080/"
        },
        "id": "kDxHPOL4_45w",
        "outputId": "aaf9668f-4381-41f1-a83e-739e94d74226"
      },
      "execution_count": 18,
      "outputs": [
        {
          "output_type": "stream",
          "name": "stdout",
          "text": [
            "[1, 8, 27, 64, 125, 216, 343, 512, 729, 1000]\n"
          ]
        }
      ]
    },
    {
      "cell_type": "markdown",
      "source": [
        "### Diccionario comprehensions\n",
        "\n"
      ],
      "metadata": {
        "id": "iBLa5wjC_-5W"
      }
    },
    {
      "cell_type": "code",
      "source": [
        "cuadrados = {x: x**2 for x in range(10)}\n",
        "print(cuadrados)"
      ],
      "metadata": {
        "colab": {
          "base_uri": "https://localhost:8080/"
        },
        "id": "JQBQ_Kpd_93-",
        "outputId": "54fb9137-c72b-4d02-97d7-bd66509f60f7"
      },
      "execution_count": 19,
      "outputs": [
        {
          "output_type": "stream",
          "name": "stdout",
          "text": [
            "{0: 0, 1: 1, 2: 4, 3: 9, 4: 16, 5: 25, 6: 36, 7: 49, 8: 64, 9: 81}\n"
          ]
        }
      ]
    },
    {
      "cell_type": "markdown",
      "source": [
        "## Ejercicios\n",
        "\n",
        "Vamos a resolver los siguientes ejercicios"
      ],
      "metadata": {
        "id": "g3NYzku6AL4N"
      }
    },
    {
      "cell_type": "markdown",
      "source": [
        "### Ejercicio 1: Análisis de Asistencia\n",
        "\n",
        "Crea un programa que analice la asistencia de empleados en una institución pública. Debe permitir ingresar el nombre de cada empleado y si asistió o no en una lista de días. Luego, debe calcular el porcentaje de asistencia de cada empleado y mostrar un resumen.\n",
        "\n",
        "1.\tCrear una lista de empleados.\n",
        "2.\tPara cada empleado, crear una lista de asistencia (True para asistió, False para no asistió).\n",
        "3.\tCalcular el porcentaje de asistencia.\n",
        "4.\tImprimir un resumen."
      ],
      "metadata": {
        "id": "ZWy2TXYuAU9r"
      }
    },
    {
      "cell_type": "code",
      "source": [
        "# Solución\n",
        "empleados = {\n",
        "    \"Juan\": [True, False, True, True, False],\n",
        "    \"Ana\": [True, True, True, False, True],\n",
        "    \"Carlos\": [False, False, True, True, True]\n",
        "}\n",
        "\n",
        "for nombre, asistencias in empleados.items():\n",
        "    porcentaje_asistencia = sum(asistencias) / len(asistencias) * 100\n",
        "    print(f\"{nombre}: {porcentaje_asistencia}% de asistencia\")"
      ],
      "metadata": {
        "colab": {
          "base_uri": "https://localhost:8080/"
        },
        "id": "1tGtxrcQATZY",
        "outputId": "fb8f6fa0-e998-4bd4-8a40-57b13f28ab02"
      },
      "execution_count": 20,
      "outputs": [
        {
          "output_type": "stream",
          "name": "stdout",
          "text": [
            "Juan: 60.0% de asistencia\n",
            "Ana: 80.0% de asistencia\n",
            "Carlos: 60.0% de asistencia\n"
          ]
        }
      ]
    },
    {
      "cell_type": "markdown",
      "source": [
        "### Ejercicio 1: Registro de Equipos Informáticos\n",
        "\n",
        "Crea un programa que gestione el registro de equipos informáticos en una institución pública. Debe permitir ingresar el nombre del equipo, su tipo (computadora, impresora, escáner, etc.), y su estado (operativo, en reparación, dado de baja). Luego, debe permitir actualizar el estado de un equipo específico y mostrar un resumen del inventario.\n",
        "\n",
        "1.\tCrear un diccionario para el inventario.\n",
        "2.\tAgregar al menos tres equipos con su tipo y estado.\n",
        "3.\tPermitir actualizar el estado de un equipo.\n",
        "4.\tImprimir un resumen del inventario."
      ],
      "metadata": {
        "id": "ubn9X_GkAjZV"
      }
    },
    {
      "cell_type": "code",
      "source": [
        "# Solución\n",
        "inventario = {\n",
        "    \"Equipo1\": {\"tipo\": \"Computadora\", \"estado\": \"operativo\"},\n",
        "    \"Equipo2\": {\"tipo\": \"Impresora\", \"estado\": \"en reparación\"},\n",
        "    \"Equipo3\": {\"tipo\": \"Escáner\", \"estado\": \"dado de baja\"}\n",
        "}\n",
        "\n",
        "# Actualizar estado de un equipo\n",
        "inventario[\"Equipo1\"][\"estado\"] = \"en reparación\"\n",
        "\n",
        "# Imprimir resumen del inventario\n",
        "for equipo, datos in inventario.items():\n",
        "    print(f\"{equipo}: Tipo={datos['tipo']}, Estado={datos['estado']}\")"
      ],
      "metadata": {
        "colab": {
          "base_uri": "https://localhost:8080/"
        },
        "id": "CeFnebm2Ap6k",
        "outputId": "3af31716-5e46-43c6-8965-138c43f39bb6"
      },
      "execution_count": 21,
      "outputs": [
        {
          "output_type": "stream",
          "name": "stdout",
          "text": [
            "Equipo1: Tipo=Computadora, Estado=en reparación\n",
            "Equipo2: Tipo=Impresora, Estado=en reparación\n",
            "Equipo3: Tipo=Escáner, Estado=dado de baja\n"
          ]
        }
      ]
    },
    {
      "cell_type": "markdown",
      "source": [
        "### Ejercicio en clase: Registro de Actividades Diarias\n",
        "\n",
        "Crea un programa para registrar las actividades diarias de empleados en una institución pública. El programa debe permitir agregar actividades con la duración en minutos. Luego, debe calcular el total de tiempo dedicado a las actividades y mostrar un resumen.\n",
        "\n",
        "1.\tCrear una lista de actividades.\n",
        "2.\tAgregar al menos cinco actividades con su duración.\n",
        "3.\tCalcular el total de tiempo dedicado.\n",
        "4.\tImprimir un resumen de las actividades y el tiempo total."
      ],
      "metadata": {
        "id": "xWiVvzJRA127"
      }
    },
    {
      "cell_type": "code",
      "source": [
        "# Tu código acá"
      ],
      "metadata": {
        "id": "C13YVFQDA7HU"
      },
      "execution_count": 22,
      "outputs": []
    },
    {
      "cell_type": "markdown",
      "source": [
        "## Reto 1: Gestión de Incidentes\n",
        "\n",
        "**Contexto:** Trabajas en el departamento de TI de un ministerio y necesitas gestionar un registro de incidentes de seguridad.\n",
        "\n",
        "**Descripción del reto:**\n",
        "\n",
        "1.\tCrea un programa que lea una lista de incidentes de seguridad registrados en un sistema.\n",
        "2.\tCada incidente debe tener un identificador único, una descripción, una fecha y un estado (abierto, en progreso, cerrado).\n",
        "3.\tUsa un ciclo while para permitir a un administrador realizar las siguientes acciones en un menú:\n",
        "  *\tMostrar todos los incidentes.\n",
        "  *\tFiltrar incidentes por estado.\n",
        "  *\tActualizar el estado de un incidente específico.\n",
        "  *\tSalir del programa."
      ],
      "metadata": {
        "id": "tajtqFVG7R89"
      }
    },
    {
      "cell_type": "code",
      "source": [
        "incidentes = [\n",
        "    {\"id\": 1, \"descripcion\": \"Acceso no autorizado\", \"fecha\": \"2024-06-01\", \"estado\": \"abierto\"},\n",
        "    {\"id\": 2, \"descripcion\": \"Intento de phishing\", \"fecha\": \"2024-06-02\", \"estado\": \"en progreso\"},\n",
        "    {\"id\": 3, \"descripcion\": \"Malware detectado\", \"fecha\": \"2024-06-03\", \"estado\": \"cerrado\"}\n",
        "]\n",
        "\n",
        "# Tu código va acá"
      ],
      "metadata": {
        "id": "eHAVcywQ6AEY"
      },
      "execution_count": 10,
      "outputs": []
    },
    {
      "cell_type": "markdown",
      "source": [
        "## Reto 2: Análisis de Datos de Salud\n",
        "\n",
        "**Contexto:** Eres analista en una institución que audita empresas de salud y necesitas analizar los datos de salud de los pacientes.\n",
        "\n",
        "**Descripción del reto:**\n",
        "\n",
        "1.\tCrea un programa que lea un conjunto de datos de salud de pacientes, donde cada paciente tenga un identificador único, nombre, edad y una lista de diagnósticos.\n",
        "2.\tUsa un ciclo for para iterar sobre los pacientes y realizar las siguientes tareas:\n",
        "\t+\tImprimir el nombre y la edad de cada paciente.\n",
        "\t+\tContar cuántos pacientes tienen más de 60 años.\n",
        "\t+\tImprimir un informe de los diagnósticos más comunes entre los pacientes."
      ],
      "metadata": {
        "id": "U3qvFE3L7l0X"
      }
    },
    {
      "cell_type": "code",
      "source": [
        "pacientes = [\n",
        "    {\"id\": 1, \"nombre\": \"Juan Perez\", \"edad\": 45, \"diagnosticos\": [\"Hipertensión\", \"Diabetes\"]},\n",
        "    {\"id\": 2, \"nombre\": \"Maria Gomez\", \"edad\": 70, \"diagnosticos\": [\"Artritis\"]},\n",
        "    {\"id\": 3, \"nombre\": \"Carlos Sanchez\", \"edad\": 65, \"diagnosticos\": [\"Hipertensión\"]}\n",
        "]\n",
        "\n",
        "# Tu código va acá"
      ],
      "metadata": {
        "id": "2kA-aYG_7eSa"
      },
      "execution_count": 12,
      "outputs": []
    },
    {
      "cell_type": "code",
      "source": [],
      "metadata": {
        "id": "rs_oEyQY9w4j"
      },
      "execution_count": null,
      "outputs": []
    },
    {
      "cell_type": "markdown",
      "source": [
        "## Reto 3: Registro de Asistencia\n",
        "\n",
        "Crea un programa que registre la asistencia de empleados en una institución pública. El programa debe permitir agregar registros de asistencia diaria (nombre del empleado, fecha, asistencia: True/False). Luego, debe calcular el porcentaje de asistencia de cada empleado y mostrar un resumen.\n",
        "\n",
        "1.\tCrear una lista de registros de asistencia.\n",
        "2.\tAgregar al menos cinco registros con nombre del empleado, fecha y asistencia.\n",
        "3.\tCalcular el porcentaje de asistencia de cada empleado.\n",
        "4.\tImprimir un resumen de la asistencia de todos los empleados."
      ],
      "metadata": {
        "id": "ah9Pm4cBBfeP"
      }
    },
    {
      "cell_type": "code",
      "source": [
        "asistencia = [\n",
        "    {\"nombre\": \"Juan\", \"fecha\": \"2023-06-01\", \"asistencia\": True},\n",
        "    {\"nombre\": \"Ana\", \"fecha\": \"2023-06-01\", \"asistencia\": True},\n",
        "    {\"nombre\": \"Carlos\", \"fecha\": \"2023-06-01\", \"asistencia\": False},\n",
        "    {\"nombre\": \"Juan\", \"fecha\": \"2023-06-02\", \"asistencia\": False},\n",
        "    {\"nombre\": \"Ana\", \"fecha\": \"2023-06-02\", \"asistencia\": True}\n",
        "]\n",
        "\n",
        "# Tu código va acá"
      ],
      "metadata": {
        "id": "5wnj9YxaBjrO"
      },
      "execution_count": 23,
      "outputs": []
    },
    {
      "cell_type": "code",
      "source": [],
      "metadata": {
        "id": "HowKt9GUBntb"
      },
      "execution_count": null,
      "outputs": []
    }
  ]
}