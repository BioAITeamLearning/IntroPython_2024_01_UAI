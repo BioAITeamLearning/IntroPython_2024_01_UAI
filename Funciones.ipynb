{
  "nbformat": 4,
  "nbformat_minor": 0,
  "metadata": {
    "colab": {
      "provenance": []
    },
    "kernelspec": {
      "name": "python3",
      "display_name": "Python 3"
    },
    "language_info": {
      "name": "python"
    }
  },
  "cells": [
    {
      "cell_type": "markdown",
      "metadata": {
        "id": "ccpE2G3VUB4H"
      },
      "source": [
        "# Funciones\n",
        "\n",
        "\n",
        "<img src=\"https://s3-us-west-2.amazonaws.com/devcodepro/media/tutorials/funciones-en-python-t1.jpg\" width=500 >"
      ]
    },
    {
      "cell_type": "markdown",
      "metadata": {
        "id": "ZEH4KdMwUB4H"
      },
      "source": [
        "Python es un lenguaje **indentado**, no usa corchetes para delimitar el alcance de las estructuras de programación sino que se fija en los **cambios de indentación**.\n",
        "\n",
        "No se declara el tipo de los argumentos de las funciones. La semática de la implementación ha de estar preparada para funcionar con los tipos de datos que quieres.\n",
        "\n",
        "Las funciones son bloques de código reutilizables que realizan una tarea específica. En Python, las funciones se definen utilizando la palabra clave def, seguida del nombre de la función y los paréntesis que pueden contener parámetros.\n"
      ]
    },
    {
      "cell_type": "code",
      "source": [
        "# Definir funciones\n",
        "def saludar(nombre):\n",
        "    return f\"Hola, {nombre}!\""
      ],
      "metadata": {
        "id": "5LqTFminFV_P"
      },
      "execution_count": 34,
      "outputs": []
    },
    {
      "cell_type": "code",
      "source": [
        "print(saludar(\"Ana\"))"
      ],
      "metadata": {
        "colab": {
          "base_uri": "https://localhost:8080/"
        },
        "id": "B7Bc-EMhFYRe",
        "outputId": "87a9f949-2a27-41e1-bc30-68558b4b2962"
      },
      "execution_count": 35,
      "outputs": [
        {
          "output_type": "stream",
          "name": "stdout",
          "text": [
            "Hola, Ana!\n"
          ]
        }
      ]
    },
    {
      "cell_type": "code",
      "source": [
        "def suma(a, b):\n",
        "    return a + b"
      ],
      "metadata": {
        "id": "AsixuzxvFcb9"
      },
      "execution_count": 36,
      "outputs": []
    },
    {
      "cell_type": "code",
      "source": [
        "print(suma(3, 5))"
      ],
      "metadata": {
        "colab": {
          "base_uri": "https://localhost:8080/"
        },
        "id": "7wDA8GRTFeTg",
        "outputId": "d113592f-39aa-4a2c-d945-26367f00a433"
      },
      "execution_count": 37,
      "outputs": [
        {
          "output_type": "stream",
          "name": "stdout",
          "text": [
            "8\n"
          ]
        }
      ]
    },
    {
      "cell_type": "code",
      "execution_count": 38,
      "metadata": {
        "id": "hwKKPlvYUB4H",
        "scrolled": true
      },
      "outputs": [],
      "source": [
        "# Definir funciones\n",
        "def funcion_1(a,b):\n",
        "    r = a**2\n",
        "    return r+b"
      ]
    },
    {
      "cell_type": "code",
      "source": [
        "def greatest(a,b):\n",
        "    if a>b:\n",
        "        return a\n",
        "    else:\n",
        "        return b"
      ],
      "metadata": {
        "id": "FrYhl_4xCLvN"
      },
      "execution_count": 39,
      "outputs": []
    },
    {
      "cell_type": "code",
      "execution_count": 15,
      "metadata": {
        "colab": {
          "base_uri": "https://localhost:8080/"
        },
        "id": "b7Y0aS8YPW3G",
        "outputId": "ad3dba8a-d1b8-4ca8-e81a-5068a83a85d3"
      },
      "outputs": [
        {
          "output_type": "execute_result",
          "data": {
            "text/plain": [
              "110.16000000000001"
            ]
          },
          "metadata": {},
          "execution_count": 15
        }
      ],
      "source": [
        "# Llamados de funciones\n",
        "funcion_1 (10.4,2)"
      ]
    },
    {
      "cell_type": "code",
      "execution_count": 7,
      "metadata": {
        "colab": {
          "base_uri": "https://localhost:8080/"
        },
        "id": "G4fIm9dwPee_",
        "outputId": "a0d19fc5-0f0e-41ff-dfe6-f968f8293ec6"
      },
      "outputs": [
        {
          "output_type": "execute_result",
          "data": {
            "text/plain": [
              "10"
            ]
          },
          "metadata": {},
          "execution_count": 7
        }
      ],
      "source": [
        "greatest(10,2)"
      ]
    },
    {
      "cell_type": "markdown",
      "metadata": {
        "id": "inKB12zpUB4L"
      },
      "source": [
        "Podemos definir valores por defecto para los argumentos de las funciones y llamarlas usando explícitamente el nombre de los argumentos. Además, las funciones pueden devolver varios valores."
      ]
    },
    {
      "cell_type": "code",
      "source": [
        "# Valores por defecto\n",
        "def saludar(nombre=\"Mundo\"):\n",
        "    return f\"Hola, {nombre}!\""
      ],
      "metadata": {
        "id": "THs748WYFos1"
      },
      "execution_count": 40,
      "outputs": []
    },
    {
      "cell_type": "code",
      "source": [
        "print(saludar())\n",
        "print(saludar(\"Carlos\"))"
      ],
      "metadata": {
        "colab": {
          "base_uri": "https://localhost:8080/"
        },
        "id": "gxXfjrZ0FtWK",
        "outputId": "5a7c6f36-10a6-4d25-b916-800402143311"
      },
      "execution_count": 41,
      "outputs": [
        {
          "output_type": "stream",
          "name": "stdout",
          "text": [
            "Hola, Mundo!\n",
            "Hola, Carlos!\n"
          ]
        }
      ]
    },
    {
      "cell_type": "code",
      "execution_count": 16,
      "metadata": {
        "id": "VX4Cz1szUB4M"
      },
      "outputs": [],
      "source": [
        "def f_power(x, p=2):\n",
        "    return x**p"
      ]
    },
    {
      "cell_type": "code",
      "execution_count": 17,
      "metadata": {
        "colab": {
          "base_uri": "https://localhost:8080/"
        },
        "id": "5kYk6NRxQr_i",
        "outputId": "5895fab9-0a03-482e-acb1-35bed0df25e0"
      },
      "outputs": [
        {
          "output_type": "execute_result",
          "data": {
            "text/plain": [
              "9"
            ]
          },
          "metadata": {},
          "execution_count": 17
        }
      ],
      "source": [
        "f_power(x=3)"
      ]
    },
    {
      "cell_type": "code",
      "execution_count": 18,
      "metadata": {
        "colab": {
          "base_uri": "https://localhost:8080/"
        },
        "id": "_E2KCywqQsIo",
        "outputId": "c9df258f-c150-405a-ca56-2fba38ebca35"
      },
      "outputs": [
        {
          "output_type": "execute_result",
          "data": {
            "text/plain": [
              "81"
            ]
          },
          "metadata": {},
          "execution_count": 18
        }
      ],
      "source": [
        "f_power(p=4, x=3)"
      ]
    },
    {
      "cell_type": "code",
      "execution_count": 19,
      "metadata": {
        "id": "wVkyl6EkUB4O"
      },
      "outputs": [],
      "source": [
        "def f_power(x, p=2):\n",
        "    return x**p, x*p"
      ]
    },
    {
      "cell_type": "code",
      "execution_count": 20,
      "metadata": {
        "colab": {
          "base_uri": "https://localhost:8080/"
        },
        "id": "pCgEPvi-Q-BS",
        "outputId": "21a151a8-7fe8-4a86-92a5-cd9de662b1a9"
      },
      "outputs": [
        {
          "output_type": "stream",
          "name": "stdout",
          "text": [
            "81 12 \n",
            "\n"
          ]
        }
      ],
      "source": [
        "r = f_power(p=4, x=3)\n",
        "print(r[0],r[1],\"\\n\")"
      ]
    },
    {
      "cell_type": "code",
      "execution_count": 21,
      "metadata": {
        "colab": {
          "base_uri": "https://localhost:8080/"
        },
        "id": "GW4Qh_vnQ_s2",
        "outputId": "da82ca7f-b491-4830-e31b-56640dd0f10f"
      },
      "outputs": [
        {
          "output_type": "stream",
          "name": "stdout",
          "text": [
            "81\n",
            "12 \n",
            "\n"
          ]
        }
      ],
      "source": [
        "r1, r2 = f_power(p=4, x=3)\n",
        "print(r1)\n",
        "print(r2,\"\\n\")"
      ]
    },
    {
      "cell_type": "code",
      "execution_count": 23,
      "metadata": {
        "id": "HtHsrXySUB4Q"
      },
      "outputs": [],
      "source": [
        "def f_power(x, p=2):\n",
        "    return x**p\n",
        "\n",
        "def f_powers(x, p1=2, p2=3):\n",
        "    return x**p1, x**p2"
      ]
    },
    {
      "cell_type": "code",
      "execution_count": 24,
      "metadata": {
        "colab": {
          "base_uri": "https://localhost:8080/"
        },
        "id": "5SGirtGURhhU",
        "outputId": "c4a01514-73d7-4bec-a04b-e60a6c211f0d"
      },
      "outputs": [
        {
          "output_type": "execute_result",
          "data": {
            "text/plain": [
              "16"
            ]
          },
          "metadata": {},
          "execution_count": 24
        }
      ],
      "source": [
        "f_power(4)"
      ]
    },
    {
      "cell_type": "code",
      "execution_count": 25,
      "metadata": {
        "colab": {
          "base_uri": "https://localhost:8080/"
        },
        "id": "qBPYM-EfRl4l",
        "outputId": "c4c94e45-2277-4a06-db94-0298ba1504f0"
      },
      "outputs": [
        {
          "output_type": "execute_result",
          "data": {
            "text/plain": [
              "64"
            ]
          },
          "metadata": {},
          "execution_count": 25
        }
      ],
      "source": [
        "f_power(4,3)"
      ]
    },
    {
      "cell_type": "code",
      "execution_count": 26,
      "metadata": {
        "colab": {
          "base_uri": "https://localhost:8080/"
        },
        "id": "r9G8zWhKRnSH",
        "outputId": "39e9483e-0e63-4a0d-ba35-e46989f3f262"
      },
      "outputs": [
        {
          "output_type": "execute_result",
          "data": {
            "text/plain": [
              "(64, 64)"
            ]
          },
          "metadata": {},
          "execution_count": 26
        }
      ],
      "source": [
        "f_powers(4, p1=3)"
      ]
    },
    {
      "cell_type": "code",
      "execution_count": 27,
      "metadata": {
        "colab": {
          "base_uri": "https://localhost:8080/"
        },
        "id": "fohOXzAsRqE-",
        "outputId": "5821bf1d-c7d2-40cc-8572-3040762f9924"
      },
      "outputs": [
        {
          "output_type": "stream",
          "name": "stdout",
          "text": [
            "power1 64 power2 256\n"
          ]
        }
      ],
      "source": [
        "xp1, xp2 = f_powers(4, p2=4, p1=3)\n",
        "print(\"power1\",xp1, \"power2\", xp2)"
      ]
    },
    {
      "cell_type": "markdown",
      "metadata": {
        "id": "qa2gm3gcwv5J"
      },
      "source": [
        "## Paso por valor y referencia\n",
        "\n",
        "Dependiendo del tipo de dato que enviemos a la **función**, podemos diferenciar dos comportamientos:\n",
        "\n",
        "**Paso por valor**: Se crea una copia local de la variable dentro de la función.\n",
        "\n",
        "**Paso por referencia**: Se maneja directamente la variable, los cambios realizados dentro de la función le afectarán también fuera.\n",
        "\n",
        "Tradicionalmente:\n",
        "\n",
        "**Los tipos simples se pasan por valor**: Enteros, flotantes, cadenas, lógicos...\n",
        "\n",
        "**Los tipos compuestos se pasan por referencia**: Listas, diccionarios, conjuntos...\n"
      ]
    },
    {
      "cell_type": "markdown",
      "metadata": {
        "id": "wS7mnGAuxKVJ"
      },
      "source": [
        "**Ejemplo de paso por valor**\n",
        "\n",
        "Como ya sabemos los números se pasan por valor y crean una copia dentro de la función, por eso no les afecta externamente lo que hagamos con ellos:"
      ]
    },
    {
      "cell_type": "code",
      "execution_count": null,
      "metadata": {
        "id": "DZ32v6yOxl-j"
      },
      "outputs": [],
      "source": [
        "def doblar_valor(x):\n",
        "    x = 2*x\n",
        "    return x"
      ]
    },
    {
      "cell_type": "code",
      "execution_count": null,
      "metadata": {
        "colab": {
          "base_uri": "https://localhost:8080/"
        },
        "id": "FuhiIByByEaP",
        "outputId": "123d5e5c-3395-4962-f359-2d5d54a7107c"
      },
      "outputs": [
        {
          "name": "stdout",
          "output_type": "stream",
          "text": [
            "10 20\n"
          ]
        }
      ],
      "source": [
        "x=10\n",
        "doblar_valor(x)\n",
        "print(x,doblar_valor(x))"
      ]
    },
    {
      "cell_type": "markdown",
      "metadata": {
        "id": "5RNDoPqWzMC3"
      },
      "source": [
        "Para modificar los tipos simples podemos devolverlos modificados y reasignarlos:"
      ]
    },
    {
      "cell_type": "code",
      "execution_count": null,
      "metadata": {
        "colab": {
          "base_uri": "https://localhost:8080/"
        },
        "id": "FTgOjjCXzNbg",
        "outputId": "c001a003-da2d-4cc6-fac7-79333639e74b"
      },
      "outputs": [
        {
          "name": "stdout",
          "output_type": "stream",
          "text": [
            "20\n"
          ]
        }
      ],
      "source": [
        "x = 10\n",
        "x = doblar_valor(x)\n",
        "print(x)"
      ]
    },
    {
      "cell_type": "markdown",
      "metadata": {
        "id": "fC38H9NqykKM"
      },
      "source": [
        "**Ejemplo de paso por referencia**\n",
        "\n",
        "Sin embargo las listas u otras colecciones, al ser tipos compuestos se pasan por referencia, y si las modificamos dentro de la función estaremos modificándolas también fuera:"
      ]
    },
    {
      "cell_type": "code",
      "execution_count": null,
      "metadata": {
        "id": "eHRDWVZfyitu"
      },
      "outputs": [],
      "source": [
        "def doblar_valores(y):\n",
        "    for i,n in enumerate(y):\n",
        "        y[i] = 2*y[i]"
      ]
    },
    {
      "cell_type": "code",
      "execution_count": null,
      "metadata": {
        "id": "TkPDHM0e49I5"
      },
      "outputs": [],
      "source": [
        "y=[1,2,3]"
      ]
    },
    {
      "cell_type": "code",
      "execution_count": null,
      "metadata": {
        "id": "_YNke5IrjzvR"
      },
      "outputs": [],
      "source": [
        "doblar_valores(y)"
      ]
    },
    {
      "cell_type": "code",
      "execution_count": null,
      "metadata": {
        "colab": {
          "base_uri": "https://localhost:8080/"
        },
        "id": "20qNiWYMj2zk",
        "outputId": "c9752cd7-57f7-450a-c5a8-3eea0e96212f"
      },
      "outputs": [
        {
          "name": "stdout",
          "output_type": "stream",
          "text": [
            "[2, 4, 6]\n"
          ]
        }
      ],
      "source": [
        "print(y)"
      ]
    },
    {
      "cell_type": "markdown",
      "source": [
        "## Ejemplo: Sistema de Gestión de Tareas\n",
        "\n",
        "Crea un programa para gestionar tareas en una institución pública. Debe permitir agregar tareas con su descripción y estado (pendiente, en progreso, completada), actualizar el estado de una tarea específica y mostrar un resumen de todas las tareas.\n",
        "\n",
        "1.\tDefinir una lista de tareas.\n",
        "2.\tCrear funciones para agregar una tarea, actualizar el estado de una tarea y mostrar un resumen de todas las tareas.\n",
        "3.\tAsegurarse de que las tareas se pasen por referencia para que los cambios se reflejen fuera de las funciones.\n",
        "\n"
      ],
      "metadata": {
        "id": "6Y-vUFFLFz-g"
      }
    },
    {
      "cell_type": "code",
      "source": [
        "def agregar_tarea(tareas, descripcion, estado=\"pendiente\"):\n",
        "    tarea = {\"descripcion\": descripcion, \"estado\": estado}\n",
        "    tareas.append(tarea)\n",
        "\n",
        "def actualizar_estado(tareas, descripcion, nuevo_estado):\n",
        "    for tarea in tareas:\n",
        "        if tarea[\"descripcion\"] == descripcion:\n",
        "            tarea[\"estado\"] = nuevo_estado\n",
        "\n",
        "def mostrar_resumen(tareas):\n",
        "    for tarea in tareas:\n",
        "        print(f\"Descripción: {tarea['descripcion']}, Estado: {tarea['estado']}\")\n"
      ],
      "metadata": {
        "id": "n-VDWf7aF8KW"
      },
      "execution_count": 44,
      "outputs": []
    },
    {
      "cell_type": "code",
      "source": [
        "# Lista de tareas\n",
        "tareas = []\n",
        "\n",
        "# Agregar tareas\n",
        "agregar_tarea(tareas, \"Revisión de documentos\")\n",
        "agregar_tarea(tareas, \"Reparación de equipo\", \"en progreso\")\n",
        "agregar_tarea(tareas, \"Solicitud de información\", \"completada\")"
      ],
      "metadata": {
        "id": "ohKpfHGnGBKc"
      },
      "execution_count": 45,
      "outputs": []
    },
    {
      "cell_type": "code",
      "source": [
        "# Actualizar estado de una tarea\n",
        "actualizar_estado(tareas, \"Revisión de documentos\", \"completada\")"
      ],
      "metadata": {
        "id": "s2a4RwB7GBnp"
      },
      "execution_count": 46,
      "outputs": []
    },
    {
      "cell_type": "code",
      "source": [
        "# Mostrar resumen de tareas\n",
        "mostrar_resumen(tareas)"
      ],
      "metadata": {
        "colab": {
          "base_uri": "https://localhost:8080/"
        },
        "id": "_qrX40RvGHan",
        "outputId": "01e8c950-d1c4-4db4-dfa8-de36d4e2645a"
      },
      "execution_count": 47,
      "outputs": [
        {
          "output_type": "stream",
          "name": "stdout",
          "text": [
            "Descripción: Revisión de documentos, Estado: completada\n",
            "Descripción: Reparación de equipo, Estado: en progreso\n",
            "Descripción: Solicitud de información, Estado: completada\n"
          ]
        }
      ]
    },
    {
      "cell_type": "markdown",
      "source": [
        "## Ejemplo: Registro de Asistencia\n",
        "\n",
        "Crea un programa que registre la asistencia de empleados en una institución pública. El programa debe permitir agregar registros de asistencia diaria (nombre del empleado, fecha, asistencia: True/False). Luego, debe calcular el porcentaje de asistencia de cada empleado y mostrar un resumen.\n",
        "\n",
        "1.\tCrear una lista de registros de asistencia.\n",
        "2.\tCrear funciones para agregar un registro de asistencia, calcular el porcentaje de asistencia y mostrar un resumen de la asistencia de todos los empleados."
      ],
      "metadata": {
        "id": "qRMVcglyGMxt"
      }
    },
    {
      "cell_type": "code",
      "source": [
        "def agregar_asistencia(asistencias, nombre, fecha, presente):\n",
        "    registro = {\"nombre\": nombre, \"fecha\": fecha, \"asistencia\": presente}\n",
        "    asistencias.append(registro)\n",
        "\n",
        "def calcular_porcentaje_asistencia(asistencias, nombre):\n",
        "    total_dias = 0\n",
        "    dias_asistidos = 0\n",
        "    for registro in asistencias:\n",
        "        if registro[\"nombre\"] == nombre:\n",
        "            total_dias += 1\n",
        "            if registro[\"asistencia\"]:\n",
        "                dias_asistidos += 1\n",
        "    if total_dias == 0:\n",
        "        return 0\n",
        "    return (dias_asistidos / total_dias) * 100"
      ],
      "metadata": {
        "id": "H6uQHhVPGIvg"
      },
      "execution_count": 48,
      "outputs": []
    },
    {
      "cell_type": "code",
      "source": [
        "def mostrar_resumen_asistencia(asistencias):\n",
        "    empleados = {}\n",
        "    for registro in asistencias:\n",
        "        nombre = registro[\"nombre\"]\n",
        "        if nombre not in empleados:\n",
        "            empleados[nombre] = {\"asistencias\": 0, \"total\": 0}\n",
        "        empleados[nombre][\"total\"] += 1\n",
        "        if registro[\"asistencia\"]:\n",
        "            empleados[nombre][\"asistencias\"] += 1\n",
        "\n",
        "    for nombre, datos in empleados.items():\n",
        "        porcentaje_asistencia = (datos[\"asistencias\"] / datos[\"total\"]) * 100\n",
        "        print(f\"{nombre}: {porcentaje_asistencia:.2f}% de asistencia\")"
      ],
      "metadata": {
        "id": "5t3jzXJqGcCF"
      },
      "execution_count": 49,
      "outputs": []
    },
    {
      "cell_type": "code",
      "source": [
        "# Lista de registros de asistencia\n",
        "asistencias = []\n",
        "\n",
        "# Agregar registros de asistencia\n",
        "agregar_asistencia(asistencias, \"Juan\", \"2023-06-01\", True)\n",
        "agregar_asistencia(asistencias, \"Ana\", \"2023-06-01\", True)\n",
        "agregar_asistencia(asistencias, \"Carlos\", \"2023-06-01\", False)\n",
        "agregar_asistencia(asistencias, \"Juan\", \"2023-06-02\", False)\n",
        "agregar_asistencia(asistencias, \"Ana\", \"2023-06-02\", True)"
      ],
      "metadata": {
        "id": "zAZsJH3HGcvP"
      },
      "execution_count": 50,
      "outputs": []
    },
    {
      "cell_type": "code",
      "source": [
        "# Calcular porcentaje de asistencia de un empleado específico\n",
        "porcentaje_juan = calcular_porcentaje_asistencia(asistencias, \"Juan\")\n",
        "print(f\"Juan: {porcentaje_juan:.2f}% de asistencia\")\n"
      ],
      "metadata": {
        "colab": {
          "base_uri": "https://localhost:8080/"
        },
        "id": "SwvTakO5GhRJ",
        "outputId": "fde99601-119b-420c-ed8a-2e7a7da87c59"
      },
      "execution_count": 51,
      "outputs": [
        {
          "output_type": "stream",
          "name": "stdout",
          "text": [
            "Juan: 50.00% de asistencia\n"
          ]
        }
      ]
    },
    {
      "cell_type": "code",
      "source": [
        "# Mostrar resumen de asistencia de todos los empleados\n",
        "mostrar_resumen_asistencia(asistencias)"
      ],
      "metadata": {
        "colab": {
          "base_uri": "https://localhost:8080/"
        },
        "id": "hdgFVqO1GiaU",
        "outputId": "4014923f-7499-4d0c-8d8c-56052a394d87"
      },
      "execution_count": 52,
      "outputs": [
        {
          "output_type": "stream",
          "name": "stdout",
          "text": [
            "Juan: 50.00% de asistencia\n",
            "Ana: 100.00% de asistencia\n",
            "Carlos: 0.00% de asistencia\n"
          ]
        }
      ]
    },
    {
      "cell_type": "markdown",
      "source": [
        "## Reto 1: Sistema de Gestión de Proyectos\n",
        "\n",
        "Crea un programa para gestionar proyectos en una institución pública. El programa debe permitir agregar proyectos con su nombre, descripción, fecha de inicio y fecha de finalización. Además, debe permitir actualizar el estado de un proyecto (planificado, en curso, completado), y mostrar un resumen de todos los proyectos.\n",
        "\n",
        "1.\tDefinir una lista de proyectos.\n",
        "2.\tCrear funciones para agregar un proyecto, actualizar el estado de un proyecto, y mostrar un resumen de todos los proyectos.\n",
        "3.\tAsegurarse de que los proyectos se pasen por referencia para que los cambios se reflejen fuera de las funciones."
      ],
      "metadata": {
        "id": "_7xIYoIXG5so"
      }
    },
    {
      "cell_type": "code",
      "source": [
        "# Tu código va acá"
      ],
      "metadata": {
        "id": "tRAXHOe-GjrB"
      },
      "execution_count": 53,
      "outputs": []
    },
    {
      "cell_type": "markdown",
      "source": [
        "## Reto 2: Sistema de Registro de Vehículos\n",
        "\n",
        "Crea un programa que registre los vehículos de una institución pública. El programa debe permitir agregar vehículos con su número de placa, marca, modelo, año y estado (activo, en mantenimiento, dado de baja). Además, debe permitir actualizar el estado de un vehículo específico y mostrar un resumen de todos los vehículos.\n",
        "\n",
        "1.\tCrear una lista de vehículos.\n",
        "2.\tCrear funciones para agregar un vehículo, actualizar el estado de un vehículo y mostrar un resumen de todos los vehículos.\n",
        "3.\tAsegurarse de que los vehículos se pasen por referencia para que los cambios se reflejen fuera de las funciones."
      ],
      "metadata": {
        "id": "z0pxS0-3HHFx"
      }
    },
    {
      "cell_type": "code",
      "source": [],
      "metadata": {
        "id": "nhhHPGgFHGkS"
      },
      "execution_count": null,
      "outputs": []
    }
  ]
}